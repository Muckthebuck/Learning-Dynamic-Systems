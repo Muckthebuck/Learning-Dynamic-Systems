{
 "cells": [
  {
   "cell_type": "markdown",
   "metadata": {},
   "source": [
    "#### Generate set of (A,B)"
   ]
  },
  {
   "cell_type": "code",
   "execution_count": 2,
   "metadata": {},
   "outputs": [],
   "source": [
    "import numpy as np\n",
    "from generate_perturbed import generate_perturbed\n",
    "\n",
    "A0 = np.array([[0, 0, 0, -0.048],\n",
    "               [1, 0, 0, 0.676],\n",
    "               [0, 1, 0, -2.21],\n",
    "               [0, 0, 1, 2.6]])\n",
    "B0 = np.array([[-0.12], [0.68], [-1.4], [1]])\n",
    "\n",
    "n_states = 4\n",
    "n_plants = 2048\n",
    "\n",
    "A_list = generate_perturbed(A0, n_plants, 0.01)\n",
    "B_list = generate_perturbed(B0, n_plants, 0.005)\n",
    "\n",
    "A_mat = np.stack(A_list, axis=2)\n",
    "B_mat = np.stack(B_list, axis=2)\n",
    "\n",
    "A_uncertain = np.array([[False, False, False, True],\n",
    "                         [False, False, False, True],\n",
    "                         [False, False, False, True],\n",
    "                         [False, False, False, True]])\n",
    "\n",
    "B_uncertain = np.array([[True], [True], [True], [True]])\n"
   ]
  },
  {
   "cell_type": "markdown",
   "metadata": {},
   "source": [
    "#### Qhull"
   ]
  },
  {
   "cell_type": "code",
   "execution_count": 7,
   "metadata": {},
   "outputs": [],
   "source": [
    "import numpy as np\n",
    "from scipy.spatial import ConvexHull\n",
    "import time"
   ]
  },
  {
   "cell_type": "code",
   "execution_count": 8,
   "metadata": {},
   "outputs": [
    {
     "name": "stdout",
     "output_type": "stream",
     "text": [
      "> convhull() complete\n",
      "> Number of constraints reduced from 2048 to 817\n",
      "> Elapsed time: 18.1594 seconds\n"
     ]
    }
   ],
   "source": [
    "tic = time.time()\n",
    "\n",
    "# Extract the uncertain entries of {(A,B)}\n",
    "n_unc_A = np.sum(A_uncertain)\n",
    "n_unc_B = np.sum(B_uncertain)\n",
    "A_unc_entries = np.zeros((n_plants, n_unc_A))\n",
    "B_unc_entries = np.zeros((n_plants, n_unc_B))\n",
    "\n",
    "for i in range(n_plants):\n",
    "    A_unc_entries[i, :] = A_list[i][A_uncertain]\n",
    "    B_unc_entries[i, :] = B_list[i][B_uncertain]\n",
    "\n",
    "# Compute hull\n",
    "unc_entries = np.hstack((A_unc_entries, B_unc_entries))\n",
    "hull = ConvexHull(unc_entries)\n",
    "hull_idx = np.unique(hull.vertices)  # Unique vertices to avoid duplicate simplices\n",
    "verts = unc_entries[hull_idx, :]\n",
    "n_AB = len(verts)\n",
    "\n",
    "print(\"> convhull() complete\")\n",
    "print(f\"> Number of constraints reduced from {n_plants} to {n_AB}\")\n",
    "\n",
    "toc = time.time()\n",
    "print(f\"> Elapsed time: {toc - tic:.4f} seconds\")\n"
   ]
  },
  {
   "cell_type": "code",
   "execution_count": 9,
   "metadata": {},
   "outputs": [
    {
     "name": "stdout",
     "output_type": "stream",
     "text": [
      "> convhull() complete\n",
      "> Number of constraints reduced from 2048 to 817\n",
      "> Elapsed time: 13.8889 seconds\n"
     ]
    }
   ],
   "source": [
    "tic = time.time()\n",
    "\n",
    "# Extract uncertain entries directly using NumPy advanced indexing\n",
    "A_unc_entries = np.array([A[A_uncertain] for A in A_list])\n",
    "B_unc_entries = np.array([B[B_uncertain] for B in B_list])\n",
    "\n",
    "# Compute convex hull only for unique uncertain entries\n",
    "unc_entries = np.hstack((A_unc_entries, B_unc_entries))\n",
    "hull = ConvexHull(unc_entries, qhull_options=\"QJ\")  # QJ helps with precision & speed\n",
    "verts = unc_entries[hull.vertices, :]\n",
    "n_AB = len(verts)\n",
    "\n",
    "print(\"> convhull() complete\")\n",
    "print(f\"> Number of constraints reduced from {n_plants} to {n_AB}\")\n",
    "\n",
    "toc = time.time()\n",
    "print(f\"> Elapsed time: {toc - tic:.4f} seconds\")\n"
   ]
  },
  {
   "cell_type": "markdown",
   "metadata": {},
   "source": [
    "#### Clarkson's algorithm, hull.exe"
   ]
  },
  {
   "cell_type": "code",
   "execution_count": 10,
   "metadata": {},
   "outputs": [],
   "source": [
    "# A_unc_entries = np.array([A[A_uncertain] for A in A_list])\n",
    "# B_unc_entries = np.array([B[B_uncertain] for B in B_list])\n",
    "# unc_entries = np.hstack((A_unc_entries, B_unc_entries))\n",
    "\n",
    "# n_dimensions = unc_entries.shape[1]\n",
    "# n_points = unc_entries.shape[0]\n",
    "# output = \"\"\n",
    "\n",
    "# with open(\"C:\\\\users\\\\conor\\\\hull\\\\input.txt\", \"w\") as file:\n",
    "#     for point in unc_entries:\n",
    "#         file.write(\" \".join(f\"{value:.8f}\" for value in point) + \"\\n\")\n",
    "# print(f\"File input.txt has been created successfully.\")"
   ]
  },
  {
   "cell_type": "markdown",
   "metadata": {},
   "source": [
    "#### MVEE"
   ]
  },
  {
   "cell_type": "code",
   "execution_count": null,
   "metadata": {},
   "outputs": [
    {
     "data": {
      "text/plain": [
       "[]"
      ]
     },
     "execution_count": 4,
     "metadata": {},
     "output_type": "execute_result"
    }
   ],
   "source": []
  }
 ],
 "metadata": {
  "kernelspec": {
   "display_name": "capstone_v2",
   "language": "python",
   "name": "python3"
  },
  "language_info": {
   "codemirror_mode": {
    "name": "ipython",
    "version": 3
   },
   "file_extension": ".py",
   "mimetype": "text/x-python",
   "name": "python",
   "nbconvert_exporter": "python",
   "pygments_lexer": "ipython3",
   "version": "3.9.0"
  }
 },
 "nbformat": 4,
 "nbformat_minor": 2
}
