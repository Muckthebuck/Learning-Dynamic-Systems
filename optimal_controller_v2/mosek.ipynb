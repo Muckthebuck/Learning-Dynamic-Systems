{
 "cells": [
  {
   "cell_type": "code",
   "execution_count": 1,
   "metadata": {},
   "outputs": [],
   "source": [
    "# pip install mosek\n",
    "\n",
    "import numpy as np\n",
    "from generate_perturbed import generate_perturbed\n",
    "from scipy.spatial import ConvexHull\n",
    "import mosek.fusion as mf\n",
    "import mosek.fusion.pythonic      # Provides operators +, -, @, .T, slicing etc."
   ]
  },
  {
   "cell_type": "code",
   "execution_count": 2,
   "metadata": {},
   "outputs": [],
   "source": [
    "A0 = np.array([[0, 0, 0, -0.048],\n",
    "               [1, 0, 0, 0.676],\n",
    "               [0, 1, 0, -2.21],\n",
    "               [0, 0, 1, 2.6]])\n",
    "B0 = np.array([[-0.12], [0.68], [-1.4], [1]])\n",
    "n_states = 4\n",
    "n_inputs = 1\n",
    "A_uncertain = np.array([[False, False, False, True],\n",
    "                         [False, False, False, True],\n",
    "                         [False, False, False, True],\n",
    "                         [False, False, False, True]])\n",
    "B_uncertain = np.array([[True], [True], [True], [True]])\n",
    "\n",
    "# A0 = np.array([[0, 0, 1.2],\n",
    "#                [1, 0, -3.2],\n",
    "#                [0, 1, 3.1]])\n",
    "# B0 = np.array([[-0.2], [-0.8], [1]])\n",
    "# n_states = 3\n",
    "# n_inputs = 1\n",
    "# A_uncertain = np.array([[False, False, True],\n",
    "#                         [False, False, True],\n",
    "#                         [False, False, True]])\n",
    "# B_uncertain = np.array([[True], [True], [True]])\n",
    "\n",
    "n_plants = 256\n",
    "A_list = generate_perturbed(A0, n_plants, 0.005)\n",
    "B_list = generate_perturbed(B0, n_plants, 0.005)\n"
   ]
  },
  {
   "cell_type": "code",
   "execution_count": 3,
   "metadata": {},
   "outputs": [],
   "source": [
    "n_unc_A = np.sum(A_uncertain)\n",
    "n_unc_B = np.sum(B_uncertain)\n",
    "A_unc_entries = np.zeros(n_plants, n_unc_A)\n",
    "B_unc_entries = np.zeros(n_plants, n_unc_B)\n",
    "A_unc_entries = [A_list[i][A_uncertain] for i in range(n_plants)]\n",
    "B_unc_entries = [B_list[i][B_uncertain] for i in range(n_plants)]"
   ]
  },
  {
   "cell_type": "code",
   "execution_count": 4,
   "metadata": {},
   "outputs": [
    {
     "name": "stdout",
     "output_type": "stream",
     "text": [
      "> Convex hull of A set has 50 vertices\n",
      "> Convex hull of B set has 51 vertices\n",
      "> This will lead to 2550 LMI constraints\n"
     ]
    }
   ],
   "source": [
    "hull_A = ConvexHull(A_unc_entries)\n",
    "A_hull_idx = np.unique(hull_A.vertices) # Extract unique vertices\n",
    "v_A = [A_unc_entries[i] for i in A_hull_idx]\n",
    "v_A = np.array(v_A)\n",
    "n_A = v_A.shape[0]\n",
    "\n",
    "hull_B = ConvexHull(B_unc_entries)\n",
    "B_hull_idx = np.unique(hull_B.vertices)\n",
    "v_B = [B_unc_entries[i] for i in B_hull_idx]\n",
    "v_B = np.array(v_B)\n",
    "n_B = v_B.shape[0]\n",
    "\n",
    "print(f\"> Convex hull of A set has {n_A} vertices\")\n",
    "print(f\"> Convex hull of B set has {n_B} vertices\")\n",
    "print(f\"> This will lead to {n_A*n_B} LMI constraints\")"
   ]
  },
  {
   "cell_type": "code",
   "execution_count": 5,
   "metadata": {},
   "outputs": [],
   "source": [
    "# map back to matrix space\n",
    "\n",
    "A0 = A_list[0]\n",
    "A_verts = [A0.copy() for _ in range(n_A)]  \n",
    "for i in range(n_A):\n",
    "    A_verts[i][A_uncertain] = v_A[i]\n",
    "\n",
    "B0 = B_list[0]\n",
    "B_verts = [B0.copy() for _ in range(n_B)]  \n",
    "for i in range(n_B):\n",
    "    B_verts[i][B_uncertain] = v_B[i]"
   ]
  },
  {
   "cell_type": "code",
   "execution_count": 6,
   "metadata": {},
   "outputs": [
    {
     "name": "stdout",
     "output_type": "stream",
     "text": [
      "> Defined 2550 LMI constraints\n"
     ]
    }
   ],
   "source": [
    "pd_eps = 1e-3\n",
    "\n",
    "# Create a new model\n",
    "M = mf.Model(\"Simultaneous stabilisation LMI\")\n",
    "\n",
    "\n",
    "M = mf.Model(\"Simultaneous stabilisation LMI\")\n",
    "G = M.variable(\"G\", [n_states, n_states], mf.Domain.unbounded())\n",
    "L = M.variable(\"L\", [1, n_states], mf.Domain.unbounded())\n",
    "P_ij = [[M.variable(f\"P_{i}_{j}\", [n_states, n_states], mf.Domain.inPSDCone()) for j in range(n_B)] for i in range(n_A)]\n",
    "\n",
    "for i in range(n_A):\n",
    "    for j in range(n_B):\n",
    "        # Construct the ij'th LMI constraint\n",
    "        A, B = A_verts[i], B_verts[j]\n",
    "        P = P_ij[i][j]\n",
    "        AG_plus_BL =  A @ G + B @ L\n",
    "        LMI_ij = mf.Expr.vstack(\n",
    "            mf.Expr.hstack(P, AG_plus_BL),\n",
    "            mf.Expr.hstack(AG_plus_BL.T, G + G.T - P)\n",
    "        )\n",
    "        pd_defn = pd_eps * np.eye(2 * n_states)\n",
    "        M.constraint(LMI_ij - pd_defn, mf.Domain.inPSDCone(2 * n_states))\n",
    "\n",
    "print(f\"> Defined {n_A*n_B} LMI constraints\")"
   ]
  },
  {
   "cell_type": "code",
   "execution_count": 7,
   "metadata": {},
   "outputs": [
    {
     "name": "stdout",
     "output_type": "stream",
     "text": [
      "> Computed simultaneously stabilising feedback gain, K = [[ 0.19086357 -0.36935648  0.34881276  1.85255551]]\n"
     ]
    }
   ],
   "source": [
    "import sys\n",
    "\n",
    "# M.setLogHandler(sys.stdout)\n",
    "M.solve()\n",
    "G_val = np.array(G.level()).reshape(n_states, n_states)\n",
    "L_val = np.array(L.level()).reshape(1, n_states)\n",
    "K = -L_val @ np.linalg.inv(G_val) # K = -L * inv(G)\n",
    "\n",
    "print(f\"> Computed simultaneously stabilising feedback gain, K = {K}\")"
   ]
  },
  {
   "cell_type": "code",
   "execution_count": 8,
   "metadata": {},
   "outputs": [
    {
     "name": "stdout",
     "output_type": "stream",
     "text": [
      "Current worst-case J: 89.54212806923687\n",
      "Current worst-case J: 86.83790020846745\n",
      "Current worst-case J: 86.72471518675772\n",
      "Current worst-case J: 86.54984299770051\n",
      "Current worst-case J: 86.27174668900014\n",
      "Current worst-case J: 86.11887630825262\n",
      "Current worst-case J: 86.10894709818974\n",
      "Current worst-case J: 86.10676718122751\n",
      "> Worst J using initial K: 91.5793\n",
      "> Worst J using optimized K: 86.1068\n"
     ]
    }
   ],
   "source": [
    "from scipy.optimize import minimize\n",
    "from Jcalcs import compute_worst_case_J\n",
    "\n",
    "Q = np.eye(n_states)\n",
    "R = 1\n",
    "x_0 = None # or something like x_0 = np.array([[0],[0],[1]]) can be used as required\n",
    "delta_J_tol = 1e-2\n",
    "\n",
    "assert compute_worst_case_J(K, A_list, B_list, Q, R, x_0) != np.inf\n",
    "np.seterr(invalid='ignore') # Suppress runtime warnings related to invalid values (J==Inf)\n",
    "objective      = lambda K: compute_worst_case_J(K.reshape(n_inputs,n_states), A_list, B_list, Q, R, x_0)\n",
    "disp_current_J = lambda K: print(f\"Current worst-case J: {compute_worst_case_J(K.reshape(n_inputs,n_states), A_list, B_list, Q, R, x_0)}\")\n",
    "results = minimize(objective, K.flatten(), method=\"BFGS\", options={\"disp\": False, \"xrtol\": delta_J_tol}, callback=disp_current_J)\n",
    "np.seterr(invalid='warn')\n",
    "K_optimized = results.x.reshape(n_inputs,n_states)\n",
    "\n",
    "worst_J = compute_worst_case_J(K, A_list, B_list, Q, R)\n",
    "worst_J_optimized = compute_worst_case_J(K_optimized, A_list, B_list, Q, R)\n",
    "print(f\"> Worst J using initial K: {worst_J:.4f}\")\n",
    "print(f\"> Worst J using optimized K: {worst_J_optimized:.4f}\")"
   ]
  }
 ],
 "metadata": {
  "kernelspec": {
   "display_name": "capstone_v2",
   "language": "python",
   "name": "python3"
  },
  "language_info": {
   "codemirror_mode": {
    "name": "ipython",
    "version": 3
   },
   "file_extension": ".py",
   "mimetype": "text/x-python",
   "name": "python",
   "nbconvert_exporter": "python",
   "pygments_lexer": "ipython3",
   "version": "3.9.0"
  }
 },
 "nbformat": 4,
 "nbformat_minor": 2
}
