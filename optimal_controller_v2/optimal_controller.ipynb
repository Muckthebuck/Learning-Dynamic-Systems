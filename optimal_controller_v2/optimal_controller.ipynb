{
 "cells": [
  {
   "cell_type": "code",
   "execution_count": 13,
   "metadata": {},
   "outputs": [],
   "source": [
    "# pip install mosek\n",
    "\n",
    "import numpy as np\n",
    "from generate_perturbed import generate_perturbed\n",
    "from optimal_controller import OptimalControlSolver"
   ]
  },
  {
   "cell_type": "code",
   "execution_count": 14,
   "metadata": {},
   "outputs": [],
   "source": [
    "n_states = 4\n",
    "n_inputs = 1\n",
    "A0 = np.array([[0, 0, 0, -0.048],\n",
    "               [1, 0, 0, 0.676],\n",
    "               [0, 1, 0, -2.21],\n",
    "               [0, 0, 1, 2.6]])\n",
    "B0 = np.array([[-0.12], [0.68], [-1.4], [1]])\n",
    "\n",
    "n_plants = 128\n",
    "A_list = generate_perturbed(A0, n_plants, 0.05)\n",
    "B_list = generate_perturbed(B0, n_plants, 0.01)"
   ]
  },
  {
   "cell_type": "code",
   "execution_count": 15,
   "metadata": {},
   "outputs": [
    {
     "name": "stdout",
     "output_type": "stream",
     "text": [
      "> Convex hull of A set has 48 vertices\n",
      "> Convex hull of B set has 49 vertices\n",
      "> This will lead to 2352 LMI constraints\n",
      "> Defined 2352 LMI constraints\n",
      "> SolutionStatus.Optimal, simultaneously stabilising feedback gain is K = [[ 0.280 -0.034  0.948  2.439]]\n",
      "> Optimised the simultaneously stabilising feedback gain, yielding K = [[0.293 0.023 1.026 2.415]]\n",
      "> Worst J using initial K: 242.5901\n",
      "> Worst J using optimized K: 172.8437\n"
     ]
    }
   ],
   "source": [
    "ocSolver = OptimalControlSolver(A_list,B_list)\n",
    "ocSolver.solve()"
   ]
  },
  {
   "cell_type": "code",
   "execution_count": 16,
   "metadata": {},
   "outputs": [
    {
     "name": "stdout",
     "output_type": "stream",
     "text": [
      "> Computed solution via Riccati heuristic, K = [[0.856 0.738 1.468 2.992]]\n",
      "> Riccati heuristic did not return a stabilising controller!\n"
     ]
    }
   ],
   "source": [
    "ocSolver.solve(method='riccati')"
   ]
  }
 ],
 "metadata": {
  "kernelspec": {
   "display_name": "capstone_v2",
   "language": "python",
   "name": "python3"
  },
  "language_info": {
   "codemirror_mode": {
    "name": "ipython",
    "version": 3
   },
   "file_extension": ".py",
   "mimetype": "text/x-python",
   "name": "python",
   "nbconvert_exporter": "python",
   "pygments_lexer": "ipython3",
   "version": "3.9.0"
  }
 },
 "nbformat": 4,
 "nbformat_minor": 2
}
