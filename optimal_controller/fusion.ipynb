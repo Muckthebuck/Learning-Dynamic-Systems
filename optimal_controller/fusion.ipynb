{
 "cells": [
  {
   "cell_type": "markdown",
   "metadata": {},
   "source": [
    "#### Imports"
   ]
  },
  {
   "cell_type": "code",
   "execution_count": null,
   "metadata": {},
   "outputs": [],
   "source": [
    "import numpy as np\n",
    "import matplotlib.pyplot as plt\n",
    "import scipy\n",
    "from scipy import signal\n",
    "import os\n",
    "import torch\n",
    "from fusion import get_conf_region, plot_pts_in_conf_region\n",
    "np.random.seed(42)"
   ]
  },
  {
   "cell_type": "markdown",
   "metadata": {},
   "source": [
    "#### ARMAX class"
   ]
  },
  {
   "cell_type": "code",
   "execution_count": null,
   "metadata": {},
   "outputs": [],
   "source": [
    "class ARMAX:\n",
    "    def __init__(self, A, B, C, F, L):\n",
    "        self.A = np.array(A)\n",
    "        self.B = np.array(B)\n",
    "        self.C = np.array(C)\n",
    "        self.F = np.array(F)\n",
    "        self.L = np.array(L)\n",
    "        # np.random.seed(42)\n",
    "    \n",
    "    def simulate(self, n_samples, R=None, noise_std=0.1):\n",
    "        Y = np.zeros(n_samples)\n",
    "        U = np.zeros(n_samples)\n",
    "        N = np.random.normal(0, noise_std, n_samples)\n",
    "        \n",
    "        if R is None:\n",
    "            R = np.zeros(n_samples)\n",
    "        \n",
    "        max_order = max(len(self.A), len(self.B), len(self.C), len(self.F), len(self.L))\n",
    "        \n",
    "        for t in range(max_order, n_samples):\n",
    "            Y[t] = (- np.dot(self.A[1:], Y[t-1:t-len(self.A):-1]) \n",
    "                    + np.dot(self.B, U[t-1:t-len(self.B)-1:-1])\n",
    "                    + np.dot(self.C, N[t:t-len(self.C):-1]))\n",
    "            \n",
    "            U[t] = (np.dot(self.L, R[t:t-len(self.L):-1]) \n",
    "                    - np.dot(self.F, Y[t:t-len(self.F):-1]))\n",
    "        \n",
    "        return Y, U, N, R\n",
    "    \n",
    "    def plot_results(self, Y, U, N, R):\n",
    "        fig, axs = plt.subplots(4, 1, figsize=(10, 12), sharex=True)\n",
    "        \n",
    "        axs[0].plot(Y)\n",
    "        axs[0].set_ylabel('Output (Y)')\n",
    "        axs[0].set_title('ARMAX Closed-Loop Simulation Results')\n",
    "        \n",
    "        axs[1].plot(U)\n",
    "        axs[1].set_ylabel('Input (U)')\n",
    "        \n",
    "        axs[2].plot(N)\n",
    "        axs[2].set_ylabel('Noise (N)')\n",
    "        \n",
    "        axs[3].plot(R)\n",
    "        axs[3].set_ylabel('Reference (R)')\n",
    "        axs[3].set_xlabel('Time')\n",
    "        \n",
    "        plt.tight_layout()\n",
    "        plt.show()"
   ]
  },
  {
   "cell_type": "markdown",
   "metadata": {},
   "source": [
    "#### SPS indirect class"
   ]
  },
  {
   "cell_type": "code",
   "execution_count": 3,
   "metadata": {},
   "outputs": [],
   "source": [
    "from sps_indirect import SPS_indirect_model, d_tfs"
   ]
  },
  {
   "cell_type": "markdown",
   "metadata": {},
   "source": [
    "#### SPS confidence region for nth order system"
   ]
  },
  {
   "cell_type": "markdown",
   "metadata": {},
   "source": [
    "##### get_conf_region()"
   ]
  },
  {
   "cell_type": "code",
   "execution_count": null,
   "metadata": {},
   "outputs": [],
   "source": []
  },
  {
   "cell_type": "markdown",
   "metadata": {},
   "source": [
    "##### plot_pts_in_conf_region()"
   ]
  },
  {
   "cell_type": "code",
   "execution_count": null,
   "metadata": {},
   "outputs": [],
   "source": []
  },
  {
   "cell_type": "markdown",
   "metadata": {},
   "source": [
    "##### example: first order system"
   ]
  },
  {
   "cell_type": "code",
   "execution_count": null,
   "metadata": {},
   "outputs": [
    {
     "name": "stdout",
     "output_type": "stream",
     "text": [
      "14.1% of tested points were in confidence region\n"
     ]
    },
    {
     "data": {
      "image/png": "[encoded data removed]",
      "text/plain": [
       "<Figure size 640x480 with 1 Axes>"
      ]
     },
     "metadata": {},
     "output_type": "display_data"
    }
   ],
   "source": [
    "# ~~~~~~~~~~~~~~~~~~~~~~~~~~~~ ARMAX data gen\n",
    "\n",
    "A = [1, -0.33]  # A(z^-1) = 1 - 0.33z^-1\n",
    "B = [0.22]      # B(z^-1) = 0.22z^-1\n",
    "C = [1, 0.15]   # C(z^-1) = 1 + 0.15z^-1\n",
    "F = [0.31, 0.23] # F(z^-1) = 0.31 + 0.23z^-1\n",
    "L = [1]        # L(z^-1) = 1\n",
    "armax_model = ARMAX(A, B, C, F, L)\n",
    "\n",
    "n_samples = 100\n",
    "R = np.sign(np.sin(np.linspace(0, 10*np.pi, n_samples))) # square wave reference\n",
    "Y, U, N, R = armax_model.simulate(n_samples, R, noise_std=0.2)\n",
    "# armax_model.plot_results(Y, U, N, R)\n",
    "\n",
    "# ~~~~~~~~~~~~~~~~~~~~~~~~~~~~ SPS model definitions\n",
    "\n",
    "A  = [1, -0.33]\n",
    "B = [0, 0.22]\n",
    "C = [1, 0.15]\n",
    "\n",
    "G = (B, A)\n",
    "H = (C, A)     \n",
    "F = ([0.31, 0.23], [1])  \n",
    "L = ([1], [1])         \n",
    "\n",
    "# ~~~~~~~~~~~~~~~~~~~~~~~~~~~~ SPS model creation\n",
    "\n",
    "m = 100\n",
    "q = 5\n",
    "model = SPS_indirect_model(m, q)\n",
    "\n",
    "# ~~~~~~~~~~~~~~~~~~~~~~~~~~~~ confidence region\n",
    "\n",
    "n_a = 1\n",
    "n_b = 1\n",
    "region_bounds = [[0, 1.0], [0, 1.0]]\n",
    "granularity = [21, 21]\n",
    "\n",
    "pts_in_conf_region = get_conf_region(region_bounds, granularity, model, n_a, n_b, C, L, F, Y, R)\n",
    "pct = 100 * len(pts_in_conf_region) / np.prod(granularity)\n",
    "print(f\"{pct:.1f}% of tested points were in confidence region\", )\n",
    "\n",
    "# first order system\n",
    "fig, axes = plt.subplots()\n",
    "plot_pts_in_conf_region(pts_in_conf_region, x_dim=0, y_dim=1, true_param=[-A[1], B[1]], fig=fig, ax=axes)\n",
    "axes.set_xlim(0,1)\n",
    "axes.set_ylim(0,1)\n",
    "axes.set_xlabel(\"a\")\n",
    "axes.set_ylabel(\"b\")\n",
    "plt.show()"
   ]
  },
  {
   "cell_type": "markdown",
   "metadata": {},
   "source": [
    "##### example: n_a=2, n_b=2"
   ]
  },
  {
   "cell_type": "code",
   "execution_count": null,
   "metadata": {},
   "outputs": [
    {
     "name": "stdout",
     "output_type": "stream",
     "text": [
      "1.5% of tested points were in confidence region\n",
      "SPS indicator returns True with actual system parameters: True\n",
      "Actual system parameters were in the returned confidence region: False\n"
     ]
    },
    {
     "data": {
      "image/png": "[encoded data removed]",
      "text/plain": [
       "<Figure size 1000x400 with 2 Axes>"
      ]
     },
     "metadata": {},
     "output_type": "display_data"
    }
   ],
   "source": [
    "# ~~~~~~~~~~~~~~~~~~~~~~~~~~~~ define system and generate data\n",
    "\n",
    "A  = [1, -0.6, -0.3]\n",
    "B = [0.8, 0.5]\n",
    "C = [1, 0.2, 0.04]\n",
    "F = [0.3, 0.2, 0.1] \n",
    "L = [1]\n",
    "armax_model = ARMAX(A, B, C, F, L)\n",
    "\n",
    "n_samples = 100\n",
    "R = np.sign(np.sin(np.linspace(0, 10*np.pi, n_samples))) # square wave reference signal, works with both cupy and numpy\n",
    "Y, U, N, R = armax_model.simulate(n_samples, R, noise_std=0.05)\n",
    "# armax_model.plot_results(Y, U, N, R)\n",
    "\n",
    "# ~~~~~~~~~~~~~~~~~~~~~~~~~~~~ SPS model definitions\n",
    "\n",
    "B = [0] + B\n",
    "G = (B, A)\n",
    "H = (C, A)\n",
    "\n",
    "F = (F, [1])\n",
    "L = (L, [1])\n",
    "\n",
    "m = 20\n",
    "q = 1\n",
    "model = SPS_indirect_model(m, q)\n",
    "\n",
    "# ~~~~~~~~~~~~~~~~~~~~~~~~~~~~ get confidence region\n",
    "\n",
    "n_a = 2\n",
    "n_b = 2\n",
    "region_bounds = [[0.1, 1.0], [0.1, 1.0], [0.1, 1.0], [0.1, 1.0]]\n",
    "granularity = [11, 11, 11, 11]\n",
    "\n",
    "pts_in_conf_region = get_conf_region(region_bounds, granularity, model, n_a, n_b, C, L, F, Y, R)\n",
    "pct = 100 * len(pts_in_conf_region) / np.prod(granularity)\n",
    "print(f\"{pct:.1f}% of tested points were in confidence region\", )\n",
    "\n",
    "G_0, H_0 = model.transform_to_open_loop(G, H, F, L)\n",
    "in_sps, S1 = model.open_loop_sps(G_0, H_0, Y, R, n_a, n_b)\n",
    "print(f\"SPS indicator returns True with actual system parameters: {in_sps}\")\n",
    "\n",
    "target = np.array([0.8, 0.3, 0.8, 0.5])\n",
    "assert len(pts_in_conf_region) > 0\n",
    "idx = np.where(np.all(np.isclose(pts_in_conf_region, target, atol=1e-6), axis=1))\n",
    "in_list = idx[0].size != 0\n",
    "print(f\"Actual system parameters were in the returned confidence region: {in_list}\")\n",
    "\n",
    "# ~~~~~~~~~~~~~~~~~~~~~~~~~~~~ plot confidence region\n",
    "\n",
    "%matplotlib inline\n",
    "fig, axes = plt.subplots(1, 2, figsize=(10,4))\n",
    "plot_pts_in_conf_region(pts_in_conf_region, x_dim=0, y_dim=1, true_param=[-A[1], -A[2]], fig=fig, ax=axes[0])\n",
    "axes[0].set_xlim(0,1)\n",
    "axes[0].set_ylim(0,1)\n",
    "axes[0].set_xlabel(\"a_1\")\n",
    "axes[0].set_ylabel(\"a_2\")\n",
    "plot_pts_in_conf_region(pts_in_conf_region, x_dim=2, y_dim=3, true_param=[B[1], B[2]], fig=fig, ax=axes[1])\n",
    "axes[1].set_xlim(0,1)\n",
    "axes[1].set_ylim(0,1)\n",
    "axes[1].set_xlabel(\"b_1\")\n",
    "axes[1].set_ylabel(\"b_2\")\n",
    "plt.show()"
   ]
  },
  {
   "cell_type": "code",
   "execution_count": 14,
   "metadata": {},
   "outputs": [
    {
     "data": {
      "text/plain": [
       "221"
      ]
     },
     "execution_count": 14,
     "metadata": {},
     "output_type": "execute_result"
    }
   ],
   "source": [
    "len(pts_in_conf_region)"
   ]
  },
  {
   "cell_type": "code",
   "execution_count": null,
   "metadata": {},
   "outputs": [
    {
     "data": {
      "text/plain": [
       "14641"
      ]
     },
     "execution_count": 13,
     "metadata": {},
     "output_type": "execute_result"
    }
   ],
   "source": [
    "np.prod(granularity)"
   ]
  },
  {
   "cell_type": "code",
   "execution_count": 8,
   "metadata": {},
   "outputs": [],
   "source": [
    "from scipy.io import savemat\n",
    "savemat(\"pts_in_conf_region_2_2.mat\", {\"pts_in_conf_region\": pts_in_conf_region})"
   ]
  },
  {
   "cell_type": "code",
   "execution_count": 9,
   "metadata": {},
   "outputs": [
    {
     "name": "stderr",
     "output_type": "stream",
     "text": [
      "c:\\Users\\conor\\anaconda3\\envs\\capstone_v2\\lib\\site-packages\\cupy\\_environment.py:217: UserWarning: CUDA path could not be detected. Set CUDA_PATH environment variable if CuPy fails to load.\n",
      "  warnings.warn(\n"
     ]
    },
    {
     "data": {
      "text/plain": [
       "(array([[0. , 0.3],\n",
       "        [1. , 0.6]]),\n",
       " array([[0.5],\n",
       "        [0.8]]),\n",
       " array([[0., 1.]]))"
      ]
     },
     "execution_count": 9,
     "metadata": {},
     "output_type": "execute_result"
    }
   ],
   "source": [
    "from optimal_controls import tf_to_ocf\n",
    "tf_to_ocf(B,A)"
   ]
  },
  {
   "cell_type": "markdown",
   "metadata": {},
   "source": [
    "##### example: n_a=2, n_b=1"
   ]
  },
  {
   "cell_type": "code",
   "execution_count": 12,
   "metadata": {},
   "outputs": [
    {
     "data": {
      "text/plain": [
       "(array([[ 0.   ,  0.   ,  0.096],\n",
       "        [ 1.   ,  0.   , -1.16 ],\n",
       "        [ 0.   ,  1.   ,  2.1  ]]),\n",
       " array([[ 0.2],\n",
       "        [-0.8],\n",
       "        [ 1. ]]),\n",
       " array([[0., 0., 1.]]))"
      ]
     },
     "execution_count": 12,
     "metadata": {},
     "output_type": "execute_result"
    }
   ],
   "source": [
    "#   z^3 - 1.4 z^2 + 0.68 z - 0.12\n",
    "#   ------------------------------\n",
    "#   z^3 - 2.1 z^2 + 1.16 z - 0.096\n",
    "tf_to_ocf([0, 1, -0.8, 0.2], [1, -2.1, 1.16, -0.096])"
   ]
  },
  {
   "cell_type": "code",
   "execution_count": null,
   "metadata": {},
   "outputs": [
    {
     "name": "stdout",
     "output_type": "stream",
     "text": [
      "1.4% of tested points were in confidence region\n",
      "SPS indicator returns True with actual system parameters: True\n",
      "Actual system parameters were in the returned confidence region: True\n"
     ]
    }
   ],
   "source": [
    "# ~~~~~~~~~~~~~~~~~~~~~~~~~~~~ define system and generate data\n",
    "\n",
    "a1 = -0.9\n",
    "a2 = -0.1\n",
    "b1 = 0.8\n",
    "\n",
    "A  = [1, -a1, -a2]\n",
    "B = [b1]\n",
    "C = [1, 0.2, 0.04]\n",
    "F = [0.3, 0.2] \n",
    "L = [1]\n",
    "armax_model = ARMAX(A, B, C, F, L)\n",
    "\n",
    "n_samples = 200\n",
    "R = np.sign(np.sin(np.linspace(0, 5*np.pi, n_samples))) # square wave reference signal, works with both cupy and numpy\n",
    "Y, U, N, R = armax_model.simulate(n_samples, R, noise_std=0.05)\n",
    "# armax_model.plot_results(Y, U, N, R)\n",
    "\n",
    "# ~~~~~~~~~~~~~~~~~~~~~~~~~~~~ SPS model definitions\n",
    "\n",
    "B = [0] + B\n",
    "G = (B, A)\n",
    "H = (C, A)\n",
    "\n",
    "F = (F, [1])\n",
    "L = (L, [1])\n",
    "\n",
    "m = 20\n",
    "q = 1\n",
    "model = SPS_indirect_model(m, q)\n",
    "\n",
    "# ~~~~~~~~~~~~~~~~~~~~~~~~~~~~ get confidence region\n",
    "\n",
    "n_a = 2\n",
    "n_b = 1\n",
    "region_bounds = [[-2, 2], [-2, 2], [0.1, 1]]\n",
    "granularity = [41, 41, 10]\n",
    "# region_bounds = [[0.6, 0.8], [0.2, 0.4], [0.7, 0.9]]\n",
    "# granularity = [21, 21, 21]\n",
    "\n",
    "pts_in_conf_region = get_conf_region(region_bounds, granularity, model, n_a, n_b, C, L, F, Y, R)\n",
    "pct = 100 * len(pts_in_conf_region) / np.prod(granularity)\n",
    "print(f\"{pct:.1f}% of tested points were in confidence region\", )\n",
    "\n",
    "G_0, H_0 = model.transform_to_open_loop(G, H, F, L)\n",
    "in_sps, S1 = model.open_loop_sps(G_0, H_0, Y, R, n_a, n_b)\n",
    "print(f\"SPS indicator returns True with actual system parameters: {in_sps}\")\n",
    "\n",
    "target = np.array([a1, a2, b1])\n",
    "assert len(pts_in_conf_region) > 0\n",
    "idx = np.where(np.all(np.isclose(pts_in_conf_region, target, atol=1e-6), axis=1))\n",
    "in_list = idx[0].size != 0\n",
    "print(f\"Actual system parameters were in the returned confidence region: {in_list}\")\n",
    "\n",
    "\n",
    "# ~~~~~~~~~~~~~~~~~~~~~~~~~~~~ plot confidence region\n",
    "\n",
    "plt.switch_backend('TkAgg')  # or 'Qt5Agg'\n",
    "\n",
    "fig = plt.figure()\n",
    "ax = fig.add_subplot(projection='3d')\n",
    "ax.scatter(pts_in_conf_region[:,0], pts_in_conf_region[:,1], pts_in_conf_region[:,2])\n",
    "ax.scatter(-A[1], -A[2], B[1], 'r', s=400)\n",
    "ax.set_xlabel('a_1')\n",
    "ax.set_ylabel('a_2')\n",
    "ax.set_zlabel('b_1')\n",
    "# plt.show()\n",
    "\n",
    "plt.show(block=True)\n",
    "\n",
    "from scipy.io import savemat\n",
    "savemat(\"pts_in_conf_region.mat\", {\"pts_in_conf_region\": pts_in_conf_region})"
   ]
  },
  {
   "cell_type": "markdown",
   "metadata": {},
   "source": [
    "##### Debugging"
   ]
  }
 ],
 "metadata": {
  "kernelspec": {
   "display_name": "capstone_v2",
   "language": "python",
   "name": "python3"
  },
  "language_info": {
   "codemirror_mode": {
    "name": "ipython",
    "version": 3
   },
   "file_extension": ".py",
   "mimetype": "text/x-python",
   "name": "python",
   "nbconvert_exporter": "python",
   "pygments_lexer": "ipython3",
   "version": "3.9.0"
  }
 },
 "nbformat": 4,
 "nbformat_minor": 2
}
