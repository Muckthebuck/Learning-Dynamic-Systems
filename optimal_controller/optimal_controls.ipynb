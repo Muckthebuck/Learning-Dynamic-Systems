{
 "cells": [
  {
   "cell_type": "code",
   "execution_count": 1,
   "metadata": {},
   "outputs": [],
   "source": [
    "# REQUIREMENTS\n",
    "#   - see https://www.mosek.com/products/academic-licenses/ to get a .lic file and place it in the required directory\n",
    "#   - then \"pip install mosek\"\n",
    "\n",
    "import numpy as np\n",
    "from state_space import generate_perturbed\n",
    "from optimal_controls import *\n",
    "import logging\n",
    "logging.basicConfig(level=logging.INFO, force=True)"
   ]
  },
  {
   "cell_type": "code",
   "execution_count": 2,
   "metadata": {},
   "outputs": [],
   "source": [
    "# n_states = 1\n",
    "# n_inputs = 1\n",
    "# A0 = np.array([[0.7]])\n",
    "# B0 = np.array([[0.4]])\n",
    "# n_plants = 2000\n",
    "# A_list = generate_perturbed(A0, n_plants, 0.1)\n",
    "# B_list = np.ones_like(A_list) * 0.4"
   ]
  },
  {
   "cell_type": "code",
   "execution_count": 3,
   "metadata": {},
   "outputs": [],
   "source": [
    "# n_states = 2\n",
    "# n_inputs = 2\n",
    "# A0 = np.array([[1, 0.5],\n",
    "#                [0.5, 1]])\n",
    "# B0 = np.eye(2)\n",
    "# n_plants = 128\n",
    "# A_list = generate_perturbed(A0, n_plants, 0.1)\n",
    "# B_list = generate_perturbed(B0, n_plants, 0.1)"
   ]
  },
  {
   "cell_type": "code",
   "execution_count": 12,
   "metadata": {},
   "outputs": [],
   "source": [
    "n_states = 4\n",
    "n_inputs = 1\n",
    "A0 = np.array([[0, 0, 0, -0.048],\n",
    "               [1, 0, 0, 0.676],\n",
    "               [0, 1, 0, -2.21],\n",
    "               [0, 0, 1, 2.6]])\n",
    "B0 = np.array([[-0.12], [0.68], [-1.4], [1]])\n",
    "n_plants = 128\n",
    "A_list = generate_perturbed(A0, n_plants, 0.005)\n",
    "B_list = generate_perturbed(B0, n_plants, 0.005)"
   ]
  },
  {
   "cell_type": "code",
   "execution_count": 13,
   "metadata": {},
   "outputs": [],
   "source": [
    "# n_states = 6\n",
    "# n_inputs = 1\n",
    "# A0 = np.array([[0,  0,  0,  0,  0, -0.085],\n",
    "#                [1,  0,  0,  0,  0,  0.642],\n",
    "#                [0,  1,  0,  0,  0, -2.219],\n",
    "#                [0,  0,  1,  0,  0,  4.354],\n",
    "#                [0,  0,  0,  1,  0, -5.11 ],\n",
    "#                [0,  0,  0,  0,  1,  3.4  ]])\n",
    "# B0 = np.array([[-0.0068], [0.0796], [-0.4170], [1.17], [-1.7], [1]])\n",
    "# n_plants = 256\n",
    "# A_list = generate_perturbed(A0, n_plants, 0.005)\n",
    "# B_list = generate_perturbed(B0, n_plants, 0.002)"
   ]
  },
  {
   "cell_type": "code",
   "execution_count": 14,
   "metadata": {},
   "outputs": [
    {
     "name": "stderr",
     "output_type": "stream",
     "text": [
      "INFO:optimal_controls: Defined 118 LMI constraints\n",
      "INFO:optimal_controls: SolutionStatus.Optimal, simultaneously stabilising feedback gain is K = [[ 0.176 -0.387  0.325  1.827]]\n",
      "INFO:optimal_controls: Optimised the simultaneously stabilising feedback gain, yielding K = [[ 0.097 -0.081  0.642  1.925]]\n",
      "INFO:optimal_controls: Worst J using initial K: 72.1342\n",
      "INFO:optimal_controls: Worst J using optimized K: 69.2228\n"
     ]
    }
   ],
   "source": [
    "K = get_optimal_controller(A_list, B_list)"
   ]
  },
  {
   "cell_type": "code",
   "execution_count": 15,
   "metadata": {},
   "outputs": [
    {
     "name": "stderr",
     "output_type": "stream",
     "text": [
      "INFO:optimal_controls: Defined 128 LMI constraints\n",
      "INFO:optimal_controls: SolutionStatus.Optimal, simultaneously stabilising feedback gain is K = [[ 0.176 -0.387  0.325  1.827]]\n",
      "INFO:optimal_controls: Optimised the simultaneously stabilising feedback gain, yielding K = [[ 0.097 -0.081  0.642  1.925]]\n",
      "INFO:optimal_controls: Worst J using initial K: 72.1348\n",
      "INFO:optimal_controls: Worst J using optimized K: 69.2228\n"
     ]
    }
   ],
   "source": [
    "ocSolver = OptimalControlSolver(A_list, B_list)\n",
    "ocSolver.uncertainty_region_method = 'all_plants'\n",
    "ocSolver.simstab_method = 'LMI'\n",
    "ocSolver.minimize_wrt = 'all_plants'\n",
    "ocSolver.solve()"
   ]
  },
  {
   "cell_type": "code",
   "execution_count": 16,
   "metadata": {},
   "outputs": [
    {
     "name": "stderr",
     "output_type": "stream",
     "text": [
      "INFO:optimal_controls: Convex hull of A set has 40 vertices\n",
      "INFO:optimal_controls: Convex hull of B set has 50 vertices\n",
      "INFO:optimal_controls: This will lead to 2000 LMI constraints\n",
      "INFO:optimal_controls: Defined 2000 LMI constraints\n",
      "INFO:optimal_controls: SolutionStatus.Optimal, simultaneously stabilising feedback gain is K = [[ 0.179 -0.386  0.326  1.828]]\n",
      "INFO:optimal_controls: Optimised the simultaneously stabilising feedback gain, yielding K = [[ 0.097 -0.081  0.642  1.925]]\n",
      "INFO:optimal_controls: Worst J using initial K: 72.1134\n",
      "INFO:optimal_controls: Worst J using optimized K: 69.2228\n"
     ]
    }
   ],
   "source": [
    "ocSolver = OptimalControlSolver(A_list, B_list)\n",
    "ocSolver.uncertainty_region_method = 'convhull_oliveira'\n",
    "ocSolver.simstab_method = 'LMI'\n",
    "ocSolver.minimize_wrt = 'all_plants'\n",
    "ocSolver.solve()"
   ]
  },
  {
   "cell_type": "code",
   "execution_count": 17,
   "metadata": {},
   "outputs": [
    {
     "name": "stderr",
     "output_type": "stream",
     "text": [
      "INFO:optimal_controls: Defined 118 LMI constraints\n",
      "INFO:optimal_controls: SolutionStatus.Optimal, simultaneously stabilising feedback gain is K = [[ 0.176 -0.387  0.325  1.827]]\n",
      "INFO:optimal_controls: Optimised the simultaneously stabilising feedback gain, yielding K = [[ 0.097 -0.081  0.642  1.925]]\n",
      "INFO:optimal_controls: Worst J using initial K: 72.1342\n",
      "INFO:optimal_controls: Worst J using optimized K: 69.2228\n"
     ]
    }
   ],
   "source": [
    "ocSolver = OptimalControlSolver(A_list, B_list)\n",
    "ocSolver.uncertainty_region_method = 'convhull_peaucelle'\n",
    "ocSolver.simstab_method = 'LMI'\n",
    "ocSolver.minimize_wrt = 'vertex_plants'\n",
    "ocSolver.solve()"
   ]
  },
  {
   "cell_type": "code",
   "execution_count": 18,
   "metadata": {},
   "outputs": [
    {
     "name": "stderr",
     "output_type": "stream",
     "text": [
      "INFO:optimal_controls: Simultaneously stabilising feedback gain is K = [[ 0.097 -0.081  0.642  1.926]]\n",
      "INFO:optimal_controls: Optimised the simultaneously stabilising feedback gain, yielding K = [[ 0.097 -0.081  0.642  1.926]]\n",
      "INFO:optimal_controls: Worst J using initial K: 69.2228\n",
      "INFO:optimal_controls: Worst J using optimized K: 69.2228\n"
     ]
    }
   ],
   "source": [
    "ocSolver = OptimalControlSolver(A_list, B_list)\n",
    "ocSolver.uncertainty_region_method = 'all_plants'\n",
    "ocSolver.simstab_method = 'riccati'\n",
    "ocSolver.minimize_wrt = 'all_plants'\n",
    "ocSolver.solve()"
   ]
  },
  {
   "cell_type": "code",
   "execution_count": 19,
   "metadata": {},
   "outputs": [
    {
     "name": "stderr",
     "output_type": "stream",
     "text": [
      "INFO:optimal_controls: Defined 510 LMI constraints\n",
      "INFO:optimal_controls: SolutionStatus.Optimal, simultaneously stabilising feedback gain is K = [[0.561 0.055 0.867 2.310]]\n",
      "INFO:optimal_controls: Optimised the simultaneously stabilising feedback gain, yielding K = [[ 0.097 -0.081  0.642  1.926]]\n",
      "INFO:optimal_controls: Worst J using initial K: 80.3372\n",
      "INFO:optimal_controls: Worst J using optimized K: 69.2228\n"
     ]
    }
   ],
   "source": [
    "ocSolver = OptimalControlSolver(A_list, B_list)\n",
    "ocSolver.uncertainty_region_method = 'lowresMVEE'\n",
    "ocSolver.set_max_n_verts(1000)\n",
    "ocSolver.simstab_method = 'LMI'\n",
    "ocSolver.minimize_wrt = 'all_plants'\n",
    "ocSolver.solve()"
   ]
  }
 ],
 "metadata": {
  "kernelspec": {
   "display_name": "capstone",
   "language": "python",
   "name": "python3"
  },
  "language_info": {
   "codemirror_mode": {
    "name": "ipython",
    "version": 3
   },
   "file_extension": ".py",
   "mimetype": "text/x-python",
   "name": "python",
   "nbconvert_exporter": "python",
   "pygments_lexer": "ipython3",
   "version": "3.12.9"
  }
 },
 "nbformat": 4,
 "nbformat_minor": 2
}
