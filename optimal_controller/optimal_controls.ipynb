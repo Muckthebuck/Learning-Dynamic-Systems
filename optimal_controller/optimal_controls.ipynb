{
 "cells": [
  {
   "cell_type": "code",
   "execution_count": 1,
   "metadata": {},
   "outputs": [],
   "source": [
    "# REQUIREMENTS\n",
    "#   - see https://www.mosek.com/products/academic-licenses/ to get a .lic file and place it in the required directory\n",
    "#   - then \"pip install mosek\"\n",
    "\n",
    "import numpy as np\n",
    "from state_space import generate_perturbed\n",
    "from optimal_controls import OptimalControlSolver, get_optimal_controller\n",
    "import logging\n",
    "logging.basicConfig(level=logging.INFO, force=True)"
   ]
  },
  {
   "cell_type": "code",
   "execution_count": 2,
   "metadata": {},
   "outputs": [],
   "source": [
    "# n_states = 6\n",
    "# n_inputs = 1\n",
    "# A0 = np.array([[ 0.000,  0.000,  0.000,  0.000,  0.000, -0.086],\n",
    "#                [ 1.000,  0.000,  0.000,  0.000,  0.000,  0.734],\n",
    "#                [ 0.000,  1.000,  0.000,  0.000,  0.000, -2.767],\n",
    "#                [ 0.000,  0.000,  1.000,  0.000,  0.000,  5.774],\n",
    "#                [ 0.000,  0.000,  0.000,  1.000,  0.000, -6.720],\n",
    "#                [ 0.000,  0.000,  0.000,  0.000,  1.000,  4.100]])\n",
    "# B0 = np.array([[-0.045, 0.010],\n",
    "#                [ 0.471, 0.100],\n",
    "#                [-1.746, 2.500],\n",
    "#                [ 3.090, 0.090],\n",
    "#                [-2.600, 4.746],\n",
    "#                [ 1.000, 0.500]])\n",
    "        \n",
    "n_states = 4\n",
    "n_inputs = 1\n",
    "A0 = np.array([[0, 0, 0, -0.048],\n",
    "               [1, 0, 0, 0.676],\n",
    "               [0, 1, 0, -2.21],\n",
    "               [0, 0, 1, 2.6]])\n",
    "B0 = np.array([[-0.12], [0.68], [-1.4], [1]])\n",
    "\n",
    "n_plants = 256\n",
    "A_list = generate_perturbed(A0, n_plants, 0.04)\n",
    "B_list = generate_perturbed(B0, n_plants, 0.01)"
   ]
  },
  {
   "cell_type": "markdown",
   "metadata": {},
   "source": [
    "Can use an instance of OptimalControlSolver to compute the controller"
   ]
  },
  {
   "cell_type": "code",
   "execution_count": 3,
   "metadata": {},
   "outputs": [
    {
     "name": "stderr",
     "output_type": "stream",
     "text": [
      "INFO:optimal_controls: Computed solution via Riccati heuristic, K = [[0.797 0.591 1.275 2.520]]\n",
      "INFO:optimal_controls: Worst J using Riccati heuristic K: 460.1673\n"
     ]
    },
    {
     "ename": "AttributeError",
     "evalue": "'OptimalControlSolver' object has no attribute 'A_verts'",
     "output_type": "error",
     "traceback": [
      "\u001b[1;31m---------------------------------------------------------------------------\u001b[0m",
      "\u001b[1;31mAttributeError\u001b[0m                            Traceback (most recent call last)",
      "Cell \u001b[1;32mIn[3], line 2\u001b[0m\n\u001b[0;32m      1\u001b[0m ocSolver \u001b[38;5;241m=\u001b[39m OptimalControlSolver(A_list,B_list)\n\u001b[1;32m----> 2\u001b[0m \u001b[43mocSolver\u001b[49m\u001b[38;5;241;43m.\u001b[39;49m\u001b[43msolve\u001b[49m\u001b[43m(\u001b[49m\u001b[43mmethod\u001b[49m\u001b[38;5;241;43m=\u001b[39;49m\u001b[38;5;124;43m'\u001b[39;49m\u001b[38;5;124;43mriccati\u001b[39;49m\u001b[38;5;124;43m'\u001b[39;49m\u001b[43m)\u001b[49m\n",
      "File \u001b[1;32mc:\\Users\\conor\\OneDrive\\Documents\\_uni\\2025 S1\\Capstone\\Learning-Dynamic-Systems\\optimal_controller\\optimal_controls.py:70\u001b[0m, in \u001b[0;36mOptimalControlSolver.solve\u001b[1;34m(self, method)\u001b[0m\n\u001b[0;32m     68\u001b[0m \u001b[38;5;28;01mdef\u001b[39;00m\u001b[38;5;250m \u001b[39m\u001b[38;5;21msolve\u001b[39m(\u001b[38;5;28mself\u001b[39m, method\u001b[38;5;241m=\u001b[39m\u001b[38;5;124m'\u001b[39m\u001b[38;5;124mLMI\u001b[39m\u001b[38;5;124m'\u001b[39m):\n\u001b[0;32m     69\u001b[0m     \u001b[38;5;28;01mif\u001b[39;00m method \u001b[38;5;241m==\u001b[39m \u001b[38;5;124m'\u001b[39m\u001b[38;5;124mriccati\u001b[39m\u001b[38;5;124m'\u001b[39m:\n\u001b[1;32m---> 70\u001b[0m         \u001b[38;5;28;43mself\u001b[39;49m\u001b[38;5;241;43m.\u001b[39;49m\u001b[43msolve_heuristically\u001b[49m\u001b[43m(\u001b[49m\u001b[43m)\u001b[49m\n\u001b[0;32m     71\u001b[0m     \u001b[38;5;28;01melse\u001b[39;00m:\n\u001b[0;32m     72\u001b[0m         \u001b[38;5;28mself\u001b[39m\u001b[38;5;241m.\u001b[39msolve_LMIs()\n",
      "File \u001b[1;32mc:\\Users\\conor\\OneDrive\\Documents\\_uni\\2025 S1\\Capstone\\Learning-Dynamic-Systems\\optimal_controller\\optimal_controls.py:157\u001b[0m, in \u001b[0;36mOptimalControlSolver.solve_heuristically\u001b[1;34m(self)\u001b[0m\n\u001b[0;32m    155\u001b[0m \u001b[38;5;28mself\u001b[39m\u001b[38;5;241m.\u001b[39mlogger\u001b[38;5;241m.\u001b[39minfo(\u001b[38;5;124mf\u001b[39m\u001b[38;5;124m\"\u001b[39m\u001b[38;5;124m Worst J using Riccati heuristic K: \u001b[39m\u001b[38;5;132;01m{\u001b[39;00mworst_J\u001b[38;5;132;01m:\u001b[39;00m\u001b[38;5;124m.4f\u001b[39m\u001b[38;5;132;01m}\u001b[39;00m\u001b[38;5;124m\"\u001b[39m)\n\u001b[0;32m    156\u001b[0m \u001b[38;5;28mself\u001b[39m\u001b[38;5;241m.\u001b[39mK_stab \u001b[38;5;241m=\u001b[39m K_soln\n\u001b[1;32m--> 157\u001b[0m \u001b[38;5;28;43mself\u001b[39;49m\u001b[38;5;241;43m.\u001b[39;49m\u001b[43moptimise_K\u001b[49m\u001b[43m(\u001b[49m\u001b[43m)\u001b[49m\n",
      "File \u001b[1;32mc:\\Users\\conor\\OneDrive\\Documents\\_uni\\2025 S1\\Capstone\\Learning-Dynamic-Systems\\optimal_controller\\optimal_controls.py:136\u001b[0m, in \u001b[0;36mOptimalControlSolver.optimise_K\u001b[1;34m(self)\u001b[0m\n\u001b[0;32m    133\u001b[0m disp_current_J \u001b[38;5;241m=\u001b[39m \u001b[38;5;28;01mlambda\u001b[39;00m K: \u001b[38;5;28;01mNone\u001b[39;00m \u001b[38;5;66;03m# self.logger.info(f\"\\t Current worst-case J: {compute_worst_case_J(K.reshape(self.n_inputs,self.n_states), self.A_list, self.B_list, self.Q, self.R, self.x_0)}\")\u001b[39;00m\n\u001b[0;32m    135\u001b[0m np\u001b[38;5;241m.\u001b[39mseterr(invalid\u001b[38;5;241m=\u001b[39m\u001b[38;5;124m'\u001b[39m\u001b[38;5;124mignore\u001b[39m\u001b[38;5;124m'\u001b[39m) \u001b[38;5;66;03m# Suppress runtime warnings related to invalid values (J==Inf)\u001b[39;00m\n\u001b[1;32m--> 136\u001b[0m results \u001b[38;5;241m=\u001b[39m \u001b[43mminimize\u001b[49m\u001b[43m(\u001b[49m\u001b[43mobjective\u001b[49m\u001b[43m,\u001b[49m\u001b[43m \u001b[49m\u001b[38;5;28;43mself\u001b[39;49m\u001b[38;5;241;43m.\u001b[39;49m\u001b[43mK_stab\u001b[49m\u001b[38;5;241;43m.\u001b[39;49m\u001b[43mflatten\u001b[49m\u001b[43m(\u001b[49m\u001b[43m)\u001b[49m\u001b[43m,\u001b[49m\u001b[43m \u001b[49m\u001b[43mmethod\u001b[49m\u001b[38;5;241;43m=\u001b[39;49m\u001b[38;5;124;43m\"\u001b[39;49m\u001b[38;5;124;43mBFGS\u001b[39;49m\u001b[38;5;124;43m\"\u001b[39;49m\u001b[43m,\u001b[49m\u001b[43m \u001b[49m\u001b[43mtol\u001b[49m\u001b[38;5;241;43m=\u001b[39;49m\u001b[38;5;28;43mself\u001b[39;49m\u001b[38;5;241;43m.\u001b[39;49m\u001b[43mdelta_J_tol\u001b[49m\u001b[43m,\u001b[49m\u001b[43m \u001b[49m\u001b[43moptions\u001b[49m\u001b[38;5;241;43m=\u001b[39;49m\u001b[43m{\u001b[49m\u001b[38;5;124;43m\"\u001b[39;49m\u001b[38;5;124;43mdisp\u001b[39;49m\u001b[38;5;124;43m\"\u001b[39;49m\u001b[43m:\u001b[49m\u001b[43m \u001b[49m\u001b[38;5;28;43;01mTrue\u001b[39;49;00m\u001b[43m}\u001b[49m\u001b[43m,\u001b[49m\u001b[43m \u001b[49m\u001b[43mcallback\u001b[49m\u001b[38;5;241;43m=\u001b[39;49m\u001b[43mdisp_current_J\u001b[49m\u001b[43m)\u001b[49m\n\u001b[0;32m    137\u001b[0m np\u001b[38;5;241m.\u001b[39mseterr(invalid\u001b[38;5;241m=\u001b[39m\u001b[38;5;124m'\u001b[39m\u001b[38;5;124mwarn\u001b[39m\u001b[38;5;124m'\u001b[39m)\n\u001b[0;32m    139\u001b[0m \u001b[38;5;28mself\u001b[39m\u001b[38;5;241m.\u001b[39mK_opt \u001b[38;5;241m=\u001b[39m results\u001b[38;5;241m.\u001b[39mx\u001b[38;5;241m.\u001b[39mreshape(\u001b[38;5;28mself\u001b[39m\u001b[38;5;241m.\u001b[39mn_inputs,\u001b[38;5;28mself\u001b[39m\u001b[38;5;241m.\u001b[39mn_states)\n",
      "File \u001b[1;32mc:\\Users\\conor\\miniconda3\\envs\\capstone\\Lib\\site-packages\\scipy\\optimize\\_minimize.py:733\u001b[0m, in \u001b[0;36mminimize\u001b[1;34m(fun, x0, args, method, jac, hess, hessp, bounds, constraints, tol, callback, options)\u001b[0m\n\u001b[0;32m    731\u001b[0m     res \u001b[38;5;241m=\u001b[39m _minimize_cg(fun, x0, args, jac, callback, \u001b[38;5;241m*\u001b[39m\u001b[38;5;241m*\u001b[39moptions)\n\u001b[0;32m    732\u001b[0m \u001b[38;5;28;01melif\u001b[39;00m meth \u001b[38;5;241m==\u001b[39m \u001b[38;5;124m'\u001b[39m\u001b[38;5;124mbfgs\u001b[39m\u001b[38;5;124m'\u001b[39m:\n\u001b[1;32m--> 733\u001b[0m     res \u001b[38;5;241m=\u001b[39m \u001b[43m_minimize_bfgs\u001b[49m\u001b[43m(\u001b[49m\u001b[43mfun\u001b[49m\u001b[43m,\u001b[49m\u001b[43m \u001b[49m\u001b[43mx0\u001b[49m\u001b[43m,\u001b[49m\u001b[43m \u001b[49m\u001b[43margs\u001b[49m\u001b[43m,\u001b[49m\u001b[43m \u001b[49m\u001b[43mjac\u001b[49m\u001b[43m,\u001b[49m\u001b[43m \u001b[49m\u001b[43mcallback\u001b[49m\u001b[43m,\u001b[49m\u001b[43m \u001b[49m\u001b[38;5;241;43m*\u001b[39;49m\u001b[38;5;241;43m*\u001b[39;49m\u001b[43moptions\u001b[49m\u001b[43m)\u001b[49m\n\u001b[0;32m    734\u001b[0m \u001b[38;5;28;01melif\u001b[39;00m meth \u001b[38;5;241m==\u001b[39m \u001b[38;5;124m'\u001b[39m\u001b[38;5;124mnewton-cg\u001b[39m\u001b[38;5;124m'\u001b[39m:\n\u001b[0;32m    735\u001b[0m     res \u001b[38;5;241m=\u001b[39m _minimize_newtoncg(fun, x0, args, jac, hess, hessp, callback,\n\u001b[0;32m    736\u001b[0m                              \u001b[38;5;241m*\u001b[39m\u001b[38;5;241m*\u001b[39moptions)\n",
      "File \u001b[1;32mc:\\Users\\conor\\miniconda3\\envs\\capstone\\Lib\\site-packages\\scipy\\optimize\\_optimize.py:1393\u001b[0m, in \u001b[0;36m_minimize_bfgs\u001b[1;34m(fun, x0, args, jac, callback, gtol, norm, eps, maxiter, disp, return_all, finite_diff_rel_step, xrtol, c1, c2, hess_inv0, **unknown_options)\u001b[0m\n\u001b[0;32m   1390\u001b[0m \u001b[38;5;28;01mif\u001b[39;00m maxiter \u001b[38;5;129;01mis\u001b[39;00m \u001b[38;5;28;01mNone\u001b[39;00m:\n\u001b[0;32m   1391\u001b[0m     maxiter \u001b[38;5;241m=\u001b[39m \u001b[38;5;28mlen\u001b[39m(x0) \u001b[38;5;241m*\u001b[39m \u001b[38;5;241m200\u001b[39m\n\u001b[1;32m-> 1393\u001b[0m sf \u001b[38;5;241m=\u001b[39m \u001b[43m_prepare_scalar_function\u001b[49m\u001b[43m(\u001b[49m\u001b[43mfun\u001b[49m\u001b[43m,\u001b[49m\u001b[43m \u001b[49m\u001b[43mx0\u001b[49m\u001b[43m,\u001b[49m\u001b[43m \u001b[49m\u001b[43mjac\u001b[49m\u001b[43m,\u001b[49m\u001b[43m \u001b[49m\u001b[43margs\u001b[49m\u001b[38;5;241;43m=\u001b[39;49m\u001b[43margs\u001b[49m\u001b[43m,\u001b[49m\u001b[43m \u001b[49m\u001b[43mepsilon\u001b[49m\u001b[38;5;241;43m=\u001b[39;49m\u001b[43meps\u001b[49m\u001b[43m,\u001b[49m\n\u001b[0;32m   1394\u001b[0m \u001b[43m                              \u001b[49m\u001b[43mfinite_diff_rel_step\u001b[49m\u001b[38;5;241;43m=\u001b[39;49m\u001b[43mfinite_diff_rel_step\u001b[49m\u001b[43m)\u001b[49m\n\u001b[0;32m   1396\u001b[0m f \u001b[38;5;241m=\u001b[39m sf\u001b[38;5;241m.\u001b[39mfun\n\u001b[0;32m   1397\u001b[0m myfprime \u001b[38;5;241m=\u001b[39m sf\u001b[38;5;241m.\u001b[39mgrad\n",
      "File \u001b[1;32mc:\\Users\\conor\\miniconda3\\envs\\capstone\\Lib\\site-packages\\scipy\\optimize\\_optimize.py:291\u001b[0m, in \u001b[0;36m_prepare_scalar_function\u001b[1;34m(fun, x0, jac, args, bounds, epsilon, finite_diff_rel_step, hess)\u001b[0m\n\u001b[0;32m    287\u001b[0m     bounds \u001b[38;5;241m=\u001b[39m (\u001b[38;5;241m-\u001b[39mnp\u001b[38;5;241m.\u001b[39minf, np\u001b[38;5;241m.\u001b[39minf)\n\u001b[0;32m    289\u001b[0m \u001b[38;5;66;03m# ScalarFunction caches. Reuse of fun(x) during grad\u001b[39;00m\n\u001b[0;32m    290\u001b[0m \u001b[38;5;66;03m# calculation reduces overall function evaluations.\u001b[39;00m\n\u001b[1;32m--> 291\u001b[0m sf \u001b[38;5;241m=\u001b[39m \u001b[43mScalarFunction\u001b[49m\u001b[43m(\u001b[49m\u001b[43mfun\u001b[49m\u001b[43m,\u001b[49m\u001b[43m \u001b[49m\u001b[43mx0\u001b[49m\u001b[43m,\u001b[49m\u001b[43m \u001b[49m\u001b[43margs\u001b[49m\u001b[43m,\u001b[49m\u001b[43m \u001b[49m\u001b[43mgrad\u001b[49m\u001b[43m,\u001b[49m\u001b[43m \u001b[49m\u001b[43mhess\u001b[49m\u001b[43m,\u001b[49m\n\u001b[0;32m    292\u001b[0m \u001b[43m                    \u001b[49m\u001b[43mfinite_diff_rel_step\u001b[49m\u001b[43m,\u001b[49m\u001b[43m \u001b[49m\u001b[43mbounds\u001b[49m\u001b[43m,\u001b[49m\u001b[43m \u001b[49m\u001b[43mepsilon\u001b[49m\u001b[38;5;241;43m=\u001b[39;49m\u001b[43mepsilon\u001b[49m\u001b[43m)\u001b[49m\n\u001b[0;32m    294\u001b[0m \u001b[38;5;28;01mreturn\u001b[39;00m sf\n",
      "File \u001b[1;32mc:\\Users\\conor\\miniconda3\\envs\\capstone\\Lib\\site-packages\\scipy\\optimize\\_differentiable_functions.py:223\u001b[0m, in \u001b[0;36mScalarFunction.__init__\u001b[1;34m(self, fun, x0, args, grad, hess, finite_diff_rel_step, finite_diff_bounds, epsilon)\u001b[0m\n\u001b[0;32m    220\u001b[0m     finite_diff_options[\u001b[38;5;124m\"\u001b[39m\u001b[38;5;124mas_linear_operator\u001b[39m\u001b[38;5;124m\"\u001b[39m] \u001b[38;5;241m=\u001b[39m \u001b[38;5;28;01mTrue\u001b[39;00m\n\u001b[0;32m    222\u001b[0m \u001b[38;5;66;03m# Initial function evaluation\u001b[39;00m\n\u001b[1;32m--> 223\u001b[0m \u001b[38;5;28;43mself\u001b[39;49m\u001b[38;5;241;43m.\u001b[39;49m\u001b[43m_update_fun\u001b[49m\u001b[43m(\u001b[49m\u001b[43m)\u001b[49m\n\u001b[0;32m    225\u001b[0m \u001b[38;5;66;03m# Initial gradient evaluation\u001b[39;00m\n\u001b[0;32m    226\u001b[0m \u001b[38;5;28mself\u001b[39m\u001b[38;5;241m.\u001b[39m_wrapped_grad, \u001b[38;5;28mself\u001b[39m\u001b[38;5;241m.\u001b[39m_ngev \u001b[38;5;241m=\u001b[39m _wrapper_grad(\n\u001b[0;32m    227\u001b[0m     grad,\n\u001b[0;32m    228\u001b[0m     fun\u001b[38;5;241m=\u001b[39m\u001b[38;5;28mself\u001b[39m\u001b[38;5;241m.\u001b[39m_wrapped_fun,\n\u001b[0;32m    229\u001b[0m     args\u001b[38;5;241m=\u001b[39margs,\n\u001b[0;32m    230\u001b[0m     finite_diff_options\u001b[38;5;241m=\u001b[39mfinite_diff_options\n\u001b[0;32m    231\u001b[0m )\n",
      "File \u001b[1;32mc:\\Users\\conor\\miniconda3\\envs\\capstone\\Lib\\site-packages\\scipy\\optimize\\_differentiable_functions.py:295\u001b[0m, in \u001b[0;36mScalarFunction._update_fun\u001b[1;34m(self)\u001b[0m\n\u001b[0;32m    293\u001b[0m \u001b[38;5;28;01mdef\u001b[39;00m\u001b[38;5;250m \u001b[39m\u001b[38;5;21m_update_fun\u001b[39m(\u001b[38;5;28mself\u001b[39m):\n\u001b[0;32m    294\u001b[0m     \u001b[38;5;28;01mif\u001b[39;00m \u001b[38;5;129;01mnot\u001b[39;00m \u001b[38;5;28mself\u001b[39m\u001b[38;5;241m.\u001b[39mf_updated:\n\u001b[1;32m--> 295\u001b[0m         fx \u001b[38;5;241m=\u001b[39m \u001b[38;5;28;43mself\u001b[39;49m\u001b[38;5;241;43m.\u001b[39;49m\u001b[43m_wrapped_fun\u001b[49m\u001b[43m(\u001b[49m\u001b[38;5;28;43mself\u001b[39;49m\u001b[38;5;241;43m.\u001b[39;49m\u001b[43mx\u001b[49m\u001b[43m)\u001b[49m\n\u001b[0;32m    296\u001b[0m         \u001b[38;5;28;01mif\u001b[39;00m fx \u001b[38;5;241m<\u001b[39m \u001b[38;5;28mself\u001b[39m\u001b[38;5;241m.\u001b[39m_lowest_f:\n\u001b[0;32m    297\u001b[0m             \u001b[38;5;28mself\u001b[39m\u001b[38;5;241m.\u001b[39m_lowest_x \u001b[38;5;241m=\u001b[39m \u001b[38;5;28mself\u001b[39m\u001b[38;5;241m.\u001b[39mx\n",
      "File \u001b[1;32mc:\\Users\\conor\\miniconda3\\envs\\capstone\\Lib\\site-packages\\scipy\\optimize\\_differentiable_functions.py:21\u001b[0m, in \u001b[0;36m_wrapper_fun.<locals>.wrapped\u001b[1;34m(x)\u001b[0m\n\u001b[0;32m     17\u001b[0m ncalls[\u001b[38;5;241m0\u001b[39m] \u001b[38;5;241m+\u001b[39m\u001b[38;5;241m=\u001b[39m \u001b[38;5;241m1\u001b[39m\n\u001b[0;32m     18\u001b[0m \u001b[38;5;66;03m# Send a copy because the user may overwrite it.\u001b[39;00m\n\u001b[0;32m     19\u001b[0m \u001b[38;5;66;03m# Overwriting results in undefined behaviour because\u001b[39;00m\n\u001b[0;32m     20\u001b[0m \u001b[38;5;66;03m# fun(self.x) will change self.x, with the two no longer linked.\u001b[39;00m\n\u001b[1;32m---> 21\u001b[0m fx \u001b[38;5;241m=\u001b[39m \u001b[43mfun\u001b[49m\u001b[43m(\u001b[49m\u001b[43mnp\u001b[49m\u001b[38;5;241;43m.\u001b[39;49m\u001b[43mcopy\u001b[49m\u001b[43m(\u001b[49m\u001b[43mx\u001b[49m\u001b[43m)\u001b[49m\u001b[43m,\u001b[49m\u001b[43m \u001b[49m\u001b[38;5;241;43m*\u001b[39;49m\u001b[43margs\u001b[49m\u001b[43m)\u001b[49m\n\u001b[0;32m     22\u001b[0m \u001b[38;5;66;03m# Make sure the function returns a true scalar\u001b[39;00m\n\u001b[0;32m     23\u001b[0m \u001b[38;5;28;01mif\u001b[39;00m \u001b[38;5;129;01mnot\u001b[39;00m np\u001b[38;5;241m.\u001b[39misscalar(fx):\n",
      "File \u001b[1;32mc:\\Users\\conor\\OneDrive\\Documents\\_uni\\2025 S1\\Capstone\\Learning-Dynamic-Systems\\optimal_controller\\optimal_controls.py:132\u001b[0m, in \u001b[0;36mOptimalControlSolver.optimise_K.<locals>.<lambda>\u001b[1;34m(K)\u001b[0m\n\u001b[0;32m    129\u001b[0m \u001b[38;5;28;01massert\u001b[39;00m compute_worst_case_J(\u001b[38;5;28mself\u001b[39m\u001b[38;5;241m.\u001b[39mK_stab, \u001b[38;5;28mself\u001b[39m\u001b[38;5;241m.\u001b[39mA_list, \u001b[38;5;28mself\u001b[39m\u001b[38;5;241m.\u001b[39mB_list, \u001b[38;5;28mself\u001b[39m\u001b[38;5;241m.\u001b[39mQ, \u001b[38;5;28mself\u001b[39m\u001b[38;5;241m.\u001b[39mR, \u001b[38;5;28mself\u001b[39m\u001b[38;5;241m.\u001b[39mx_0) \u001b[38;5;241m!=\u001b[39m np\u001b[38;5;241m.\u001b[39minf\n\u001b[0;32m    131\u001b[0m \u001b[38;5;66;03m# objective      = lambda K: compute_worst_case_J(K.reshape(self.n_inputs,self.n_states), self.A_list, self.B_list, self.Q, self.R, self.x_0)\u001b[39;00m\n\u001b[1;32m--> 132\u001b[0m objective      \u001b[38;5;241m=\u001b[39m \u001b[38;5;28;01mlambda\u001b[39;00m K: compute_worst_case_J(K\u001b[38;5;241m.\u001b[39mreshape(\u001b[38;5;28mself\u001b[39m\u001b[38;5;241m.\u001b[39mn_inputs,\u001b[38;5;28mself\u001b[39m\u001b[38;5;241m.\u001b[39mn_states), \u001b[38;5;28;43mself\u001b[39;49m\u001b[38;5;241;43m.\u001b[39;49m\u001b[43mA_verts\u001b[49m, \u001b[38;5;28mself\u001b[39m\u001b[38;5;241m.\u001b[39mB_verts, \u001b[38;5;28mself\u001b[39m\u001b[38;5;241m.\u001b[39mQ, \u001b[38;5;28mself\u001b[39m\u001b[38;5;241m.\u001b[39mR, \u001b[38;5;28mself\u001b[39m\u001b[38;5;241m.\u001b[39mx_0)\n\u001b[0;32m    133\u001b[0m disp_current_J \u001b[38;5;241m=\u001b[39m \u001b[38;5;28;01mlambda\u001b[39;00m K: \u001b[38;5;28;01mNone\u001b[39;00m \u001b[38;5;66;03m# self.logger.info(f\"\\t Current worst-case J: {compute_worst_case_J(K.reshape(self.n_inputs,self.n_states), self.A_list, self.B_list, self.Q, self.R, self.x_0)}\")\u001b[39;00m\n\u001b[0;32m    135\u001b[0m np\u001b[38;5;241m.\u001b[39mseterr(invalid\u001b[38;5;241m=\u001b[39m\u001b[38;5;124m'\u001b[39m\u001b[38;5;124mignore\u001b[39m\u001b[38;5;124m'\u001b[39m) \u001b[38;5;66;03m# Suppress runtime warnings related to invalid values (J==Inf)\u001b[39;00m\n",
      "\u001b[1;31mAttributeError\u001b[0m: 'OptimalControlSolver' object has no attribute 'A_verts'"
     ]
    }
   ],
   "source": [
    "ocSolver = OptimalControlSolver(A_list,B_list)\n",
    "ocSolver.solve(method='riccati')"
   ]
  },
  {
   "cell_type": "code",
   "execution_count": 4,
   "metadata": {},
   "outputs": [
    {
     "name": "stderr",
     "output_type": "stream",
     "text": [
      "INFO:optimal_controls: Convex hull of A set has 57 vertices\n",
      "INFO:optimal_controls: Convex hull of B set has 55 vertices\n",
      "INFO:optimal_controls: This will lead to 3135 LMI constraints\n",
      "INFO:optimal_controls: Defined 3135 LMI constraints\n",
      "INFO:optimal_controls: SolutionStatus.Optimal, simultaneously stabilising feedback gain is K = [[0.167 0.018 1.048 2.714]]\n",
      "c:\\Users\\conor\\miniconda3\\envs\\capstone\\Lib\\site-packages\\scipy\\optimize\\_minimize.py:733: OptimizeWarning: Desired error not necessarily achieved due to precision loss.\n",
      "  res = _minimize_bfgs(fun, x0, args, jac, callback, **options)\n",
      "INFO:optimal_controls: Optimised the simultaneously stabilising feedback gain, yielding K = [[0.055 0.067 1.094 2.712]]\n",
      "INFO:optimal_controls: Worst J using initial K: 421.8970\n",
      "INFO:optimal_controls: Worst J using optimized K: 455.5557\n"
     ]
    },
    {
     "name": "stdout",
     "output_type": "stream",
     "text": [
      "         Current function value: 303.939067\n",
      "         Iterations: 6\n",
      "         Function evaluations: 386\n",
      "         Gradient evaluations: 74\n"
     ]
    }
   ],
   "source": [
    "ocSolver.solve(method='LMI') # LMI is the default method"
   ]
  },
  {
   "cell_type": "markdown",
   "metadata": {},
   "source": [
    "Or just use get_optimal_controller()"
   ]
  },
  {
   "cell_type": "code",
   "execution_count": null,
   "metadata": {},
   "outputs": [],
   "source": [
    "# get_optimal_controller(A_list, B_list, method='riccati')"
   ]
  },
  {
   "cell_type": "code",
   "execution_count": null,
   "metadata": {},
   "outputs": [],
   "source": [
    "# get_optimal_controller(A_list, B_list, method='LMI')"
   ]
  }
 ],
 "metadata": {
  "kernelspec": {
   "display_name": "capstone",
   "language": "python",
   "name": "python3"
  },
  "language_info": {
   "codemirror_mode": {
    "name": "ipython",
    "version": 3
   },
   "file_extension": ".py",
   "mimetype": "text/x-python",
   "name": "python",
   "nbconvert_exporter": "python",
   "pygments_lexer": "ipython3",
   "version": "3.12.9"
  }
 },
 "nbformat": 4,
 "nbformat_minor": 2
}
