{
 "cells": [
  {
   "cell_type": "markdown",
   "metadata": {},
   "source": [
    "#### Import libraries and select numpy/cupy"
   ]
  },
  {
   "cell_type": "code",
   "execution_count": 10,
   "metadata": {},
   "outputs": [],
   "source": [
    "import os\n",
    "import torch\n",
    "\n",
    "# numpy is way faster than cupy - sticking with numpy for now\n",
    "import numpy as cp\n",
    "\n",
    "import scipy\n",
    "import matplotlib.pyplot as plt\n",
    "from scipy import signal\n",
    "\n",
    "\n",
    "cp.random.seed(42)\n"
   ]
  },
  {
   "cell_type": "markdown",
   "metadata": {},
   "source": [
    "#### Define ARMAX class and generate sample data"
   ]
  },
  {
   "cell_type": "code",
   "execution_count": 11,
   "metadata": {},
   "outputs": [],
   "source": [
    "class ARMAX:\n",
    "    def __init__(self, A, B, C, F, L):\n",
    "        self.A = cp.array(A)\n",
    "        self.B = cp.array(B)\n",
    "        self.C = cp.array(C)\n",
    "        self.F = cp.array(F)\n",
    "        self.L = cp.array(L)\n",
    "    \n",
    "    def simulate(self, n_samples, R=None, noise_std=0.1):\n",
    "        Y = cp.zeros(n_samples)\n",
    "        U = cp.zeros(n_samples)\n",
    "        N = cp.random.normal(0, noise_std, n_samples)\n",
    "        \n",
    "        if R is None:\n",
    "            R = cp.zeros(n_samples)\n",
    "        \n",
    "        max_order = max(len(self.A), len(self.B), len(self.C), len(self.F), len(self.L))\n",
    "        \n",
    "        for t in range(max_order, n_samples):\n",
    "            Y[t] = (- cp.dot(self.A[1:], Y[t-1:t-len(self.A):-1]) \n",
    "                    + cp.dot(self.B, U[t-1:t-len(self.B)-1:-1])\n",
    "                    + cp.dot(self.C, N[t:t-len(self.C):-1]))\n",
    "            \n",
    "            U[t] = (cp.dot(self.L, R[t:t-len(self.L):-1]) \n",
    "                    - cp.dot(self.F, Y[t:t-len(self.F):-1]))\n",
    "        \n",
    "        return Y, U, N, R\n",
    "    \n",
    "    def plot_results(self, Y, U, N, R):\n",
    "        fig, axs = plt.subplots(4, 1, figsize=(10, 12), sharex=True)\n",
    "        \n",
    "        axs[0].plot(Y)\n",
    "        axs[0].set_ylabel('Output (Y)')\n",
    "        axs[0].set_title('ARMAX Closed-Loop Simulation Results')\n",
    "        \n",
    "        axs[1].plot(U)\n",
    "        axs[1].set_ylabel('Input (U)')\n",
    "        \n",
    "        axs[2].plot(N)\n",
    "        axs[2].set_ylabel('Noise (N)')\n",
    "        \n",
    "        axs[3].plot(R)\n",
    "        axs[3].set_ylabel('Reference (R)')\n",
    "        axs[3].set_xlabel('Time')\n",
    "        \n",
    "        plt.tight_layout()\n",
    "        plt.show()\n",
    "\n",
    "# ~~~~~~~~~~~~~~~~~~~~~~~~~~~~ ARMAX data gen\n",
    "\n",
    "A = [1, -0.33]  # A(z^-1) = 1 - 0.33z^-1\n",
    "B = [0.22]      # B(z^-1) = 0.22z^-1\n",
    "C = [1, 0.15]   # C(z^-1) = 1 + 0.15z^-1\n",
    "F = [0.31, 0.23] # F(z^-1) = 0.31 + 0.23z^-1\n",
    "L = [1]        # L(z^-1) = 1\n",
    "\n",
    "armax_model = ARMAX(A, B, C, F, L)\n",
    "n_samples = 100\n",
    "# R = signal.square(cp.linspace(0, 10*cp.pi, n_samples)) # square wave reference signal\n",
    "R = cp.sign(cp.sin(cp.linspace(0, 10*cp.pi, n_samples))) # square wave reference signal, works with both cupy and numpy\n",
    "\n",
    "Y, U, N, R = armax_model.simulate(n_samples, R, noise_std=0.2)\n",
    "# armax_model.plot_results(Y, U, N, R)\n"
   ]
  },
  {
   "cell_type": "markdown",
   "metadata": {},
   "source": [
    "#### Define SPS indirect model class and show example usage"
   ]
  },
  {
   "cell_type": "code",
   "execution_count": 12,
   "metadata": {},
   "outputs": [],
   "source": [
    "from sps_indirect import SPS_indirect_model"
   ]
  },
  {
   "cell_type": "code",
   "execution_count": 13,
   "metadata": {},
   "outputs": [],
   "source": [
    "# ~~~~~~~~~~~~~~~~~~~~~~~~~~~~ SPS\n",
    "\n",
    "A  = [1, -0.33]\n",
    "B = [0, 0.22]\n",
    "C = [1, 0.15]\n",
    "\n",
    "G = (B, A)  \n",
    "H = (C, A)     \n",
    "F = ([0.31, 0.23], [1])  \n",
    "L = ([1], [1])         \n",
    "\n",
    "m = 100\n",
    "q = 5\n",
    "T = n_samples  # Example sample size\n",
    "\n",
    "# import cProfile, pstats\n",
    "# profiler = cProfile.Profile()\n",
    "\n",
    "model = SPS_indirect_model(m, q)\n",
    "G_0, H_0 = model.transform_to_open_loop(G, H, F, L) # open loop system is Y_t = G_0(z^-1, kappa)U_t + H_0(z^-1, kappa)N_t\n",
    "in_sps, S1 = model.open_loop_sps(G_0=G_0, H_0=H_0, Y_t=Y, U_t=R, n_a=1, n_b=1)"
   ]
  },
  {
   "cell_type": "markdown",
   "metadata": {},
   "source": [
    "#### Define functions for evaluating and plotting 1st order SPS confidence region"
   ]
  },
  {
   "cell_type": "code",
   "execution_count": 14,
   "metadata": {},
   "outputs": [],
   "source": [
    "# ~~~~~~~~~~~~~~~~~~~~~~~~~~~~ example of identifying an SPS confidence region\n",
    "\n",
    "def conf_region_1st_order(a_values, b_values, model, C, L, F, Y, R):\n",
    "\n",
    "    # Create a meshgrid for a and b values\n",
    "    a_grid, b_grid = cp.meshgrid(a_values, b_values, indexing='ij')\n",
    "\n",
    "    # Flatten the grids for iteration\n",
    "    a_flat = a_grid.ravel()\n",
    "    b_flat = b_grid.ravel()\n",
    "\n",
    "    # Store results in a list\n",
    "    results = []\n",
    "\n",
    "    # Create torch tensors directly on GPU\n",
    "    try:\n",
    "        _ = cp.asnumpy(C)\n",
    "        device = torch.cuda.current_device()\n",
    "    except:\n",
    "        device = None\n",
    "    a_torch = torch.tensor(a_flat, dtype=torch.float32, device=device)\n",
    "    b_torch = torch.tensor(b_flat, dtype=torch.float32, device=device)\n",
    "\n",
    "    # Vectorized operations to minimize Python loops\n",
    "    A_torch = torch.stack([torch.ones_like(a_torch), -a_torch], dim=-1)\n",
    "    B_torch = torch.stack([torch.zeros_like(b_torch), b_torch], dim=-1)\n",
    "\n",
    "    # Perform the operations in batch\n",
    "    A = cp.from_dlpack(A_torch)\n",
    "    B = cp.from_dlpack(B_torch)\n",
    "\n",
    "    # Assuming 'model' is predefined and contains the necessary methods\n",
    "    for i in range(len(a_flat)):\n",
    "        G = (B[i], A[i])  # G should be a tuple of arrays\n",
    "        H = (C, A[i])  # H should be a tuple of arrays\n",
    "\n",
    "        # Transform to open loop\n",
    "        G_0, H_0 = model.transform_to_open_loop(G, H, F, L)  # Assuming F and L are defined\n",
    "\n",
    "        # Check the condition and store the result if true\n",
    "        in_sps, S1 = model.open_loop_sps(G_0, H_0, Y, R, 1, 1)  # Assuming Y and U are defined\n",
    "        if in_sps:\n",
    "            results.append((a_flat[i].item(), b_flat[i].item()))\n",
    "    # Convert the results to a NumPy array\n",
    "    results = cp.array(results)\n",
    "    return results\n",
    "\n",
    "a_values = cp.arange(0, 0.4, 0.02)\n",
    "b_values = cp.arange(0, 0.4, 0.02)\n",
    "results = conf_region_1st_order(a_values, b_values, model, C, L, F, Y, R)"
   ]
  },
  {
   "cell_type": "code",
   "execution_count": 15,
   "metadata": {},
   "outputs": [
    {
     "data": {
      "image/png": "[encoded data removed]",
      "text/plain": [
       "<Figure size 640x480 with 1 Axes>"
      ]
     },
     "metadata": {},
     "output_type": "display_data"
    }
   ],
   "source": [
    "def plot_results(results, true_a=0.33, true_b=0.22):\n",
    "    fig, ax = plt.subplots()\n",
    "    \n",
    "    try:\n",
    "        results = cp.asnumpy(results)  # convert to np.ndarray\n",
    "    except AttributeError:\n",
    "        pass  # already an np.ndarray\n",
    "\n",
    "    ax.plot(results[:, 0], results[:, 1], 'bo')\n",
    "\n",
    "\n",
    "    # Labeling the plot\n",
    "    ax.set_xlabel('a')\n",
    "    ax.set_ylabel('b')\n",
    "    # axis limits\n",
    "    ax.set_xlim([0, 0.9])\n",
    "    ax.set_ylim([-0.1, 0.5])\n",
    "    ax.set_title('Points for which closed_loop_sps returns True')\n",
    "\n",
    "    # Plot the true values\n",
    "    ax.plot(true_a, true_b, 'rx')  # Plot the true values as a red dot\n",
    "\n",
    "    # Show the plot\n",
    "    plt.show()\n",
    "\n",
    "plot_results(results)"
   ]
  },
  {
   "cell_type": "markdown",
   "metadata": {},
   "source": [
    "#### Functions for converting G(z) to state space (observer canonical form)"
   ]
  },
  {
   "cell_type": "code",
   "execution_count": 16,
   "metadata": {},
   "outputs": [],
   "source": [
    "from optimal_controls import tf_to_ocf, tf_list_to_ocf_list"
   ]
  },
  {
   "cell_type": "code",
   "execution_count": 17,
   "metadata": {},
   "outputs": [
    {
     "data": {
      "text/plain": [
       "(array([[ 0.   ,  0.   , -0.125],\n",
       "        [ 1.   ,  0.   , -0.25 ],\n",
       "        [ 0.   ,  1.   , -0.5  ]]),\n",
       " array([[0.   ],\n",
       "        [0.125],\n",
       "        [0.25 ]]),\n",
       " array([[0., 0., 1.]]))"
      ]
     },
     "execution_count": 17,
     "metadata": {},
     "output_type": "execute_result"
    }
   ],
   "source": [
    "tf_to_ocf([0, 0.5, 0.25], [2, 1, 0.5, 0.25])"
   ]
  },
  {
   "cell_type": "markdown",
   "metadata": {},
   "source": [
    "#### get_optimal_controller(): testing and examples"
   ]
  },
  {
   "cell_type": "code",
   "execution_count": 18,
   "metadata": {},
   "outputs": [],
   "source": [
    "# ~~~~~~~~~~~~~~~~~~~~~~~~~~~~ testing get_optimal_controller_v()\n",
    "\n",
    "# convert TF -> SS, using Observer Canonical Form (OCF)\n",
    "identified_coeffs = [([0, 0.255, 0.58], [1, 0.45, 0.3, 0.2]),\n",
    "                     ([0, 0.256, 0.56], [1, 0.43, 0.31, 0.23]),\n",
    "                     ([0, 0.252, 0.52], [1, 0.44, 0.32, 0.25]),\n",
    "                     ([0, 0.250, 0.58], [1, 0.41, 0.35, 0.19]),\n",
    "                     ([0, 0.253, 0.53], [1, 0.42, 0.34, 0.21])]\n",
    "A_in_set, B_in_set = tf_list_to_ocf_list(identified_coeffs)\n",
    "\n",
    "\n",
    "# ~~~ 2x2 test matrices\n",
    "\n",
    "A_in_set = cp.array([\n",
    "        [[0.5, 1], [0, 0.25]], \n",
    "        [[0.48, 1], [0, 0.25]],\n",
    "        [[0.52, 1], [0, 0.25]],\n",
    "        [[0.54, 1], [0, 0.25]]\n",
    "    ])\n",
    "\n",
    "B_in_set = cp.array([\n",
    "        [[0], [1]],\n",
    "        [[0], [1]],\n",
    "        [[0], [1]],\n",
    "        [[0], [1]]\n",
    "    ])"
   ]
  },
  {
   "cell_type": "code",
   "execution_count": 19,
   "metadata": {},
   "outputs": [
    {
     "data": {
      "text/plain": [
       "array([[0.10985363, 0.37904795]])"
      ]
     },
     "execution_count": 19,
     "metadata": {},
     "output_type": "execute_result"
    }
   ],
   "source": [
    "from optimal_controls import get_optimal_controller\n",
    "\n",
    "n = 2\n",
    "Q = cp.eye(n)\n",
    "R = cp.eye(1)\n",
    "x_0 = cp.zeros([n,1])\n",
    "x_0[0][0] = 1\n",
    "\n",
    "get_optimal_controller(A_in_set,B_in_set,Q,R,x_0)"
   ]
  },
  {
   "cell_type": "markdown",
   "metadata": {},
   "source": [
    "#### optimal_control.py: speed tests"
   ]
  },
  {
   "cell_type": "code",
   "execution_count": 20,
   "metadata": {},
   "outputs": [],
   "source": [
    "from optimal_controls import get_optimal_controller_v_version1\n",
    "from optimal_controls import get_optimal_controller_v_version2"
   ]
  },
  {
   "cell_type": "code",
   "execution_count": 21,
   "metadata": {},
   "outputs": [
    {
     "data": {
      "text/plain": [
       "array([[0.10985363, 0.37904795]])"
      ]
     },
     "execution_count": 21,
     "metadata": {},
     "output_type": "execute_result"
    }
   ],
   "source": [
    "for i in range(1000):\n",
    "    get_optimal_controller_v_version1(A_in_set,B_in_set,Q,R,x_0)\n",
    "get_optimal_controller_v_version1(A_in_set,B_in_set,Q,R,x_0)"
   ]
  },
  {
   "cell_type": "code",
   "execution_count": 22,
   "metadata": {},
   "outputs": [
    {
     "data": {
      "text/plain": [
       "array([[0.10985363, 0.37904795]])"
      ]
     },
     "execution_count": 22,
     "metadata": {},
     "output_type": "execute_result"
    }
   ],
   "source": [
    "for i in range(1000):\n",
    "    get_optimal_controller_v_version2(A_in_set,B_in_set,Q,R,x_0)\n",
    "get_optimal_controller_v_version2(A_in_set,B_in_set,Q,R,x_0)"
   ]
  },
  {
   "cell_type": "code",
   "execution_count": 23,
   "metadata": {},
   "outputs": [],
   "source": [
    "# ~~~~~~~~~~~~~~~~~~~~~~~~~~~~ testing dlqr() and dqlr_custom()\n",
    "from optimal_controls import dlqr, dlqr_custom\n",
    "A = A_in_set[0,:]\n",
    "B = B_in_set[0,:]"
   ]
  },
  {
   "cell_type": "code",
   "execution_count": 24,
   "metadata": {},
   "outputs": [],
   "source": [
    "for i in range(10000):\n",
    "    K, _ = dlqr(A, B, Q, R)"
   ]
  },
  {
   "cell_type": "code",
   "execution_count": 25,
   "metadata": {},
   "outputs": [],
   "source": [
    "for i in range(10000):\n",
    "    K, _ = dlqr_custom(A,B,Q,R,tol=1e-6)"
   ]
  },
  {
   "cell_type": "markdown",
   "metadata": {},
   "source": [
    "#### Example of first order system adaptive control"
   ]
  },
  {
   "cell_type": "code",
   "execution_count": 26,
   "metadata": {},
   "outputs": [
    {
     "name": "stderr",
     "output_type": "stream",
     "text": [
      "c:\\Users\\conor\\anaconda3\\envs\\capstone_v2\\lib\\site-packages\\scipy\\signal\\_lti_conversion.py:74: BadCoefficients: Badly conditioned filter coefficients (numerator): the results may be meaningless\n",
      "  num, den = normalize(num, den)   # Strips zeros, checks arrays\n"
     ]
    },
    {
     "name": "stdout",
     "output_type": "stream",
     "text": [
      "This run's mean squared error (MSE): 0.6640060786504444\n",
      "New optimal controller: 0.12695258245360805\n",
      "This run's mean squared error (MSE): 0.503044059262582\n",
      "New optimal controller: 0.273049595067908\n",
      "This run's mean squared error (MSE): 0.4395517653700904\n",
      "New optimal controller: 0.22095908846849338\n",
      "This run's mean squared error (MSE): 0.45924045092497734\n",
      "New optimal controller: 0.19358057031203801\n",
      "This run's mean squared error (MSE): 0.43997138048853535\n",
      "New optimal controller: 0.17910892178754778\n",
      "This run's mean squared error (MSE): 0.36875116845848754\n",
      "New optimal controller: 0.182818042635341\n",
      "This run's mean squared error (MSE): 0.3576164908741104\n",
      "New optimal controller: 0.22095908846849338\n",
      "This run's mean squared error (MSE): 0.387030230783731\n",
      "New optimal controller: 0.182818042635341\n",
      "This run's mean squared error (MSE): 0.347164991556559\n",
      "New optimal controller: 0.19741566446467662\n",
      "This run's mean squared error (MSE): 0.37213789205372905\n",
      "New optimal controller: 0.20565462941751256\n",
      "This run's mean squared error (MSE): 0.5951933177821299\n",
      "New optimal controller: 0.06645907611873993\n",
      "This run's mean squared error (MSE): 0.5400390111706472\n",
      "New optimal controller: 0.0876393728069785\n",
      "This run's mean squared error (MSE): 0.5548772744567371\n",
      "New optimal controller: 0.07316741000232917\n",
      "This run's mean squared error (MSE): 0.5250982197835974\n",
      "New optimal controller: 0.08425681828700546\n",
      "This run's mean squared error (MSE): 0.5436129612641053\n",
      "New optimal controller: 0.06794422464541511\n",
      "This run's mean squared error (MSE): 0.5188350895830262\n",
      "New optimal controller: 0.07967956404071265\n",
      "This run's mean squared error (MSE): 0.5484092056848133\n",
      "New optimal controller: 0.07316741000232917\n",
      "This run's mean squared error (MSE): 0.5135838707630693\n",
      "New optimal controller: 0.07401092172020154\n",
      "This run's mean squared error (MSE): 0.5181020603623266\n",
      "New optimal controller: 0.07967956404071265\n",
      "This run's mean squared error (MSE): 0.5375817448139804\n",
      "New optimal controller: 0.07401092172020154\n"
     ]
    }
   ],
   "source": [
    "# ~~~~~~~~~~~~~~~~~~~~~~~~~~~~ pseudo code\n",
    "\n",
    "k = 0.22 # initial feedback controller\n",
    "\n",
    "k_vals = []\n",
    "MSE_vals = []\n",
    "\n",
    "n_iters = 20\n",
    "param_change_iter = 10\n",
    "\n",
    "for i in range(n_iters):\n",
    "\n",
    "    if i >= param_change_iter:\n",
    "        a = 0.3\n",
    "    else:\n",
    "        a = 0.6\n",
    "\n",
    "    # ~~~~~~~~~~~ run the system, gather input/output data\n",
    "\n",
    "    n_samples = 100 + 100*i\n",
    "    # n_samples = 200\n",
    "    m = 20\n",
    "    q = 1\n",
    "\n",
    "    A = [1, -a]      # A(z^-1) = 1 - az^-1\n",
    "    B = [0.22]          # B(z^-1) = 0.22z^-1\n",
    "    C = [1, 0.15]       # C(z^-1) = 1 + 0.15z^-1\n",
    "    F = [k]             # proportional feedback\n",
    "    L = [1]             # L(z^-1) = 1\n",
    "\n",
    "    armax_model = ARMAX(A, B, C, F, L)\n",
    "    # R = signal.square(cp.linspace(0, 10*cp.pi, n_samples)) # square wave reference signal\n",
    "    R = cp.sign(cp.sin(cp.linspace(0, 10*cp.pi, n_samples))) # square wave reference signal, works with both cupy and numpy\n",
    "    Y, U, N, R = armax_model.simulate(n_samples, R, noise_std=0.2)\n",
    "    MSE = cp.sum((R - Y) ** 2) / n_samples\n",
    "    MSE_vals.append(MSE)\n",
    "    # armax_model.plot_results(Y,U,N,R)\n",
    "\n",
    "    # ~~~~~~~~~~~ create the SPS model object with the current feedback controller\n",
    "\n",
    "    model = SPS_indirect_model(m, q, n_samples-1)\n",
    "    # print(model.N)\n",
    "\n",
    "    A  = [1, -a]\n",
    "    B = [0, 0.22]\n",
    "    C = [1, 0.15]\n",
    "\n",
    "    G = (B, A)  \n",
    "    H = (C, A)     \n",
    "    F = ([k], [1])\n",
    "    L = ([1], [1])         \n",
    "\n",
    "    G_0, H_0 = model.transform_to_open_loop(G, H, F, L) # open loop system is Y_t = G_0(z^-1, kappa)U_t + H_0(z^-1, kappa)N_t\n",
    "\n",
    "\n",
    "    # ~~~~~~~~~~~ identify SPS confidence region using indirect SPS\n",
    "\n",
    "    a_values = cp.arange(0, 1.0, 0.02)\n",
    "    b_values = cp.arange(0, 0.5, 0.02)\n",
    "    results = conf_region_1st_order(a_values, b_values, model, C, L, F, Y, R)\n",
    "    a_in_set = results[:,0]\n",
    "    b_in_set = results[:,1]\n",
    "\n",
    "    # ~~~~~~~~~~~ identify the optimal controller\n",
    "\n",
    "    A_ss, B_ss, C_ss, D_ss = signal.tf2ss(G[0], G[1]) # change the system representation (transfer function -> state space). NB: ignoring H(z)\n",
    "    k = get_optimal_controller(a_in_set,b_in_set,1,1) # solve the min-max problem - the minimisation is done by solving the DARE, maximisation by brute force (iterate over points in SPS confidence region)\n",
    "    k_vals.append(k)\n",
    "    \n",
    "    print(\"This run's mean squared error (MSE):\", MSE)\n",
    "    print(\"New optimal controller:\", k)\n",
    "    # plot_results(results, true_a=a, true_b=0.22)\n"
   ]
  },
  {
   "cell_type": "code",
   "execution_count": 27,
   "metadata": {},
   "outputs": [
    {
     "data": {
      "image/png": "[encoded data removed]",
      "text/plain": [
       "<Figure size 640x480 with 1 Axes>"
      ]
     },
     "metadata": {},
     "output_type": "display_data"
    },
    {
     "data": {
      "image/png": "[encoded data removed]",
      "text/plain": [
       "<Figure size 640x480 with 1 Axes>"
      ]
     },
     "metadata": {},
     "output_type": "display_data"
    }
   ],
   "source": [
    "plt.figure()\n",
    "plt.plot(cp.arange(n_iters), MSE_vals)\n",
    "plt.ylabel('MSE')\n",
    "plt.show()\n",
    "\n",
    "plt.figure()\n",
    "plt.plot(cp.arange(n_iters), k_vals)\n",
    "plt.ylabel('k')\n",
    "plt.show()"
   ]
  }
 ],
 "metadata": {
  "kernelspec": {
   "display_name": "capstone_v2",
   "language": "python",
   "name": "python3"
  },
  "language_info": {
   "codemirror_mode": {
    "name": "ipython",
    "version": 3
   },
   "file_extension": ".py",
   "mimetype": "text/x-python",
   "name": "python",
   "nbconvert_exporter": "python",
   "pygments_lexer": "ipython3",
   "version": "3.9.0"
  }
 },
 "nbformat": 4,
 "nbformat_minor": 2
}
