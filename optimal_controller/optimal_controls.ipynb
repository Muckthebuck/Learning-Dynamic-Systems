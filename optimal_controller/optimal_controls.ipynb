{
 "cells": [
  {
   "cell_type": "code",
   "execution_count": 1,
   "metadata": {},
   "outputs": [],
   "source": [
    "# REQUIREMENTS\n",
    "#   - see https://www.mosek.com/products/academic-licenses/ to get a .lic file and place it in the required directory\n",
    "#   - then \"pip install mosek\"\n",
    "\n",
    "import os\n",
    "if os.path.basename(os.getcwd()) != 'Learning-Dynamic-Systems': os.chdir(\".\\\\..\") \n",
    "\n",
    "import numpy as np\n",
    "from optimal_controller.state_space import generate_perturbed\n",
    "from optimal_controller.optimal_controls import *\n",
    "import logging\n",
    "logging.basicConfig(level=logging.INFO, force=True)"
   ]
  },
  {
   "cell_type": "code",
   "execution_count": 2,
   "metadata": {},
   "outputs": [],
   "source": [
    "def generate_perturbed(matrix, n_samples, pct):\n",
    "    \"\"\"\n",
    "    Generates a list of perturbed versions of a given matrix (A or B).\n",
    "    The original matrix is always included, stored as the first element of the list.\n",
    "    Perturbations are applied assuming OCF state space matrices, i.e. if an A matrix, only the final column is perturbed.\n",
    "\n",
    "    Parameters:\n",
    "    ----------\n",
    "    matrix : np.ndarray\n",
    "        The original matrix to perturb. Should be either square (interpreted as an A matrix) or Nx1 rectangular (interpreted as a B matrix).\n",
    "    n_samples : int\n",
    "        Number of perturbed matrices to generate, including the original matrix.\n",
    "    pct : float\n",
    "        Maximum percentage perturbation (relative to the absolute value of each element) applied to the matrix.\n",
    "        For example, pct = 0.2 allows ±20% perturbations.\n",
    "\n",
    "    Returns:\n",
    "    -------\n",
    "    perturbed_matrices : list of np.ndarray\n",
    "        List containing the original matrix and (n_samples - 1) perturbed versions. Perturbations are random but bounded as follows:\n",
    "        - For A matrices (square), only the last column is perturbed.\n",
    "        - For B matrices (non-square), all elements are perturbed independently.\n",
    "        This corresponds to perturbing the transfer function coefficients.\n",
    "    \"\"\"    \n",
    "    display_generated_matrices = False\n",
    "\n",
    "    if matrix.shape[0] == matrix.shape[1]:\n",
    "        # Square matrix (A matrix)\n",
    "        n_states = matrix.shape[0]\n",
    "        delta_A_min = -pct * np.hstack((np.zeros((n_states, n_states - 1)), np.abs(matrix[:, n_states - 1:n_states])))\n",
    "        delta_A_max = pct * np.hstack((np.zeros((n_states, n_states - 1)), np.abs(matrix[:, n_states - 1:n_states])))\n",
    "        perturbed_matrices = [matrix]\n",
    "        for _ in range(1, n_samples):\n",
    "            delta_A = delta_A_min + (delta_A_max - delta_A_min) * np.random.randn(n_states, n_states)\n",
    "            perturbed_matrices.append(matrix + delta_A)\n",
    "    else:\n",
    "        # Non-square matrix (B matrix)\n",
    "        n_states, n_inputs = matrix.shape\n",
    "        delta_B_min = -pct * np.abs(matrix)\n",
    "        delta_B_max = pct * np.abs(matrix)\n",
    "        perturbed_matrices = [matrix]\n",
    "        for _ in range(1, n_samples):\n",
    "            delta_B = delta_B_min + (delta_B_max - delta_B_min) * np.random.randn(n_states, n_inputs)\n",
    "            perturbed_matrices.append(matrix + delta_B)\n",
    "    \n",
    "    if display_generated_matrices:\n",
    "        for i, mat in enumerate(perturbed_matrices):\n",
    "            print(f'perturbed_matrices[{i}] =\\n', mat)\n",
    "    \n",
    "    return np.array(perturbed_matrices)\n"
   ]
  },
  {
   "cell_type": "code",
   "execution_count": 3,
   "metadata": {},
   "outputs": [],
   "source": [
    "# n_states = 1\n",
    "# n_inputs = 1\n",
    "# A0 = np.array([[0.7]])\n",
    "# B0 = np.array([[0.4]])\n",
    "# n_plants = 2000\n",
    "# A_list = generate_perturbed(A0, n_plants, 0.1)\n",
    "# B_list = np.ones_like(A_list) * 0.4"
   ]
  },
  {
   "cell_type": "code",
   "execution_count": 4,
   "metadata": {},
   "outputs": [],
   "source": [
    "n_states = 2\n",
    "n_inputs = 2\n",
    "A0 = np.array([[1, 0.5],\n",
    "               [0.5, 1]])\n",
    "B0 = np.eye(2)\n",
    "n_plants = 128\n",
    "A_list = generate_perturbed(A0, n_plants, 0.1)\n",
    "B_list = generate_perturbed(B0, n_plants, 0.1)"
   ]
  },
  {
   "cell_type": "code",
   "execution_count": 5,
   "metadata": {},
   "outputs": [],
   "source": [
    "# n_states = 4\n",
    "# n_inputs = 1\n",
    "# A0 = np.array([[0, 0, 0, -0.048],\n",
    "#                [1, 0, 0, 0.676],\n",
    "#                [0, 1, 0, -2.21],\n",
    "#                [0, 0, 1, 2.6]])\n",
    "# B0 = np.array([[-0.12], [0.68], [-1.4], [1]])\n",
    "# n_plants = 128\n",
    "# A_list = generate_perturbed(A0, n_plants, 0.005)\n",
    "# B_list = generate_perturbed(B0, n_plants, 0.005)"
   ]
  },
  {
   "cell_type": "code",
   "execution_count": 6,
   "metadata": {},
   "outputs": [],
   "source": [
    "# n_states = 6\n",
    "# n_inputs = 1\n",
    "# A0 = np.array([[0,  0,  0,  0,  0, -0.085],\n",
    "#                [1,  0,  0,  0,  0,  0.642],\n",
    "#                [0,  1,  0,  0,  0, -2.219],\n",
    "#                [0,  0,  1,  0,  0,  4.354],\n",
    "#                [0,  0,  0,  1,  0, -5.11 ],\n",
    "#                [0,  0,  0,  0,  1,  3.4  ]])\n",
    "# B0 = np.array([[-0.0068], [0.0796], [-0.4170], [1.17], [-1.7], [1]])\n",
    "# n_plants = 256\n",
    "# A_list = generate_perturbed(A0, n_plants, 0.005)\n",
    "# B_list = generate_perturbed(B0, n_plants, 0.002)"
   ]
  },
  {
   "cell_type": "code",
   "execution_count": 7,
   "metadata": {},
   "outputs": [
    {
     "name": "stderr",
     "output_type": "stream",
     "text": [
      "INFO:optimal_controller.optimal_controls: Defined 23 LMI constraints\n"
     ]
    },
    {
     "name": "stderr",
     "output_type": "stream",
     "text": [
      "INFO:optimal_controller.optimal_controls: SolutionStatus.Optimal, simultaneously stabilising feedback gain is K = [[0.987 0.464]\n",
      " [0.506 0.970]]\n",
      "INFO:optimal_controller.optimal_controls: Optimised the simultaneously stabilising feedback gain, yielding K = [[0.687 0.594]\n",
      " [0.467 0.925]]\n",
      "INFO:optimal_controller.optimal_controls: Worst J using initial K: 7.6474\n",
      "INFO:optimal_controller.optimal_controls: Worst J using optimized K: 6.7194\n"
     ]
    }
   ],
   "source": [
    "K = get_optimal_controller(A_list, B_list)"
   ]
  },
  {
   "cell_type": "code",
   "execution_count": 8,
   "metadata": {},
   "outputs": [
    {
     "name": "stderr",
     "output_type": "stream",
     "text": [
      "INFO:optimal_controller.optimal_controls: Defined 128 LMI constraints\n",
      "INFO:optimal_controller.optimal_controls: SolutionStatus.Optimal, simultaneously stabilising feedback gain is K = [[0.998 0.463]\n",
      " [0.534 0.964]]\n",
      "INFO:optimal_controller.optimal_controls: Optimised the simultaneously stabilising feedback gain, yielding K = [[0.833 0.628]\n",
      " [0.381 0.918]]\n",
      "INFO:optimal_controller.optimal_controls: Worst J using initial K: 7.5838\n",
      "INFO:optimal_controller.optimal_controls: Worst J using optimized K: 6.7234\n"
     ]
    }
   ],
   "source": [
    "ocSolver = OptimalControlSolver(A_list, B_list)\n",
    "ocSolver.uncertainty_region_method = 'all_plants'\n",
    "ocSolver.simstab_method = 'LMI'\n",
    "ocSolver.minimize_wrt = 'all_plants'\n",
    "ocSolver.solve()"
   ]
  },
  {
   "cell_type": "code",
   "execution_count": 9,
   "metadata": {},
   "outputs": [
    {
     "name": "stderr",
     "output_type": "stream",
     "text": [
      "INFO:optimal_controller.optimal_controls: Convex hull of A set has 11 vertices\n",
      "INFO:optimal_controller.optimal_controls: Convex hull of B set has 2 vertices\n",
      "INFO:optimal_controller.optimal_controls: This will lead to 22 LMI constraints\n",
      "INFO:optimal_controller.optimal_controls: Defined 22 LMI constraints\n",
      "INFO:optimal_controller.optimal_controls: SolutionStatus.Optimal, simultaneously stabilising feedback gain is K = [[1.010 0.514]\n",
      " [0.461 0.935]]\n",
      "INFO:optimal_controller.optimal_controls: Optimised the simultaneously stabilising feedback gain, yielding K = [[1.010 0.514]\n",
      " [0.461 0.935]]\n",
      "INFO:optimal_controller.optimal_controls: Worst J using initial K: 7.0197\n",
      "INFO:optimal_controller.optimal_controls: Worst J using optimized K: 7.0197\n"
     ]
    }
   ],
   "source": [
    "ocSolver = OptimalControlSolver(A_list, B_list)\n",
    "ocSolver.uncertainty_region_method = 'convhull_oliveira'\n",
    "ocSolver.simstab_method = 'LMI'\n",
    "ocSolver.minimize_wrt = 'all_plants'\n",
    "ocSolver.solve()"
   ]
  },
  {
   "cell_type": "code",
   "execution_count": 10,
   "metadata": {},
   "outputs": [
    {
     "name": "stderr",
     "output_type": "stream",
     "text": [
      "INFO:optimal_controller.optimal_controls: Defined 23 LMI constraints\n",
      "INFO:optimal_controller.optimal_controls: SolutionStatus.Optimal, simultaneously stabilising feedback gain is K = [[0.987 0.464]\n",
      " [0.506 0.970]]\n",
      "INFO:optimal_controller.optimal_controls: Optimised the simultaneously stabilising feedback gain, yielding K = [[0.687 0.594]\n",
      " [0.467 0.925]]\n",
      "INFO:optimal_controller.optimal_controls: Worst J using initial K: 7.6474\n",
      "INFO:optimal_controller.optimal_controls: Worst J using optimized K: 6.7194\n"
     ]
    }
   ],
   "source": [
    "ocSolver = OptimalControlSolver(A_list, B_list)\n",
    "ocSolver.uncertainty_region_method = 'convhull_peaucelle'\n",
    "ocSolver.simstab_method = 'LMI'\n",
    "ocSolver.minimize_wrt = 'vertex_plants'\n",
    "ocSolver.solve()"
   ]
  },
  {
   "cell_type": "code",
   "execution_count": 11,
   "metadata": {},
   "outputs": [
    {
     "name": "stderr",
     "output_type": "stream",
     "text": [
      "INFO:optimal_controller.optimal_controls: Riccati heuristic failed to find a simultaneously stabilising feedback gain!\n"
     ]
    },
    {
     "ename": "AssertionError",
     "evalue": "",
     "output_type": "error",
     "traceback": [
      "\u001b[1;31m---------------------------------------------------------------------------\u001b[0m",
      "\u001b[1;31mAssertionError\u001b[0m                            Traceback (most recent call last)",
      "Cell \u001b[1;32mIn[11], line 5\u001b[0m\n\u001b[0;32m      3\u001b[0m ocSolver\u001b[38;5;241m.\u001b[39msimstab_method \u001b[38;5;241m=\u001b[39m \u001b[38;5;124m'\u001b[39m\u001b[38;5;124mriccati\u001b[39m\u001b[38;5;124m'\u001b[39m\n\u001b[0;32m      4\u001b[0m ocSolver\u001b[38;5;241m.\u001b[39mminimize_wrt \u001b[38;5;241m=\u001b[39m \u001b[38;5;124m'\u001b[39m\u001b[38;5;124mall_plants\u001b[39m\u001b[38;5;124m'\u001b[39m\n\u001b[1;32m----> 5\u001b[0m \u001b[43mocSolver\u001b[49m\u001b[38;5;241;43m.\u001b[39;49m\u001b[43msolve\u001b[49m\u001b[43m(\u001b[49m\u001b[43m)\u001b[49m\n",
      "File \u001b[1;32mc:\\Users\\conor\\OneDrive\\Documents\\_uni\\2025 S1\\Capstone\\Learning-Dynamic-Systems\\optimal_controller\\optimal_controls.py:130\u001b[0m, in \u001b[0;36mOptimalControlSolver.solve\u001b[1;34m(self)\u001b[0m\n\u001b[0;32m    128\u001b[0m \u001b[38;5;28mself\u001b[39m\u001b[38;5;241m.\u001b[39mcompute_vertices()\n\u001b[0;32m    129\u001b[0m \u001b[38;5;28mself\u001b[39m\u001b[38;5;241m.\u001b[39mget_K_stab()\n\u001b[1;32m--> 130\u001b[0m \u001b[38;5;28;43mself\u001b[39;49m\u001b[38;5;241;43m.\u001b[39;49m\u001b[43moptimise_K_stab\u001b[49m\u001b[43m(\u001b[49m\u001b[43m)\u001b[49m\n",
      "File \u001b[1;32mc:\\Users\\conor\\OneDrive\\Documents\\_uni\\2025 S1\\Capstone\\Learning-Dynamic-Systems\\optimal_controller\\optimal_controls.py:253\u001b[0m, in \u001b[0;36mOptimalControlSolver.optimise_K_stab\u001b[1;34m(self)\u001b[0m\n\u001b[0;32m    251\u001b[0m \u001b[38;5;28;01mdef\u001b[39;00m\u001b[38;5;250m \u001b[39m\u001b[38;5;21moptimise_K_stab\u001b[39m(\u001b[38;5;28mself\u001b[39m):\n\u001b[1;32m--> 253\u001b[0m     \u001b[38;5;28;01massert\u001b[39;00m \u001b[38;5;28mself\u001b[39m\u001b[38;5;241m.\u001b[39mK_stab \u001b[38;5;129;01mis\u001b[39;00m \u001b[38;5;129;01mnot\u001b[39;00m \u001b[38;5;28;01mNone\u001b[39;00m\n\u001b[0;32m    254\u001b[0m     \u001b[38;5;28;01massert\u001b[39;00m compute_worst_case_J(\u001b[38;5;28mself\u001b[39m\u001b[38;5;241m.\u001b[39mK_stab, \u001b[38;5;28mself\u001b[39m\u001b[38;5;241m.\u001b[39mA_list, \u001b[38;5;28mself\u001b[39m\u001b[38;5;241m.\u001b[39mB_list, \u001b[38;5;28mself\u001b[39m\u001b[38;5;241m.\u001b[39mQ, \u001b[38;5;28mself\u001b[39m\u001b[38;5;241m.\u001b[39mR, \u001b[38;5;28mself\u001b[39m\u001b[38;5;241m.\u001b[39mx_0) \u001b[38;5;241m!=\u001b[39m np\u001b[38;5;241m.\u001b[39minf\n\u001b[0;32m    256\u001b[0m     \u001b[38;5;28;01mif\u001b[39;00m \u001b[38;5;28mself\u001b[39m\u001b[38;5;241m.\u001b[39mminimize_wrt \u001b[38;5;241m==\u001b[39m \u001b[38;5;124m'\u001b[39m\u001b[38;5;124mvertex_plants\u001b[39m\u001b[38;5;124m'\u001b[39m:\n",
      "\u001b[1;31mAssertionError\u001b[0m: "
     ]
    }
   ],
   "source": [
    "ocSolver = OptimalControlSolver(A_list, B_list)\n",
    "ocSolver.uncertainty_region_method = 'all_plants'\n",
    "ocSolver.simstab_method = 'riccati'\n",
    "ocSolver.minimize_wrt = 'all_plants'\n",
    "ocSolver.solve()"
   ]
  },
  {
   "cell_type": "code",
   "execution_count": null,
   "metadata": {},
   "outputs": [
    {
     "name": "stderr",
     "output_type": "stream",
     "text": [
      "INFO:optimal_controller.optimal_controls: Defined 114 LMI constraints\n",
      "INFO:optimal_controller.optimal_controls: SolutionStatus.Optimal, simultaneously stabilising feedback gain is K = [[1.007 0.449]\n",
      " [0.497 0.976]]\n",
      "INFO:optimal_controller.optimal_controls: Optimised the simultaneously stabilising feedback gain, yielding K = [[0.847 0.707]\n",
      " [0.512 0.867]]\n",
      "INFO:optimal_controller.optimal_controls: Worst J using initial K: 6.3124\n",
      "INFO:optimal_controller.optimal_controls: Worst J using optimized K: 5.8529\n"
     ]
    }
   ],
   "source": [
    "ocSolver = OptimalControlSolver(A_list, B_list)\n",
    "ocSolver.uncertainty_region_method = 'lowresMVEE'\n",
    "ocSolver.set_max_n_verts(1000)\n",
    "ocSolver.simstab_method = 'LMI'\n",
    "ocSolver.minimize_wrt = 'all_plants'\n",
    "ocSolver.solve()"
   ]
  }
 ],
 "metadata": {
  "kernelspec": {
   "display_name": "capstone",
   "language": "python",
   "name": "python3"
  },
  "language_info": {
   "codemirror_mode": {
    "name": "ipython",
    "version": 3
   },
   "file_extension": ".py",
   "mimetype": "text/x-python",
   "name": "python",
   "nbconvert_exporter": "python",
   "pygments_lexer": "ipython3",
   "version": "3.12.10"
  }
 },
 "nbformat": 4,
 "nbformat_minor": 2
}
