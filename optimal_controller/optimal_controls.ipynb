{
 "cells": [
  {
   "cell_type": "code",
   "execution_count": 3,
   "metadata": {},
   "outputs": [],
   "source": [
    "# REQUIREMENTS\n",
    "#   - see https://www.mosek.com/products/academic-licenses/ to get a .lic file and place it in the required directory\n",
    "#   - then \"pip install mosek\"\n",
    "\n",
    "import numpy as np\n",
    "from state_space import generate_perturbed\n",
    "from optimal_controls import OptimalControlSolver, get_optimal_controller\n",
    "import logging\n",
    "logging.basicConfig(level=logging.INFO, force=True)"
   ]
  },
  {
   "cell_type": "code",
   "execution_count": 4,
   "metadata": {},
   "outputs": [],
   "source": [
    "# n_states = 6\n",
    "# n_inputs = 1\n",
    "# A0 = np.array([[ 0.000,  0.000,  0.000,  0.000,  0.000, -0.086],\n",
    "#                [ 1.000,  0.000,  0.000,  0.000,  0.000,  0.734],\n",
    "#                [ 0.000,  1.000,  0.000,  0.000,  0.000, -2.767],\n",
    "#                [ 0.000,  0.000,  1.000,  0.000,  0.000,  5.774],\n",
    "#                [ 0.000,  0.000,  0.000,  1.000,  0.000, -6.720],\n",
    "#                [ 0.000,  0.000,  0.000,  0.000,  1.000,  4.100]])\n",
    "# B0 = np.array([[-0.045, 0.010],\n",
    "#                [ 0.471, 0.100],\n",
    "#                [-1.746, 2.500],\n",
    "#                [ 3.090, 0.090],\n",
    "#                [-2.600, 4.746],\n",
    "#                [ 1.000, 0.500]])\n",
    "        \n",
    "n_states = 4\n",
    "n_inputs = 1\n",
    "A0 = np.array([[0, 0, 0, -0.048],\n",
    "               [1, 0, 0, 0.676],\n",
    "               [0, 1, 0, -2.21],\n",
    "               [0, 0, 1, 2.6]])\n",
    "B0 = np.array([[-0.12], [0.68], [-1.4], [1]])\n",
    "\n",
    "n_plants = 256\n",
    "A_list = generate_perturbed(A0, n_plants, 0.04)\n",
    "B_list = generate_perturbed(B0, n_plants, 0.01)"
   ]
  },
  {
   "cell_type": "markdown",
   "metadata": {},
   "source": [
    "Can use an instance of OptimalControlSolver to compute the controller"
   ]
  },
  {
   "cell_type": "code",
   "execution_count": 5,
   "metadata": {},
   "outputs": [
    {
     "name": "stderr",
     "output_type": "stream",
     "text": [
      "INFO:optimal_controls: Computed solution via Riccati heuristic, K = [[-0.04552237 -0.30934185  0.37383067  1.52605108]]\n",
      "INFO:optimal_controls: Riccati heuristic did not return a stabilising controller!\n"
     ]
    }
   ],
   "source": [
    "ocSolver = OptimalControlSolver(A_list,B_list)\n",
    "ocSolver.solve(method='riccati')"
   ]
  },
  {
   "cell_type": "code",
   "execution_count": 6,
   "metadata": {},
   "outputs": [
    {
     "name": "stderr",
     "output_type": "stream",
     "text": [
      "INFO:optimal_controls: Convex hull of A set has 61 vertices\n",
      "INFO:optimal_controls: Convex hull of B set has 64 vertices\n",
      "INFO:optimal_controls: This will lead to 3904 LMI constraints\n",
      "INFO:optimal_controls: Defined 3904 LMI constraints\n",
      "INFO:optimal_controls: SolutionStatus.Optimal, simultaneously stabilising feedback gain is K = [[0.20547716 0.03638015 1.04018447 2.75978979]]\n",
      "INFO:optimal_controls: Optimised the simultaneously stabilising feedback gain, yielding K = [[0.19825017 0.06734281 0.98565722 2.75899655]]\n",
      "INFO:optimal_controls: Worst J using initial K: 613.0865\n",
      "INFO:optimal_controls: Worst J using optimized K: 548.8586\n"
     ]
    }
   ],
   "source": [
    "ocSolver.solve(method='LMI') # LMI is the default method"
   ]
  },
  {
   "cell_type": "markdown",
   "metadata": {},
   "source": [
    "Or just use get_optimal_controller()"
   ]
  },
  {
   "cell_type": "code",
   "execution_count": null,
   "metadata": {},
   "outputs": [
    {
     "name": "stderr",
     "output_type": "stream",
     "text": [
      "INFO:optimal_controls: Computed solution via Riccati heuristic, K = [[-0.04552237 -0.30934185  0.37383067  1.52605108]]\n",
      "INFO:optimal_controls: Riccati heuristic did not return a stabilising controller!\n"
     ]
    }
   ],
   "source": [
    "# get_optimal_controller(A_list, B_list, method='riccati')"
   ]
  },
  {
   "cell_type": "code",
   "execution_count": 8,
   "metadata": {},
   "outputs": [
    {
     "name": "stderr",
     "output_type": "stream",
     "text": [
      "INFO:optimal_controls: Convex hull of A set has 61 vertices\n",
      "INFO:optimal_controls: Convex hull of B set has 64 vertices\n",
      "INFO:optimal_controls: This will lead to 3904 LMI constraints\n"
     ]
    },
    {
     "name": "stderr",
     "output_type": "stream",
     "text": [
      "INFO:optimal_controls: Defined 3904 LMI constraints\n",
      "INFO:optimal_controls: SolutionStatus.Optimal, simultaneously stabilising feedback gain is K = [[0.20547716 0.03638015 1.04018447 2.75978979]]\n",
      "INFO:optimal_controls: Optimised the simultaneously stabilising feedback gain, yielding K = [[0.19825017 0.06734281 0.98565722 2.75899655]]\n",
      "INFO:optimal_controls: Worst J using initial K: 613.0865\n",
      "INFO:optimal_controls: Worst J using optimized K: 548.8586\n"
     ]
    },
    {
     "data": {
      "text/plain": [
       "array([[0.19825017, 0.06734281, 0.98565722, 2.75899655]])"
      ]
     },
     "execution_count": 8,
     "metadata": {},
     "output_type": "execute_result"
    }
   ],
   "source": [
    "# get_optimal_controller(A_list, B_list, method='LMI')"
   ]
  }
 ],
 "metadata": {
  "kernelspec": {
   "display_name": "capstone",
   "language": "python",
   "name": "python3"
  },
  "language_info": {
   "codemirror_mode": {
    "name": "ipython",
    "version": 3
   },
   "file_extension": ".py",
   "mimetype": "text/x-python",
   "name": "python",
   "nbconvert_exporter": "python",
   "pygments_lexer": "ipython3",
   "version": "3.12.9"
  }
 },
 "nbformat": 4,
 "nbformat_minor": 2
}
