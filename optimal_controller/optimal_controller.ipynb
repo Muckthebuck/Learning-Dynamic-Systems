{
 "cells": [
  {
   "cell_type": "code",
   "execution_count": 6,
   "metadata": {},
   "outputs": [],
   "source": [
    "# REQUIREMENTS\n",
    "#   - see https://www.mosek.com/products/academic-licenses/ to get a .lic file and place it in the required directory\n",
    "#   - then \"pip install mosek\"\n",
    "\n",
    "import numpy as np\n",
    "from state_space import generate_perturbed\n",
    "from optimal_controller import OptimalControlSolver, get_optimal_controller\n",
    "import logging\n",
    "logging.basicConfig(level=logging.INFO, force=True)  # force=True resets any old config"
   ]
  },
  {
   "cell_type": "code",
   "execution_count": 7,
   "metadata": {},
   "outputs": [],
   "source": [
    "# n_states = 6\n",
    "# n_inputs = 1\n",
    "# A0 = np.array([[ 0.000,  0.000,  0.000,  0.000,  0.000, -0.086],\n",
    "#                [ 1.000,  0.000,  0.000,  0.000,  0.000,  0.734],\n",
    "#                [ 0.000,  1.000,  0.000,  0.000,  0.000, -2.767],\n",
    "#                [ 0.000,  0.000,  1.000,  0.000,  0.000,  5.774],\n",
    "#                [ 0.000,  0.000,  0.000,  1.000,  0.000, -6.720],\n",
    "#                [ 0.000,  0.000,  0.000,  0.000,  1.000,  4.100]])\n",
    "# B0 = np.array([[-0.045, 0.010],\n",
    "#                [ 0.471, 0.100],\n",
    "#                [-1.746, 2.500],\n",
    "#                [ 3.090, 0.090],\n",
    "#                [-2.600, 4.746],\n",
    "#                [ 1.000, 0.500]])\n",
    "        \n",
    "n_states = 4\n",
    "n_inputs = 1\n",
    "A0 = np.array([[0, 0, 0, -0.048],\n",
    "               [1, 0, 0, 0.676],\n",
    "               [0, 1, 0, -2.21],\n",
    "               [0, 0, 1, 2.6]])\n",
    "B0 = np.array([[-0.12], [0.68], [-1.4], [1]])\n",
    "\n",
    "n_plants = 256\n",
    "A_list = generate_perturbed(A0, n_plants, 0.04)\n",
    "B_list = generate_perturbed(B0, n_plants, 0.01)"
   ]
  },
  {
   "cell_type": "code",
   "execution_count": 8,
   "metadata": {},
   "outputs": [
    {
     "name": "stderr",
     "output_type": "stream",
     "text": [
      "INFO:optimal_controller: Computed solution via Riccati heuristic, K = [[0.909 0.756 1.468 2.877]]\n",
      "INFO:optimal_controller: Riccati heuristic did not return a stabilising controller!\n"
     ]
    }
   ],
   "source": [
    "ocSolver = OptimalControlSolver(A_list,B_list)\n",
    "ocSolver.solve(method='riccati')"
   ]
  },
  {
   "cell_type": "code",
   "execution_count": 9,
   "metadata": {},
   "outputs": [
    {
     "name": "stderr",
     "output_type": "stream",
     "text": [
      "INFO:optimal_controller: Convex hull of A set has 51 vertices\n",
      "INFO:optimal_controller: Convex hull of B set has 49 vertices\n",
      "INFO:optimal_controller: This will lead to 2499 LMI constraints\n",
      "INFO:optimal_controller: Defined 2499 LMI constraints\n",
      "INFO:optimal_controller: SolutionStatus.Optimal, simultaneously stabilising feedback gain is K = [[0.175 0.050 1.069 2.777]]\n",
      "INFO:optimal_controller: Optimised the simultaneously stabilising feedback gain, yielding K = [[0.169 0.075 1.025 2.777]]\n",
      "INFO:optimal_controller: Worst J using initial K: 380.3308\n",
      "INFO:optimal_controller: Worst J using optimized K: 254.7613\n"
     ]
    }
   ],
   "source": [
    "ocSolver.solve(method='LMI') # LMI is the default method"
   ]
  },
  {
   "cell_type": "code",
   "execution_count": 10,
   "metadata": {},
   "outputs": [
    {
     "name": "stderr",
     "output_type": "stream",
     "text": [
      "INFO:optimal_controller: Convex hull of A set has 51 vertices\n",
      "INFO:optimal_controller: Convex hull of B set has 49 vertices\n",
      "INFO:optimal_controller: This will lead to 2499 LMI constraints\n",
      "INFO:optimal_controller: Defined 2499 LMI constraints\n",
      "INFO:optimal_controller: SolutionStatus.Optimal, simultaneously stabilising feedback gain is K = [[0.175 0.050 1.069 2.777]]\n",
      "INFO:optimal_controller: Optimised the simultaneously stabilising feedback gain, yielding K = [[0.169 0.075 1.025 2.777]]\n",
      "INFO:optimal_controller: Worst J using initial K: 380.3308\n",
      "INFO:optimal_controller: Worst J using optimized K: 254.7613\n"
     ]
    },
    {
     "data": {
      "text/plain": [
       "array([[0.169, 0.075, 1.025, 2.777]])"
      ]
     },
     "execution_count": 10,
     "metadata": {},
     "output_type": "execute_result"
    }
   ],
   "source": [
    "get_optimal_controller(A_list, B_list)"
   ]
  }
 ],
 "metadata": {
  "kernelspec": {
   "display_name": "capstone_v2",
   "language": "python",
   "name": "python3"
  },
  "language_info": {
   "codemirror_mode": {
    "name": "ipython",
    "version": 3
   },
   "file_extension": ".py",
   "mimetype": "text/x-python",
   "name": "python",
   "nbconvert_exporter": "python",
   "pygments_lexer": "ipython3",
   "version": "3.9.0"
  }
 },
 "nbformat": 4,
 "nbformat_minor": 2
}
