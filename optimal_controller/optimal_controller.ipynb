{
 "cells": [
  {
   "cell_type": "code",
   "execution_count": 1,
   "metadata": {},
   "outputs": [],
   "source": [
    "# REQUIREMENTS\n",
    "#   - see https://www.mosek.com/products/academic-licenses/ to get a .lic file and place it in the required directory\n",
    "#   - then \"pip install mosek\"\n",
    "\n",
    "import numpy as np\n",
    "from state_space import generate_perturbed\n",
    "from optimal_controller import OptimalControlSolver, get_optimal_controller\n",
    "import logging\n",
    "logging.basicConfig(level=logging.INFO, force=True)"
   ]
  },
  {
   "cell_type": "code",
   "execution_count": 2,
   "metadata": {},
   "outputs": [],
   "source": [
    "# n_states = 6\n",
    "# n_inputs = 1\n",
    "# A0 = np.array([[ 0.000,  0.000,  0.000,  0.000,  0.000, -0.086],\n",
    "#                [ 1.000,  0.000,  0.000,  0.000,  0.000,  0.734],\n",
    "#                [ 0.000,  1.000,  0.000,  0.000,  0.000, -2.767],\n",
    "#                [ 0.000,  0.000,  1.000,  0.000,  0.000,  5.774],\n",
    "#                [ 0.000,  0.000,  0.000,  1.000,  0.000, -6.720],\n",
    "#                [ 0.000,  0.000,  0.000,  0.000,  1.000,  4.100]])\n",
    "# B0 = np.array([[-0.045, 0.010],\n",
    "#                [ 0.471, 0.100],\n",
    "#                [-1.746, 2.500],\n",
    "#                [ 3.090, 0.090],\n",
    "#                [-2.600, 4.746],\n",
    "#                [ 1.000, 0.500]])\n",
    "        \n",
    "n_states = 4\n",
    "n_inputs = 1\n",
    "A0 = np.array([[0, 0, 0, -0.048],\n",
    "               [1, 0, 0, 0.676],\n",
    "               [0, 1, 0, -2.21],\n",
    "               [0, 0, 1, 2.6]])\n",
    "B0 = np.array([[-0.12], [0.68], [-1.4], [1]])\n",
    "\n",
    "n_plants = 256\n",
    "A_list = generate_perturbed(A0, n_plants, 0.04)\n",
    "B_list = generate_perturbed(B0, n_plants, 0.01)"
   ]
  },
  {
   "cell_type": "markdown",
   "metadata": {},
   "source": [
    "Can use an instance of OptimalControlSolver to compute the controller"
   ]
  },
  {
   "cell_type": "code",
   "execution_count": 3,
   "metadata": {},
   "outputs": [
    {
     "name": "stderr",
     "output_type": "stream",
     "text": [
      "INFO:optimal_controller: Computed solution via Riccati heuristic, K = [[0.987 0.856 1.603 3.087]]\n",
      "INFO:optimal_controller: Riccati heuristic did not return a stabilising controller!\n"
     ]
    }
   ],
   "source": [
    "ocSolver = OptimalControlSolver(A_list,B_list)\n",
    "ocSolver.solve(method='riccati')"
   ]
  },
  {
   "cell_type": "code",
   "execution_count": 4,
   "metadata": {},
   "outputs": [
    {
     "name": "stderr",
     "output_type": "stream",
     "text": [
      "INFO:optimal_controller: Convex hull of A set has 54 vertices\n",
      "INFO:optimal_controller: Convex hull of B set has 60 vertices\n",
      "INFO:optimal_controller: This will lead to 3240 LMI constraints\n",
      "INFO:optimal_controller: Defined 3240 LMI constraints\n",
      "INFO:optimal_controller: SolutionStatus.Optimal, simultaneously stabilising feedback gain is K = [[0.166 0.026 1.051 2.765]]\n",
      "INFO:optimal_controller: Optimised the simultaneously stabilising feedback gain, yielding K = [[0.869 0.328 0.986 2.490]]\n",
      "INFO:optimal_controller: Worst J using initial K: 833.2241\n",
      "INFO:optimal_controller: Worst J using optimized K: 314.4614\n"
     ]
    }
   ],
   "source": [
    "ocSolver.solve(method='LMI') # LMI is the default method"
   ]
  },
  {
   "cell_type": "markdown",
   "metadata": {},
   "source": [
    "Or just use get_optimal_controller()"
   ]
  },
  {
   "cell_type": "code",
   "execution_count": 6,
   "metadata": {},
   "outputs": [
    {
     "name": "stderr",
     "output_type": "stream",
     "text": [
      "INFO:optimal_controller: Computed solution via Riccati heuristic, K = [[0.987 0.856 1.603 3.087]]\n",
      "INFO:optimal_controller: Riccati heuristic did not return a stabilising controller!\n"
     ]
    }
   ],
   "source": [
    "get_optimal_controller(A_list, B_list, method='riccati')"
   ]
  },
  {
   "cell_type": "code",
   "execution_count": 7,
   "metadata": {},
   "outputs": [
    {
     "name": "stderr",
     "output_type": "stream",
     "text": [
      "INFO:optimal_controller: Convex hull of A set has 54 vertices\n",
      "INFO:optimal_controller: Convex hull of B set has 60 vertices\n",
      "INFO:optimal_controller: This will lead to 3240 LMI constraints\n",
      "INFO:optimal_controller: Defined 3240 LMI constraints\n",
      "INFO:optimal_controller: SolutionStatus.Optimal, simultaneously stabilising feedback gain is K = [[0.166 0.026 1.051 2.765]]\n",
      "INFO:optimal_controller: Optimised the simultaneously stabilising feedback gain, yielding K = [[0.869 0.328 0.986 2.490]]\n",
      "INFO:optimal_controller: Worst J using initial K: 833.2241\n",
      "INFO:optimal_controller: Worst J using optimized K: 314.4614\n"
     ]
    },
    {
     "data": {
      "text/plain": [
       "array([[0.869, 0.328, 0.986, 2.490]])"
      ]
     },
     "execution_count": 7,
     "metadata": {},
     "output_type": "execute_result"
    }
   ],
   "source": [
    "get_optimal_controller(A_list, B_list, method='LMI')"
   ]
  }
 ],
 "metadata": {
  "kernelspec": {
   "display_name": "capstone_v2",
   "language": "python",
   "name": "python3"
  },
  "language_info": {
   "codemirror_mode": {
    "name": "ipython",
    "version": 3
   },
   "file_extension": ".py",
   "mimetype": "text/x-python",
   "name": "python",
   "nbconvert_exporter": "python",
   "pygments_lexer": "ipython3",
   "version": "3.12.9"
  }
 },
 "nbformat": 4,
 "nbformat_minor": 2
}
