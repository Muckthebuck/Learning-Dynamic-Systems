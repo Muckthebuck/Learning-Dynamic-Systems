{
 "cells": [
  {
   "cell_type": "code",
   "execution_count": 9,
   "metadata": {},
   "outputs": [],
   "source": [
    "# REQUIREMENTS\n",
    "#   - see https://www.mosek.com/products/academic-licenses/ to get a .lic file and place it in the required directory\n",
    "#   - then \"pip install mosek\"\n",
    "\n",
    "import numpy as np\n",
    "from state_space import generate_perturbed\n",
    "from optimal_controller import OptimalControlSolver, get_optimal_controller"
   ]
  },
  {
   "cell_type": "code",
   "execution_count": 10,
   "metadata": {},
   "outputs": [],
   "source": [
    "# n_states = 6\n",
    "# n_inputs = 1\n",
    "# A0 = np.array([[ 0.000,  0.000,  0.000,  0.000,  0.000, -0.086],\n",
    "#                [ 1.000,  0.000,  0.000,  0.000,  0.000,  0.734],\n",
    "#                [ 0.000,  1.000,  0.000,  0.000,  0.000, -2.767],\n",
    "#                [ 0.000,  0.000,  1.000,  0.000,  0.000,  5.774],\n",
    "#                [ 0.000,  0.000,  0.000,  1.000,  0.000, -6.720],\n",
    "#                [ 0.000,  0.000,  0.000,  0.000,  1.000,  4.100]])\n",
    "# B0 = np.array([[-0.045, 0.010],\n",
    "#                [ 0.471, 0.100],\n",
    "#                [-1.746, 2.500],\n",
    "#                [ 3.090, 0.090],\n",
    "#                [-2.600, 4.746],\n",
    "#                [ 1.000, 0.500]])\n",
    "        \n",
    "n_states = 4\n",
    "n_inputs = 1\n",
    "A0 = np.array([[0, 0, 0, -0.048],\n",
    "               [1, 0, 0, 0.676],\n",
    "               [0, 1, 0, -2.21],\n",
    "               [0, 0, 1, 2.6]])\n",
    "B0 = np.array([[-0.12], [0.68], [-1.4], [1]])\n",
    "\n",
    "n_plants = 256\n",
    "A_list = generate_perturbed(A0, n_plants, 0.04)\n",
    "B_list = generate_perturbed(B0, n_plants, 0.01)"
   ]
  },
  {
   "cell_type": "code",
   "execution_count": 11,
   "metadata": {},
   "outputs": [
    {
     "name": "stdout",
     "output_type": "stream",
     "text": [
      "> Convex hull of A set has 57 vertices\n",
      "> Convex hull of B set has 47 vertices\n",
      "> This will lead to 2679 LMI constraints\n",
      "> Defined 2679 LMI constraints\n",
      "Problem\n",
      "  Name                   : Simultaneous stabilisation LMI solver\n",
      "  Objective sense        : minimize        \n",
      "  Type                   : CONIC (conic optimization problem)\n",
      "  Constraints            : 0               \n",
      "  Affine conic cons.     : 2679 (96444 rows)\n",
      "  Disjunctive cons.      : 0               \n",
      "  Cones                  : 0               \n",
      "  Scalar variables       : 21              \n",
      "  Matrix variables       : 2679 (scalarized: 26790)\n",
      "  Integer variables      : 0               \n",
      "\n",
      "Optimizer started.\n",
      "Presolve started.\n",
      "Linear dependency checker started.\n",
      "Linear dependency checker terminated.\n",
      "Eliminator started.\n",
      "Freed constraints in eliminator : 0\n",
      "Eliminator terminated.\n",
      "Eliminator - tries                  : 1                 time                   : 0.00            \n",
      "Lin. dep.  - tries                  : 1                 time                   : 0.01            \n",
      "Lin. dep.  - primal attempts        : 1                 successes              : 1               \n",
      "Lin. dep.  - dual attempts          : 0                 successes              : 0               \n",
      "Lin. dep.  - primal deps.           : 0                 dual deps.             : 0               \n",
      "Presolve terminated. Time: 0.03    \n",
      "Optimizer  - threads                : 8               \n",
      "Optimizer  - solved problem         : the primal      \n",
      "Optimizer  - Constraints            : 96444           \n",
      "Optimizer  - Cones                  : 1               \n",
      "Optimizer  - Scalar variables       : 21                conic                  : 21              \n",
      "Optimizer  - Semi-definite variables: 5358              scalarized             : 123234          \n",
      "Factor     - setup time             : 0.22            \n",
      "Factor     - dense det. time        : 0.00              GP order time          : 0.00            \n",
      "Factor     - nonzeros before factor : 1.94e+06          after factor           : 2.74e+06        \n",
      "Factor     - dense dim.             : 22                flops                  : 9.84e+07        \n",
      "ITE PFEAS    DFEAS    GFEAS    PRSTATUS   POBJ              DOBJ              MU       TIME  \n",
      "0   5.0e-01  1.0e+00  1.0e+00  0.00e+00   0.000000000e+00   0.000000000e+00   1.0e+00  0.86  \n",
      "1   1.6e-01  3.2e-01  1.6e-01  -1.08e+01  0.000000000e+00   2.267690481e-01   3.2e-01  0.94  \n",
      "2   1.2e-01  2.4e-01  1.5e-01  -1.56e+00  0.000000000e+00   3.503480871e-01   2.4e-01  1.01  \n",
      "3   1.1e-01  2.3e-01  1.5e-01  -1.53e+00  0.000000000e+00   3.958098755e-01   2.3e-01  1.09  \n",
      "4   1.1e-01  2.1e-01  1.5e-01  -1.60e+00  0.000000000e+00   4.473450018e-01   2.1e-01  1.18  \n",
      "5   7.3e-02  1.5e-01  1.4e-01  -1.58e+00  0.000000000e+00   9.026555074e-01   1.5e-01  1.26  \n",
      "6   3.0e-02  5.9e-02  1.0e-01  -1.36e+00  0.000000000e+00   2.900303387e+00   5.9e-02  1.33  \n",
      "7   2.3e-02  4.6e-02  8.7e-02  -9.46e-01  0.000000000e+00   3.635276068e+00   4.6e-02  1.41  \n",
      "8   1.9e-02  3.8e-02  7.7e-02  -8.28e-01  0.000000000e+00   4.181729200e+00   3.8e-02  1.48  \n",
      "9   1.2e-02  2.3e-02  5.5e-02  -7.37e-01  0.000000000e+00   5.723021011e+00   2.3e-02  1.56  \n",
      "10  7.6e-03  1.5e-02  3.9e-02  -4.29e-01  0.000000000e+00   6.505846059e+00   1.5e-02  1.64  \n",
      "11  7.2e-03  1.4e-02  3.9e-02  -3.53e-01  0.000000000e+00   7.173509195e+00   1.4e-02  1.71  \n",
      "12  3.6e-03  7.3e-03  2.2e-02  -3.46e-01  0.000000000e+00   9.495399954e+00   7.3e-03  1.79  \n",
      "13  1.8e-03  3.7e-03  1.0e-02  1.06e-01   0.000000000e+00   7.764583335e+00   3.7e-03  1.86  \n",
      "14  7.3e-04  1.4e-03  3.5e-03  3.70e-01   0.000000000e+00   5.655648507e+00   1.4e-03  1.94  \n",
      "15  9.9e-05  2.0e-04  2.0e-04  7.07e-01   0.000000000e+00   9.886957232e-01   2.0e-04  2.01  \n",
      "16  2.5e-07  5.0e-07  2.7e-08  9.56e-01   0.000000000e+00   2.966414275e-03   5.0e-07  2.09  \n",
      "17  9.9e-11  6.4e-15  3.7e-20  1.00e+00   0.000000000e+00   3.912692345e-11   6.0e-15  2.16  \n",
      "Optimizer terminated. Time: 2.17    \n",
      "\n",
      "\n",
      "Interior-point solution summary\n",
      "  Problem status  : PRIMAL_AND_DUAL_FEASIBLE\n",
      "  Solution status : OPTIMAL\n",
      "  Primal.  obj: 0.0000000000e+00    nrm: 2e+01    Viol.  var: 0e+00    barvar: 0e+00    acc: 0e+00  \n",
      "  Dual.    obj: 3.9126923451e-11    nrm: 7e-09    Viol.  var: 1e-14    barvar: 4e-14    acc: 3e-14  \n",
      "> SolutionStatus.Optimal, simultaneously stabilising feedback gain is K = [[0.194 0.022 1.028 2.768]]\n",
      "> Optimised the simultaneously stabilising feedback gain, yielding K = [[0.191 0.032 1.009 2.768]]\n",
      "> Worst J using initial K: 289.7572\n",
      "> Worst J using optimized K: 228.2943\n"
     ]
    },
    {
     "data": {
      "text/plain": [
       "array([[0.191, 0.032, 1.009, 2.768]])"
      ]
     },
     "execution_count": 11,
     "metadata": {},
     "output_type": "execute_result"
    }
   ],
   "source": [
    "get_optimal_controller(A_list, B_list)"
   ]
  },
  {
   "cell_type": "code",
   "execution_count": 12,
   "metadata": {},
   "outputs": [
    {
     "name": "stdout",
     "output_type": "stream",
     "text": [
      "> Convex hull of A set has 57 vertices\n",
      "> Convex hull of B set has 47 vertices\n",
      "> This will lead to 2679 LMI constraints\n",
      "> Defined 2679 LMI constraints\n",
      "Problem\n",
      "  Name                   : Simultaneous stabilisation LMI solver\n",
      "  Objective sense        : minimize        \n",
      "  Type                   : CONIC (conic optimization problem)\n",
      "  Constraints            : 0               \n",
      "  Affine conic cons.     : 2679 (96444 rows)\n",
      "  Disjunctive cons.      : 0               \n",
      "  Cones                  : 0               \n",
      "  Scalar variables       : 21              \n",
      "  Matrix variables       : 2679 (scalarized: 26790)\n",
      "  Integer variables      : 0               \n",
      "\n",
      "Optimizer started.\n",
      "Presolve started.\n",
      "Linear dependency checker started.\n",
      "Linear dependency checker terminated.\n",
      "Eliminator started.\n",
      "Freed constraints in eliminator : 0\n",
      "Eliminator terminated.\n",
      "Eliminator - tries                  : 1                 time                   : 0.00            \n",
      "Lin. dep.  - tries                  : 1                 time                   : 0.01            \n",
      "Lin. dep.  - primal attempts        : 1                 successes              : 1               \n",
      "Lin. dep.  - dual attempts          : 0                 successes              : 0               \n",
      "Lin. dep.  - primal deps.           : 0                 dual deps.             : 0               \n",
      "Presolve terminated. Time: 0.03    \n",
      "Optimizer  - threads                : 8               \n",
      "Optimizer  - solved problem         : the primal      \n",
      "Optimizer  - Constraints            : 96444           \n",
      "Optimizer  - Cones                  : 1               \n",
      "Optimizer  - Scalar variables       : 21                conic                  : 21              \n",
      "Optimizer  - Semi-definite variables: 5358              scalarized             : 123234          \n",
      "Factor     - setup time             : 0.22            \n",
      "Factor     - dense det. time        : 0.00              GP order time          : 0.00            \n",
      "Factor     - nonzeros before factor : 1.94e+06          after factor           : 2.74e+06        \n",
      "Factor     - dense dim.             : 22                flops                  : 9.84e+07        \n",
      "ITE PFEAS    DFEAS    GFEAS    PRSTATUS   POBJ              DOBJ              MU       TIME  \n",
      "0   5.0e-01  1.0e+00  1.0e+00  0.00e+00   0.000000000e+00   0.000000000e+00   1.0e+00  0.85  \n",
      "1   1.6e-01  3.2e-01  1.6e-01  -1.08e+01  0.000000000e+00   2.267690481e-01   3.2e-01  0.93  \n",
      "2   1.2e-01  2.4e-01  1.5e-01  -1.56e+00  0.000000000e+00   3.503480871e-01   2.4e-01  1.01  \n",
      "3   1.1e-01  2.3e-01  1.5e-01  -1.53e+00  0.000000000e+00   3.958098755e-01   2.3e-01  1.08  \n",
      "4   1.1e-01  2.1e-01  1.5e-01  -1.60e+00  0.000000000e+00   4.473450018e-01   2.1e-01  1.16  \n",
      "5   7.3e-02  1.5e-01  1.4e-01  -1.58e+00  0.000000000e+00   9.026555074e-01   1.5e-01  1.24  \n",
      "6   3.0e-02  5.9e-02  1.0e-01  -1.36e+00  0.000000000e+00   2.900303387e+00   5.9e-02  1.31  \n",
      "7   2.3e-02  4.6e-02  8.7e-02  -9.46e-01  0.000000000e+00   3.635276068e+00   4.6e-02  1.39  \n",
      "8   1.9e-02  3.8e-02  7.7e-02  -8.28e-01  0.000000000e+00   4.181729200e+00   3.8e-02  1.46  \n",
      "9   1.2e-02  2.3e-02  5.5e-02  -7.37e-01  0.000000000e+00   5.723021011e+00   2.3e-02  1.55  \n",
      "10  7.6e-03  1.5e-02  3.9e-02  -4.29e-01  0.000000000e+00   6.505846059e+00   1.5e-02  1.63  \n",
      "11  7.2e-03  1.4e-02  3.9e-02  -3.53e-01  0.000000000e+00   7.173509195e+00   1.4e-02  1.70  \n",
      "12  3.6e-03  7.3e-03  2.2e-02  -3.46e-01  0.000000000e+00   9.495399954e+00   7.3e-03  1.78  \n",
      "13  1.8e-03  3.7e-03  1.0e-02  1.06e-01   0.000000000e+00   7.764583335e+00   3.7e-03  1.86  \n",
      "14  7.3e-04  1.4e-03  3.5e-03  3.70e-01   0.000000000e+00   5.655648507e+00   1.4e-03  1.93  \n",
      "15  9.9e-05  2.0e-04  2.0e-04  7.07e-01   0.000000000e+00   9.886957232e-01   2.0e-04  2.01  \n",
      "16  2.5e-07  5.0e-07  2.7e-08  9.56e-01   0.000000000e+00   2.966414275e-03   5.0e-07  2.09  \n",
      "17  9.9e-11  6.4e-15  3.7e-20  1.00e+00   0.000000000e+00   3.912692345e-11   6.0e-15  2.16  \n",
      "Optimizer terminated. Time: 2.17    \n",
      "\n",
      "\n",
      "Interior-point solution summary\n",
      "  Problem status  : PRIMAL_AND_DUAL_FEASIBLE\n",
      "  Solution status : OPTIMAL\n",
      "  Primal.  obj: 0.0000000000e+00    nrm: 2e+01    Viol.  var: 0e+00    barvar: 0e+00    acc: 0e+00  \n",
      "  Dual.    obj: 3.9126923451e-11    nrm: 7e-09    Viol.  var: 1e-14    barvar: 4e-14    acc: 3e-14  \n",
      "> SolutionStatus.Optimal, simultaneously stabilising feedback gain is K = [[0.194 0.022 1.028 2.768]]\n",
      "> Optimised the simultaneously stabilising feedback gain, yielding K = [[0.191 0.032 1.009 2.768]]\n",
      "> Worst J using initial K: 289.7572\n",
      "> Worst J using optimized K: 228.2943\n"
     ]
    }
   ],
   "source": [
    "ocSolver = OptimalControlSolver(A_list,B_list)\n",
    "ocSolver.solve()"
   ]
  },
  {
   "cell_type": "code",
   "execution_count": 13,
   "metadata": {},
   "outputs": [
    {
     "name": "stdout",
     "output_type": "stream",
     "text": [
      "> Computed solution via Riccati heuristic, K = [[0.779 0.667 1.413 2.932]]\n",
      "> Riccati heuristic did not return a stabilising controller!\n"
     ]
    }
   ],
   "source": [
    "ocSolver.solve(method='riccati')"
   ]
  }
 ],
 "metadata": {
  "kernelspec": {
   "display_name": "capstone_v2",
   "language": "python",
   "name": "python3"
  },
  "language_info": {
   "codemirror_mode": {
    "name": "ipython",
    "version": 3
   },
   "file_extension": ".py",
   "mimetype": "text/x-python",
   "name": "python",
   "nbconvert_exporter": "python",
   "pygments_lexer": "ipython3",
   "version": "3.9.0"
  }
 },
 "nbformat": 4,
 "nbformat_minor": 2
}
