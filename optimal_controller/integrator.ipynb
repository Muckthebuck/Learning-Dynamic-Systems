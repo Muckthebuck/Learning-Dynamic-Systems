{
 "cells": [
  {
   "cell_type": "code",
   "execution_count": 1,
   "id": "9173eeec",
   "metadata": {},
   "outputs": [],
   "source": [
    "import os\n",
    "if os.path.basename(os.getcwd()) != 'Learning-Dynamic-Systems': os.chdir(\".\\\\..\") \n",
    "\n",
    "import numpy as np\n",
    "import matplotlib.pyplot as plt\n",
    "import logging\n",
    "\n",
    "from indirect_identification.sps_indirect import SPS_indirect_model, d_tfs\n",
    "from indirect_identification.armax import ARMAX\n",
    "from fusion.fusion import *\n",
    "from optimal_controller.state_space import *\n",
    "from optimal_controller.optimal_controls import *\n",
    "\n",
    "logging.basicConfig(level=logging.INFO, force=True)"
   ]
  },
  {
   "cell_type": "code",
   "execution_count": 2,
   "id": "99ff8b4b",
   "metadata": {},
   "outputs": [],
   "source": [
    "# from sims.pendulum import Pendulum\n",
    "\n",
    "# logger = logging.getLogger(\"PendulumSim\")\n",
    "# logger.setLevel(logging.INFO)\n",
    "\n",
    "# T = 10\n",
    "# dt = 0.02\n",
    "# state = np.array([np.pi/6, 0.0])\n",
    "# sim = Pendulum(dt=0.02, initial_state=state, plot_system=False)\n",
    "\n",
    "# n_steps = int(T // dt)\n",
    "# n_states = 2\n",
    "# y = np.zeros(n_steps)\n",
    "# u = np.zeros(n_steps)\n",
    "# x = np.zeros([n_states, n_steps])\n",
    "\n",
    "# for i in range(n_steps):\n",
    "#     yi, _, x[:,i] = sim.step(u=u[i],t=i*dt,full_state=True)\n",
    "#     y[i] = yi.squeeze()\n",
    "\n",
    "# tspan = np.linspace(0,T,n_steps)\n",
    "# fig, ax = plt.subplots(nrows=2,ncols=1, figsize=(6,3))\n",
    "\n",
    "# ax[0].plot(tspan, x[0,:])\n",
    "# ax[0].legend('x0')\n",
    "\n",
    "# ax[1].plot(tspan, x[1,:])\n",
    "# ax[1].legend('x1')\n",
    "\n",
    "# plt.show()"
   ]
  },
  {
   "cell_type": "code",
   "execution_count": 3,
   "id": "9ffdd784",
   "metadata": {},
   "outputs": [],
   "source": [
    "import scipy\n",
    "import scipy.signal\n",
    "\n",
    "B = [2e-4,2e-4]\n",
    "A = [1,-1.987,0.99]\n",
    "C = [1]\n",
    "F = [0]\n",
    "L = [1]\n",
    "armax_model = ARMAX(A, B, C, F, L)\n",
    "n_samples = 500\n",
    "R = np.ones((n_samples,1)) * 0.1*np.pi/180\n",
    "Y, U, N, R = armax_model.simulate(n_samples=n_samples,noise_std=0.001,R=R)\n",
    "# armax_model.plot_results(Y,U,N,R)"
   ]
  },
  {
   "cell_type": "code",
   "execution_count": 4,
   "id": "e109c8cb",
   "metadata": {},
   "outputs": [
    {
     "data": {
      "text/plain": [
       "np.True_"
      ]
     },
     "execution_count": 4,
     "metadata": {},
     "output_type": "execute_result"
    }
   ],
   "source": [
    "m = 20\n",
    "q = 1\n",
    "model = SPS_indirect_model(m,q,N=450)\n",
    "\n",
    "G_0 = d_tfs(([0]+B, A))\n",
    "H_0 = d_tfs((C,A))\n",
    "n_a = 2\n",
    "n_b = 2\n",
    "\n",
    "in_sps, _ = model.open_loop_sps(G_0,H_0,Y,U,n_a,n_b)\n",
    "in_sps"
   ]
  },
  {
   "cell_type": "code",
   "execution_count": 5,
   "id": "5efd66da",
   "metadata": {},
   "outputs": [],
   "source": [
    "def get_ranks_OL(grid_axes, model, C, Y, U, n_a, n_b):\n",
    "\n",
    "    mesh = np.meshgrid(*grid_axes, indexing='ij')\n",
    "    grid_shape = mesh[0].shape\n",
    "    rank_tensor = np.zeros(grid_shape)\n",
    "\n",
    "    # Loop through all plant params and store the SPS ranks\n",
    "    for idx in np.ndindex(grid_shape):\n",
    "        \n",
    "        # Current plant params\n",
    "        pt = np.array([axis[idx] for axis in mesh])\n",
    "        A = np.concatenate(([1], -pt[:n_a]))\n",
    "        B = np.concatenate(([0],  pt[n_a:]))\n",
    "        G = d_tfs((B, A))\n",
    "        H = d_tfs((C, A))\n",
    "\n",
    "        try:\n",
    "            in_sps, float_rank, S1 = model.open_loop_sps(G,H,Y,U,n_a,n_b,return_rank=True)\n",
    "            rank_tensor[idx] = float_rank\n",
    "        except OpenLoopStabilityError as e:\n",
    "            rank_tensor[idx] = 1.0 # Unstable open loop system\n",
    "    \n",
    "    return rank_tensor"
   ]
  },
  {
   "cell_type": "code",
   "execution_count": 6,
   "id": "df7e8bae",
   "metadata": {},
   "outputs": [
    {
     "name": "stdout",
     "output_type": "stream",
     "text": [
      "[0.050 0.100 0.150 0.200 0.250 0.300 0.350 0.400 0.450 0.500 0.550 0.600\n",
      " 0.650 0.700 0.750 0.800 0.850 0.900 0.950 1.000]\n",
      "[   215    102     46     87    164     97     68    114     91    109\n",
      "    120     92    265    120    331    731    433    257     96 156462]\n"
     ]
    }
   ],
   "source": [
    "n_a = 2\n",
    "n_b = 2\n",
    "\n",
    "search_ranges = [[1.95, 2.05], [-1.1,-0.9], [1e-4,0.1], [1e-4,0.1]] # a1 range, b range\n",
    "search_resolutions = [20,20,20,20]\n",
    "grid_axes = [np.linspace(search_ranges[i][0], search_ranges[i][1], search_resolutions[i]) for i in range(n_a+n_b)]\n",
    "grid_axes = np.array(grid_axes)\n",
    "\n",
    "m = 20\n",
    "q = 1\n",
    "model = SPS_indirect_model(m, q)\n",
    "\n",
    "conf_region1 = get_ranks_OL(grid_axes, model, C=C, Y=Y, U=U, n_a=n_a, n_b=n_b)\n",
    "\n",
    "v1, v2 = np.unique(conf_region1, return_counts=True)\n",
    "print(v1)\n",
    "print(v2)"
   ]
  },
  {
   "cell_type": "code",
   "execution_count": 7,
   "id": "2579c675",
   "metadata": {},
   "outputs": [
    {
     "data": {
      "image/png": "[encoded data removed]",
      "text/plain": [
       "<Figure size 1500x300 with 2 Axes>"
      ]
     },
     "metadata": {},
     "output_type": "display_data"
    }
   ],
   "source": [
    "pts = sample_fused_rank_tensor(conf_region1, grid_axes, 0.95)\n",
    "\n",
    "fig, axes = plt.subplots(nrows=1,ncols=2,figsize=(15,3))\n",
    "plot_pts_in_conf_region(pts, 0, 1, fig=fig, ax=axes[0])\n",
    "plot_pts_in_conf_region(pts, 2, 3, fig=fig, ax=axes[1])\n",
    "axes[0].set_xlim(search_ranges[0])\n",
    "axes[0].set_ylim(search_ranges[1])\n",
    "axes[1].set_xlim(search_ranges[2])\n",
    "axes[1].set_ylim(search_ranges[3])\n",
    "axes[0].set_title('conf region (A)')\n",
    "axes[1].set_title('conf region (B)')\n",
    "axes[0].set_xlabel('a1')\n",
    "axes[0].set_ylabel('a2')\n",
    "axes[1].set_xlabel('b1')\n",
    "axes[1].set_ylabel('b2')\n",
    "plt.show()"
   ]
  },
  {
   "cell_type": "code",
   "execution_count": 8,
   "id": "39cfedbf",
   "metadata": {},
   "outputs": [],
   "source": [
    "n = pts.shape[0]\n",
    "\n",
    "Alist = np.zeros((n,2,2))\n",
    "Blist = np.zeros((n,2,1))\n",
    "Clist = np.zeros((n,1,2))\n",
    "for i in range(n):\n",
    "    A,B,C = tf_to_ocf([0,-pts[i,0],-pts[i,1]], den=[1,pts[i,2],pts[i,3]])\n",
    "    Alist[i] = A\n",
    "    Blist[i] = B\n",
    "    Clist[i] = C"
   ]
  },
  {
   "cell_type": "code",
   "execution_count": 10,
   "id": "c63acf79",
   "metadata": {},
   "outputs": [
    {
     "name": "stderr",
     "output_type": "stream",
     "text": [
      "INFO:optimal_controller.optimal_controls: Defined 20 LMI constraints\n",
      "INFO:optimal_controller.optimal_controls: SolutionStatus.Optimal, simultaneously stabilising feedback gain is K = [[-0.393  0.008]]\n",
      "INFO:optimal_controller.optimal_controls: Optimised the simultaneously stabilising feedback gain, yielding K = [[-0.315  0.002]]\n",
      "INFO:optimal_controller.optimal_controls: Worst J using initial K: 2.4277\n",
      "INFO:optimal_controller.optimal_controls: Worst J using optimized K: 2.3799\n"
     ]
    }
   ],
   "source": [
    "# ~~~~~~~~~~~~~~~~~~~~~~~ compute the new min-max optimal controller\n",
    "\n",
    "Q = np.array([[1, 0], [0, 1]])\n",
    "R = np.array(1)\n",
    "\n",
    "K = get_optimal_controller(Alist,Blist,Q,R)"
   ]
  },
  {
   "cell_type": "code",
   "execution_count": 11,
   "id": "7c99f857",
   "metadata": {},
   "outputs": [
    {
     "name": "stderr",
     "output_type": "stream",
     "text": [
      "INFO:optimal_controller.optimal_controls: Defined 4 LMI constraints\n",
      "INFO:optimal_controller.optimal_controls: SolutionStatus.Optimal, simultaneously stabilising feedback gain is K = [[-0.047 -0.049]]\n",
      "INFO:optimal_controller.optimal_controls: Optimised the simultaneously stabilising feedback gain, yielding K = [[-0.049 -0.049]]\n",
      "INFO:optimal_controller.optimal_controls: Worst J using initial K: 3.0227\n",
      "INFO:optimal_controller.optimal_controls: Worst J using optimized K: 3.0223\n"
     ]
    }
   ],
   "source": [
    "n = pts.shape[0]\n",
    "\n",
    "Aduallist = np.zeros((n,2,2))\n",
    "Bduallist = np.zeros((n,2,1))\n",
    "for i in range(n):\n",
    "    A, B, _ = tf_to_ocf([0,-pts[i,0],-pts[i,1]], den=[1,pts[i,2],pts[i,3]])\n",
    "    Aduallist[i] = A.T\n",
    "    Bduallist[i] = C.T\n",
    "\n",
    "U = np.eye(2)\n",
    "V = 1\n",
    "\n",
    "K = get_optimal_controller(Aduallist,Bduallist,U,V)"
   ]
  },
  {
   "cell_type": "code",
   "execution_count": null,
   "id": "30b9849d",
   "metadata": {},
   "outputs": [],
   "source": [
    "# Now need to simulate the system, with the observer + full state feedback controller in the loop\n"
   ]
  },
  {
   "cell_type": "code",
   "execution_count": null,
   "id": "f6643147",
   "metadata": {},
   "outputs": [],
   "source": [
    "# Alright how can I neaten this up\n",
    "\n",
    "# Ideally, workflow should look like this\n",
    "\n",
    "# Main loop\n",
    "    # simulate integrator-augmented ARX system for 100 samples, get the control and state timeseries\n",
    "    # compute the cost J\n",
    "    # compute the confidence region for the ARX params\n",
    "    # fuse with the previous confidence region\n",
    "    # compute the optimal K (designed for an integrator-augmented system)\n",
    "    # store all results\n",
    "\n",
    "# Plot results\n",
    "    # How K changed over time\n",
    "    # How confidence region changed over time\n",
    "    # Ultimately, how J changed over time"
   ]
  },
  {
   "cell_type": "markdown",
   "id": "24e45c35",
   "metadata": {},
   "source": [
    "##### Define an ARX system, generate input/output data"
   ]
  },
  {
   "cell_type": "code",
   "execution_count": null,
   "id": "75519d12",
   "metadata": {},
   "outputs": [],
   "source": [
    "n_a = 1\n",
    "n_b = 1\n",
    "\n",
    "search_ranges = [[0.1, 1.0], [0.1, 1.0]] # a range, b range\n",
    "search_resolutions = [20,20]\n",
    "grid_axes = [np.linspace(search_ranges[i][0], search_ranges[i][1], search_resolutions[i]) for i in range(n_a+n_b)]\n",
    "grid_axes = np.array(grid_axes)\n",
    "grid_vals = np.meshgrid(*grid_axes, indexing='ij')\n",
    "grid_vals = np.array(grid_vals)\n",
    "\n",
    "a = 0.8\n",
    "b = 0.5\n",
    "A = [1, -a]\n",
    "B = [b]\n",
    "C = [1, 0.15]"
   ]
  },
  {
   "cell_type": "code",
   "execution_count": null,
   "id": "e8ad1e67",
   "metadata": {},
   "outputs": [
    {
     "data": {
      "image/png": "[encoded data removed]",
      "text/plain": [
       "<Figure size 640x480 with 1 Axes>"
      ]
     },
     "metadata": {},
     "output_type": "display_data"
    },
    {
     "name": "stderr",
     "output_type": "stream",
     "text": [
      "INFO:optimal_controller.optimal_controls: Convex hull of A set has 2 vertices\n",
      "INFO:optimal_controller.optimal_controls: Convex hull of B set has 2 vertices\n",
      "INFO:optimal_controller.optimal_controls: This will lead to 4 LMI constraints\n",
      "INFO:optimal_controller.optimal_controls: Defined 4 LMI constraints\n",
      "INFO:optimal_controller.optimal_controls: SolutionStatus.Optimal, simultaneously stabilising feedback gain is K = [[1.132]]\n",
      "INFO:optimal_controller.optimal_controls: Optimised the simultaneously stabilising feedback gain, yielding K = [[0.146]]\n",
      "INFO:optimal_controller.optimal_controls: Worst J using initial K: 16.8211\n",
      "INFO:optimal_controller.optimal_controls: Worst J using optimized K: 3.3975\n"
     ]
    },
    {
     "name": "stdout",
     "output_type": "stream",
     "text": [
      "Optimization terminated successfully.\n",
      "         Current function value: 2.875223\n",
      "         Iterations: 2\n",
      "         Function evaluations: 8\n",
      "         Gradient evaluations: 4\n"
     ]
    }
   ],
   "source": [
    "n_samples = 200\n",
    "k = 0\n",
    "\n",
    "for i in range(1):\n",
    "    F = [k]\n",
    "    L = [1]\n",
    "    armax_model = ARMAX(A, B, C, F, L)\n",
    "    R = np.sign(np.sin(np.linspace(0, 10*np.pi, n_samples))) # square wave\n",
    "    Y, U, N, R = armax_model.simulate(n_samples, R, noise_std=0.2)\n",
    "\n",
    "    F = ([k], [1])\n",
    "    L = ([1], [1])\n",
    "    m = 20\n",
    "    q = 1\n",
    "    model = SPS_indirect_model(m, q)\n",
    "    conf_region1 = get_ranks(grid_axes, model, n_a, n_b, C, L, F, Y, R)\n",
    "\n",
    "    fig, ax = plt.subplots(1,1)\n",
    "    ax.set_title(\"Confidence region 1\")\n",
    "    ax.imshow(conf_region1.T < 1 - 1/20, cmap=\"PuBu\", origin=\"lower\", extent=search_ranges[0]+search_ranges[1])\n",
    "    ax.set_aspect('auto')\n",
    "    ax.set_xlabel('a')\n",
    "    ax.set_ylabel('b')\n",
    "    plt.show()\n",
    "\n",
    "    # For a first order system, the A and B are just the SPS-identified scalars\n",
    "    params_in_conf_region = grid_vals[:, conf_region1 < (1 - 1/20)]\n",
    "    a_in_set = params_in_conf_region[0,:]\n",
    "    b_in_set = params_in_conf_region[1,:]\n",
    "\n",
    "    k = get_optimal_controller(a_in_set,b_in_set,method='LMI',Q=1,R=10)\n",
    "    k = k.squeeze()"
   ]
  },
  {
   "cell_type": "code",
   "execution_count": null,
   "id": "766ac636",
   "metadata": {},
   "outputs": [],
   "source": [
    "# ~~~~~~~~~~~~~~~~~~~~~~~ augment the system with an integrator\n",
    "\n",
    "C_r = 1\n",
    "\n",
    "A_set = []\n",
    "B_set = []\n",
    "n_plants = a_in_set.shape[0]\n",
    "for i in range(n_plants):\n",
    "    A_set.append([[a_in_set[i], 0], [-C_r, 1]])\n",
    "    B_set.append([[b_in_set[i]], [0]])\n",
    "\n",
    "A_set = np.array(A_set)\n",
    "B_set = np.array(B_set)"
   ]
  },
  {
   "cell_type": "code",
   "execution_count": null,
   "id": "8c0648ec",
   "metadata": {},
   "outputs": [
    {
     "data": {
      "text/plain": [
       "array([[[ 0.763,  0.000],\n",
       "        [-1.000,  1.000]],\n",
       "\n",
       "       [[ 0.763,  0.000],\n",
       "        [-1.000,  1.000]],\n",
       "\n",
       "       [[ 0.763,  0.000],\n",
       "        [-1.000,  1.000]],\n",
       "\n",
       "       [[ 0.763,  0.000],\n",
       "        [-1.000,  1.000]],\n",
       "\n",
       "       [[ 0.811,  0.000],\n",
       "        [-1.000,  1.000]],\n",
       "\n",
       "       [[ 0.811,  0.000],\n",
       "        [-1.000,  1.000]],\n",
       "\n",
       "       [[ 0.811,  0.000],\n",
       "        [-1.000,  1.000]],\n",
       "\n",
       "       [[ 0.811,  0.000],\n",
       "        [-1.000,  1.000]],\n",
       "\n",
       "       [[ 0.858,  0.000],\n",
       "        [-1.000,  1.000]],\n",
       "\n",
       "       [[ 0.858,  0.000],\n",
       "        [-1.000,  1.000]],\n",
       "\n",
       "       [[ 0.858,  0.000],\n",
       "        [-1.000,  1.000]]])"
      ]
     },
     "execution_count": 16,
     "metadata": {},
     "output_type": "execute_result"
    }
   ],
   "source": [
    "A_set"
   ]
  },
  {
   "cell_type": "code",
   "execution_count": null,
   "id": "8085e9b9",
   "metadata": {},
   "outputs": [
    {
     "name": "stderr",
     "output_type": "stream",
     "text": [
      "INFO:optimal_controller.optimal_controls: Convex hull of A set has 2 vertices\n",
      "INFO:optimal_controller.optimal_controls: Convex hull of B set has 2 vertices\n",
      "INFO:optimal_controller.optimal_controls: This will lead to 4 LMI constraints\n",
      "INFO:optimal_controller.optimal_controls: Defined 4 LMI constraints\n",
      "INFO:optimal_controller.optimal_controls: SolutionStatus.Optimal, simultaneously stabilising feedback gain is K = [[ 2.138 -0.822]]\n",
      "INFO:optimal_controller.optimal_controls: Optimised the simultaneously stabilising feedback gain, yielding K = [[ 1.768 -0.668]]\n",
      "INFO:optimal_controller.optimal_controls: Worst J using initial K: 13.2457\n",
      "INFO:optimal_controller.optimal_controls: Worst J using optimized K: 13.0690\n"
     ]
    },
    {
     "name": "stdout",
     "output_type": "stream",
     "text": [
      "Optimization terminated successfully.\n",
      "         Current function value: 11.977963\n",
      "         Iterations: 5\n",
      "         Function evaluations: 21\n",
      "         Gradient evaluations: 7\n"
     ]
    }
   ],
   "source": [
    "# ~~~~~~~~~~~~~~~~~~~~~~~ compute the new min-max optimal controller\n",
    "\n",
    "Q = np.array([[1, 0], [0, 1]])\n",
    "R = np.array(1)\n",
    "\n",
    "ocSolver = OptimalControlSolver(A_set,B_set)\n",
    "ocSolver.Q = Q\n",
    "ocSolver.R = R\n",
    "ocSolver.solve(method='LMI')\n",
    "K = ocSolver.K_opt"
   ]
  },
  {
   "cell_type": "markdown",
   "id": "fd623933",
   "metadata": {},
   "source": []
  },
  {
   "cell_type": "code",
   "execution_count": null,
   "id": "ccaff00d",
   "metadata": {},
   "outputs": [
    {
     "name": "stderr",
     "output_type": "stream",
     "text": [
      "C:\\Users\\conor\\AppData\\Local\\Temp\\ipykernel_2564\\830853903.py:33: UserWarning: No artists with labels found to put in legend.  Note that artists whose label start with an underscore are ignored when legend() is called with no argument.\n",
      "  axes[1].legend()\n"
     ]
    },
    {
     "data": {
      "image/png": "[encoded data removed]",
      "text/plain": [
       "<Figure size 640x480 with 2 Axes>"
      ]
     },
     "metadata": {},
     "output_type": "display_data"
    }
   ],
   "source": [
    "from scipy import signal\n",
    "\n",
    "fig, axes = plt.subplots(2,1)\n",
    "\n",
    "Ts = 1.0\n",
    "N  = 20\n",
    "tspan  = np.arange(N) * Ts\n",
    "\n",
    "t_plot = -1\n",
    "\n",
    "C_r = 1\n",
    "B_i = np.array([[0], [1]])\n",
    "C_i = np.array([[C_r, 0]])\n",
    "D_i = np.array([[0]])\n",
    "\n",
    "A_aug = np.array([[a, 0], [-C_r, 1]])\n",
    "B_aug = np.array([[b], [0]])\n",
    "A_i = A_aug - B_aug @ K\n",
    "t, y = signal.dstep((A_i, B_i, C_i, D_i, Ts), t=tspan)\n",
    "axes[0].plot(t[:t_plot], np.squeeze(y)[:t_plot], label='integrator + min-max optimal K')\n",
    "\n",
    "# t, y = signal.dstep((a, b, 1, 0, Ts), t=tspan)\n",
    "# plt.plot(t[:t_plot], np.squeeze(y)[:t_plot], label='feedforward + open loop')\n",
    "\n",
    "# t, y = signal.dstep((a-b*k, b, 1, 0, Ts), t=tspan)\n",
    "# plt.plot(t[:t_plot], np.squeeze(y)[:t_plot], label='feedforward + min-max optimal k')\n",
    "\n",
    "t, y = signal.dstep((A_i, B_i, np.eye(2), np.zeros((2,1)), Ts), t=tspan)\n",
    "u = K @ y[0].T\n",
    "axes[1].plot(t,u.squeeze())\n",
    "\n",
    "axes[0].legend()\n",
    "axes[1].legend()\n",
    "plt.show()"
   ]
  },
  {
   "cell_type": "code",
   "execution_count": null,
   "id": "379a8b88",
   "metadata": {},
   "outputs": [
    {
     "data": {
      "text/plain": [
       "[<matplotlib.lines.Line2D at 0x1c78e277350>]"
      ]
     },
     "execution_count": 39,
     "metadata": {},
     "output_type": "execute_result"
    },
    {
     "data": {
      "image/png": "[encoded data removed]",
      "text/plain": [
       "<Figure size 640x480 with 1 Axes>"
      ]
     },
     "metadata": {},
     "output_type": "display_data"
    }
   ],
   "source": []
  },
  {
   "cell_type": "code",
   "execution_count": null,
   "id": "ae18fdbe",
   "metadata": {},
   "outputs": [
    {
     "name": "stderr",
     "output_type": "stream",
     "text": [
      "INFO:optimal_controller.optimal_controls: Convex hull of A set has 5 vertices\n",
      "INFO:optimal_controller.optimal_controls: Convex hull of B set has 5 vertices\n",
      "INFO:optimal_controller.optimal_controls: This will lead to 25 LMI constraints\n",
      "INFO:optimal_controller.optimal_controls: Defined 25 LMI constraints\n",
      "INFO:optimal_controller.optimal_controls: SolutionStatus.Optimal, simultaneously stabilising feedback gain is K = [[0.904 1.103]\n",
      " [0.552 0.882]]\n",
      "c:\\Users\\conor\\anaconda3\\envs\\capstone_v3\\Lib\\site-packages\\scipy\\optimize\\_minimize.py:733: OptimizeWarning: Desired error not necessarily achieved due to precision loss.\n",
      "  res = _minimize_bfgs(fun, x0, args, jac, callback, **options)\n",
      "INFO:optimal_controller.optimal_controls: Optimised the simultaneously stabilising feedback gain, yielding K = [[1.118 0.709]\n",
      " [0.292 1.089]]\n",
      "INFO:optimal_controller.optimal_controls: Worst J using initial K: 27.6926\n",
      "INFO:optimal_controller.optimal_controls: Worst J using optimized K: 9.0349\n"
     ]
    },
    {
     "name": "stdout",
     "output_type": "stream",
     "text": [
      "         Current function value: 9.034890\n",
      "         Iterations: 6\n",
      "         Function evaluations: 389\n",
      "         Gradient evaluations: 76\n"
     ]
    }
   ],
   "source": [
    "np.random.seed(42)\n",
    "A_set = np.zeros((5,2,2))\n",
    "for i in range(5):\n",
    "    A_set[i] = np.array([[1,0.5], [0.5,1]]) + 0.33*np.random.randn(2,2)\n",
    "\n",
    "B_set = np.zeros((5,2,2))\n",
    "for i in range(5):\n",
    "    B_set[i] = np.eye(2) + 0.33*np.random.randn(2,2)\n",
    "\n",
    "ocSolver = OptimalControlSolver(A_set,B_set)\n",
    "ocSolver.Q = np.eye(2)\n",
    "ocSolver.R = np.eye(2)\n",
    "ocSolver.solve(method='LMI')\n",
    "K = ocSolver.K_opt"
   ]
  },
  {
   "cell_type": "markdown",
   "id": "d2a73518",
   "metadata": {},
   "source": [
    "R^{-1/2} thing"
   ]
  },
  {
   "cell_type": "code",
   "execution_count": null,
   "id": "031fd1b6",
   "metadata": {},
   "outputs": [
    {
     "data": {
      "image/png": "[encoded data removed]",
      "text/plain": [
       "<Figure size 1200x500 with 2 Axes>"
      ]
     },
     "metadata": {},
     "output_type": "display_data"
    }
   ],
   "source": [
    "import numpy as np\n",
    "import matplotlib.pyplot as plt\n",
    "\n",
    "np.random.seed(42)\n",
    "\n",
    "# System: x_{k+1} = theta1 * x_k + theta2 * u_k + noise\n",
    "true_theta = np.array([0.5, 0.8])\n",
    "n = 100  # number of samples\n",
    "d = 2    # dimension of theta\n",
    "alpha = 0.05  # 95% confidence -> 5% significance\n",
    "M = 100  # number of sign perturbations\n",
    "\n",
    "# Generate synthetic input/output data\n",
    "x_k = np.zeros(n)\n",
    "u_k = np.random.randn(n)\n",
    "noise = np.random.randn(n) * 0.3\n",
    "y_k = np.zeros(n)\n",
    "\n",
    "for k in range(n - 1):\n",
    "    y_k[k + 1] = true_theta[0] * x_k[k] + true_theta[1] * u_k[k] + noise[k]\n",
    "    x_k[k + 1] = y_k[k + 1]\n",
    "\n",
    "# Build regressors and outputs\n",
    "phi = np.column_stack((x_k[:-1], u_k[:-1]))  # shape (n-1, 2)\n",
    "y = y_k[1:]  # shape (n-1,)\n",
    "\n",
    "# Compute empirical covariance\n",
    "R_n = (phi.T @ phi) / (n - 1)\n",
    "R_n_inv_sqrt = np.linalg.inv(np.linalg.cholesky(R_n)).T\n",
    "\n",
    "# Nominal SPS sum (no sign)\n",
    "S_nom = lambda theta: (phi * (y - phi @ theta)[:, None]).mean(axis=0)\n",
    "\n",
    "# SPS with random signs\n",
    "def SPS_norms(theta, whiten=True):\n",
    "    norms = []\n",
    "    for _ in range(M - 1):\n",
    "        alpha = np.random.choice([-1, 1], size=n - 1)\n",
    "        perturbed = phi * (alpha * (y - phi @ theta))[:, None]\n",
    "        sum_ = perturbed.mean(axis=0)\n",
    "        if whiten:\n",
    "            sum_ = R_n_inv_sqrt @ sum_\n",
    "        norms.append(np.linalg.norm(sum_))\n",
    "    # Add nominal (no sign)\n",
    "    s0 = S_nom(theta)\n",
    "    if whiten:\n",
    "        s0 = R_n_inv_sqrt @ s0\n",
    "    norms.append(np.linalg.norm(s0))\n",
    "    return norms\n",
    "\n",
    "# SPS confidence region grid\n",
    "theta1_vals = np.linspace(0.3, 0.7, 20)\n",
    "theta2_vals = np.linspace(0.6, 1.0, 20)\n",
    "T1, T2 = np.meshgrid(theta1_vals, theta2_vals)\n",
    "inside_whitened = np.zeros_like(T1, dtype=bool)\n",
    "inside_unwhitened = np.zeros_like(T1, dtype=bool)\n",
    "ranks_whitened = np.zeros_like(T1)\n",
    "ranks_unwhitened = np.zeros_like(T1)\n",
    "\n",
    "for i in range(T1.shape[0]):\n",
    "    for j in range(T1.shape[1]):\n",
    "        theta = np.array([T1[i, j], T2[i, j]])\n",
    "        norms_w = SPS_norms(theta, whiten=True)\n",
    "        norms_uw = SPS_norms(theta, whiten=False)\n",
    "        rank_w = sum(norm < norms_w[-1] for norm in norms_w)\n",
    "        rank_uw = sum(norm < norms_uw[-1] for norm in norms_uw)\n",
    "        inside_whitened[i, j] = rank_w >= int((1 - alpha) * M)\n",
    "        inside_unwhitened[i, j] = rank_uw >= int((1 - alpha) * M)\n",
    "        ranks_whitened[i, j] = rank_w\n",
    "        ranks_unwhitened[i, j] = rank_uw\n",
    "\n",
    "# Plot\n",
    "fig, axs = plt.subplots(1, 2, figsize=(12, 5))\n",
    "axs[0].imshow(ranks_unwhitened)\n",
    "axs[1].imshow(ranks_whitened)\n",
    "plt.show()\n",
    "\n"
   ]
  },
  {
   "cell_type": "code",
   "execution_count": null,
   "id": "329bed30",
   "metadata": {},
   "outputs": [],
   "source": []
  }
 ],
 "metadata": {
  "kernelspec": {
   "display_name": "capstone",
   "language": "python",
   "name": "python3"
  },
  "language_info": {
   "codemirror_mode": {
    "name": "ipython",
    "version": 3
   },
   "file_extension": ".py",
   "mimetype": "text/x-python",
   "name": "python",
   "nbconvert_exporter": "python",
   "pygments_lexer": "ipython3",
   "version": "3.12.9"
  }
 },
 "nbformat": 4,
 "nbformat_minor": 5
}
