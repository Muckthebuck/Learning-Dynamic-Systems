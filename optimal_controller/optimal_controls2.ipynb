{
 "cells": [
  {
   "cell_type": "code",
   "execution_count": 1,
   "metadata": {},
   "outputs": [],
   "source": [
    "# REQUIREMENTS\n",
    "#   - see https://www.mosek.com/products/academic-licenses/ to get a .lic file and place it in the required directory\n",
    "#   - then \"pip install mosek\"\n",
    "\n",
    "import numpy as np\n",
    "from state_space import generate_perturbed\n",
    "from optimal_controls2 import *\n",
    "import logging\n",
    "logging.basicConfig(level=logging.INFO, force=True)"
   ]
  },
  {
   "cell_type": "code",
   "execution_count": 2,
   "metadata": {},
   "outputs": [],
   "source": [
    "# n_states = 1\n",
    "# n_inputs = 1\n",
    "# A0 = np.array([[0.7]])\n",
    "# B0 = np.array([[0.4]])\n",
    "# n_plants = 2000\n",
    "# A_list = generate_perturbed(A0, n_plants, 0.1)\n",
    "# B_list = np.ones_like(A_list) * 0.4"
   ]
  },
  {
   "cell_type": "code",
   "execution_count": 3,
   "metadata": {},
   "outputs": [],
   "source": [
    "# n_states = 1\n",
    "# n_inputs = 1\n",
    "# A0 = np.array([[0.7]])\n",
    "# B0 = np.array([[0.4]])\n",
    "# n_plants = 2000\n",
    "# A_list = generate_perturbed(A0, n_plants, 0.1)\n",
    "# B_list = generate_perturbed(B0, n_plants, 0.1)"
   ]
  },
  {
   "cell_type": "code",
   "execution_count": null,
   "metadata": {},
   "outputs": [],
   "source": [
    "# n_states = 2\n",
    "# n_inputs = 2\n",
    "# A0 = np.array([[1, 0.5],\n",
    "#                [0.5, 1]])\n",
    "# B0 = np.eye(2)\n",
    "# n_plants = 256\n",
    "# A_list = generate_perturbed(A0, n_plants, 0.1)\n",
    "# B_list = generate_perturbed(B0, n_plants, 0.1)"
   ]
  },
  {
   "cell_type": "code",
   "execution_count": 26,
   "metadata": {},
   "outputs": [],
   "source": [
    "n_states = 4\n",
    "n_inputs = 1\n",
    "A0 = np.array([[0, 0, 0, -0.048],\n",
    "               [1, 0, 0, 0.676],\n",
    "               [0, 1, 0, -2.21],\n",
    "               [0, 0, 1, 2.6]])\n",
    "B0 = np.array([[-0.12], [0.68], [-1.4], [1]])\n",
    "n_plants = 128\n",
    "A_list = generate_perturbed(A0, n_plants, 0.02)\n",
    "B_list = generate_perturbed(B0, n_plants, 0.01)"
   ]
  },
  {
   "cell_type": "code",
   "execution_count": 27,
   "metadata": {},
   "outputs": [],
   "source": [
    "# n_states = 6\n",
    "# n_inputs = 1\n",
    "# A0 = np.array([[0,  0,  0,  0,  0, -0.085],\n",
    "#                [1,  0,  0,  0,  0,  0.642],\n",
    "#                [0,  1,  0,  0,  0, -2.219],\n",
    "#                [0,  0,  1,  0,  0,  4.354],\n",
    "#                [0,  0,  0,  1,  0, -5.11 ],\n",
    "#                [0,  0,  0,  0,  1,  3.4  ]])\n",
    "# B0 = np.array([[-0.0068], [0.0796], [-0.4170], [1.17], [-1.7], [1]])\n",
    "# n_plants = 256\n",
    "# A_list = generate_perturbed(A0, n_plants, 0.005)\n",
    "# B_list = generate_perturbed(B0, n_plants, 0.002)"
   ]
  },
  {
   "cell_type": "code",
   "execution_count": 28,
   "metadata": {},
   "outputs": [
    {
     "data": {
      "text/plain": [
       "(128, 4, 4)"
      ]
     },
     "execution_count": 28,
     "metadata": {},
     "output_type": "execute_result"
    }
   ],
   "source": [
    "A_list.shape"
   ]
  },
  {
   "cell_type": "code",
   "execution_count": 29,
   "metadata": {},
   "outputs": [
    {
     "name": "stderr",
     "output_type": "stream",
     "text": [
      "INFO:optimal_controls2: Defined 119 LMI constraints\n",
      "INFO:optimal_controls2: SolutionStatus.Optimal, simultaneously stabilising feedback gain is K = [[ 0.296 -0.208  0.612  2.112]]\n",
      "INFO:optimal_controls2: Optimised the simultaneously stabilising feedback gain, yielding K = [[0.412 0.280 0.984 2.456]]\n",
      "INFO:optimal_controls2: Worst J using initial K: 592.4623\n",
      "INFO:optimal_controls2: Worst J using optimized K: 148.3447\n"
     ]
    }
   ],
   "source": [
    "K = get_optimal_controller(A_list, B_list)"
   ]
  },
  {
   "cell_type": "code",
   "execution_count": 30,
   "metadata": {},
   "outputs": [
    {
     "name": "stderr",
     "output_type": "stream",
     "text": [
      "INFO:optimal_controls2: Defined 128 LMI constraints\n",
      "INFO:optimal_controls2: SolutionStatus.Optimal, simultaneously stabilising feedback gain is K = [[ 0.296 -0.208  0.611  2.112]]\n",
      "INFO:optimal_controls2: Optimised the simultaneously stabilising feedback gain, yielding K = [[0.190 0.178 0.925 2.710]]\n",
      "INFO:optimal_controls2: Worst J using initial K: 603.1055\n",
      "INFO:optimal_controls2: Worst J using optimized K: 149.0947\n"
     ]
    }
   ],
   "source": [
    "ocSolver = OptimalControlSolver(A_list, B_list)\n",
    "ocSolver.uncertainty_region_method = 'all_plants'\n",
    "ocSolver.simstab_method = 'LMI'\n",
    "ocSolver.minimize_wrt = 'all_plants'\n",
    "ocSolver.solve()"
   ]
  },
  {
   "cell_type": "code",
   "execution_count": 31,
   "metadata": {},
   "outputs": [
    {
     "name": "stderr",
     "output_type": "stream",
     "text": [
      "INFO:optimal_controls2: Convex hull of A set has 54 vertices\n",
      "INFO:optimal_controls2: Convex hull of B set has 42 vertices\n",
      "INFO:optimal_controls2: This will lead to 2268 LMI constraints\n",
      "INFO:optimal_controls2: Defined 2268 LMI constraints\n",
      "INFO:optimal_controls2: SolutionStatus.Optimal, simultaneously stabilising feedback gain is K = [[0.466 0.060 0.938 2.494]]\n",
      "INFO:optimal_controls2: Optimised the simultaneously stabilising feedback gain, yielding K = [[0.367 0.287 0.979 2.560]]\n",
      "INFO:optimal_controls2: Worst J using initial K: 181.5792\n",
      "INFO:optimal_controls2: Worst J using optimized K: 148.2815\n"
     ]
    }
   ],
   "source": [
    "ocSolver = OptimalControlSolver(A_list, B_list)\n",
    "ocSolver.uncertainty_region_method = 'convhull_oliveira'\n",
    "ocSolver.simstab_method = 'LMI'\n",
    "ocSolver.minimize_wrt = 'all_plants'\n",
    "ocSolver.solve()"
   ]
  },
  {
   "cell_type": "code",
   "execution_count": 32,
   "metadata": {},
   "outputs": [
    {
     "data": {
      "text/plain": [
       "(128, 4, 1)"
      ]
     },
     "execution_count": 32,
     "metadata": {},
     "output_type": "execute_result"
    }
   ],
   "source": [
    "ocSolver.B_list.shape"
   ]
  },
  {
   "cell_type": "code",
   "execution_count": 33,
   "metadata": {},
   "outputs": [
    {
     "name": "stderr",
     "output_type": "stream",
     "text": [
      "INFO:optimal_controls2: Defined 119 LMI constraints\n",
      "INFO:optimal_controls2: SolutionStatus.Optimal, simultaneously stabilising feedback gain is K = [[ 0.296 -0.208  0.612  2.112]]\n",
      "INFO:optimal_controls2: Optimised the simultaneously stabilising feedback gain, yielding K = [[0.412 0.280 0.984 2.456]]\n",
      "INFO:optimal_controls2: Worst J using initial K: 592.4623\n",
      "INFO:optimal_controls2: Worst J using optimized K: 148.3447\n"
     ]
    }
   ],
   "source": [
    "ocSolver = OptimalControlSolver(A_list, B_list)\n",
    "ocSolver.uncertainty_region_method = 'convhull_peaucelle'\n",
    "ocSolver.simstab_method = 'LMI'\n",
    "ocSolver.minimize_wrt = 'vertex_plants'\n",
    "ocSolver.solve()"
   ]
  },
  {
   "cell_type": "code",
   "execution_count": 34,
   "metadata": {},
   "outputs": [
    {
     "name": "stderr",
     "output_type": "stream",
     "text": [
      "INFO:optimal_controls2: Defined 510 LMI constraints\n",
      "INFO:optimal_controls2: Could not find stabilising controller!\n",
      "INFO:optimal_controls2: Infeasible problem: primal infeasibility certificate found.\n"
     ]
    },
    {
     "ename": "AssertionError",
     "evalue": "",
     "output_type": "error",
     "traceback": [
      "\u001b[1;31m---------------------------------------------------------------------------\u001b[0m",
      "\u001b[1;31mAssertionError\u001b[0m                            Traceback (most recent call last)",
      "Cell \u001b[1;32mIn[34], line 6\u001b[0m\n\u001b[0;32m      4\u001b[0m ocSolver\u001b[38;5;241m.\u001b[39msimstab_method \u001b[38;5;241m=\u001b[39m \u001b[38;5;124m'\u001b[39m\u001b[38;5;124mLMI\u001b[39m\u001b[38;5;124m'\u001b[39m\n\u001b[0;32m      5\u001b[0m ocSolver\u001b[38;5;241m.\u001b[39mminimize_wrt \u001b[38;5;241m=\u001b[39m \u001b[38;5;124m'\u001b[39m\u001b[38;5;124mall_plants\u001b[39m\u001b[38;5;124m'\u001b[39m\n\u001b[1;32m----> 6\u001b[0m \u001b[43mocSolver\u001b[49m\u001b[38;5;241;43m.\u001b[39;49m\u001b[43msolve\u001b[49m\u001b[43m(\u001b[49m\u001b[43m)\u001b[49m\n",
      "File \u001b[1;32mc:\\Users\\conor\\OneDrive\\Documents\\_uni\\2025 S1\\Capstone\\Learning-Dynamic-Systems\\optimal_controller\\optimal_controls2.py:125\u001b[0m, in \u001b[0;36mOptimalControlSolver.solve\u001b[1;34m(self)\u001b[0m\n\u001b[0;32m    123\u001b[0m \u001b[38;5;28mself\u001b[39m\u001b[38;5;241m.\u001b[39mcompute_vertices()\n\u001b[0;32m    124\u001b[0m \u001b[38;5;28mself\u001b[39m\u001b[38;5;241m.\u001b[39mget_K_stab()\n\u001b[1;32m--> 125\u001b[0m \u001b[38;5;28;43mself\u001b[39;49m\u001b[38;5;241;43m.\u001b[39;49m\u001b[43moptimise_K_stab\u001b[49m\u001b[43m(\u001b[49m\u001b[43m)\u001b[49m\n",
      "File \u001b[1;32mc:\\Users\\conor\\OneDrive\\Documents\\_uni\\2025 S1\\Capstone\\Learning-Dynamic-Systems\\optimal_controller\\optimal_controls2.py:248\u001b[0m, in \u001b[0;36mOptimalControlSolver.optimise_K_stab\u001b[1;34m(self)\u001b[0m\n\u001b[0;32m    246\u001b[0m \u001b[38;5;28;01mdef\u001b[39;00m\u001b[38;5;250m \u001b[39m\u001b[38;5;21moptimise_K_stab\u001b[39m(\u001b[38;5;28mself\u001b[39m):\n\u001b[1;32m--> 248\u001b[0m     \u001b[38;5;28;01massert\u001b[39;00m \u001b[38;5;28mself\u001b[39m\u001b[38;5;241m.\u001b[39mK_stab \u001b[38;5;129;01mis\u001b[39;00m \u001b[38;5;129;01mnot\u001b[39;00m \u001b[38;5;28;01mNone\u001b[39;00m\n\u001b[0;32m    249\u001b[0m     \u001b[38;5;28;01massert\u001b[39;00m compute_worst_case_J(\u001b[38;5;28mself\u001b[39m\u001b[38;5;241m.\u001b[39mK_stab, \u001b[38;5;28mself\u001b[39m\u001b[38;5;241m.\u001b[39mA_list, \u001b[38;5;28mself\u001b[39m\u001b[38;5;241m.\u001b[39mB_list, \u001b[38;5;28mself\u001b[39m\u001b[38;5;241m.\u001b[39mQ, \u001b[38;5;28mself\u001b[39m\u001b[38;5;241m.\u001b[39mR, \u001b[38;5;28mself\u001b[39m\u001b[38;5;241m.\u001b[39mx_0) \u001b[38;5;241m!=\u001b[39m np\u001b[38;5;241m.\u001b[39minf\n\u001b[0;32m    251\u001b[0m     \u001b[38;5;28;01mif\u001b[39;00m \u001b[38;5;28mself\u001b[39m\u001b[38;5;241m.\u001b[39mminimize_wrt \u001b[38;5;241m==\u001b[39m \u001b[38;5;124m'\u001b[39m\u001b[38;5;124mvertex_plants\u001b[39m\u001b[38;5;124m'\u001b[39m:\n",
      "\u001b[1;31mAssertionError\u001b[0m: "
     ]
    }
   ],
   "source": [
    "ocSolver = OptimalControlSolver(A_list, B_list)\n",
    "ocSolver.uncertainty_region_method = 'lowresMVEE'\n",
    "ocSolver.set_max_n_verts(1000)\n",
    "ocSolver.simstab_method = 'LMI'\n",
    "ocSolver.minimize_wrt = 'all_plants'\n",
    "ocSolver.solve()"
   ]
  },
  {
   "cell_type": "code",
   "execution_count": 35,
   "metadata": {},
   "outputs": [
    {
     "name": "stderr",
     "output_type": "stream",
     "text": [
      "INFO:optimal_controls2: Simultaneously stabilising feedback gain is K = [[0.414 0.291 1.037 2.495]]\n",
      "INFO:optimal_controls2: Optimised the simultaneously stabilising feedback gain, yielding K = [[0.369 0.280 0.987 2.489]]\n",
      "INFO:optimal_controls2: Worst J using initial K: 168.5190\n",
      "INFO:optimal_controls2: Worst J using optimized K: 148.2703\n"
     ]
    }
   ],
   "source": [
    "ocSolver = OptimalControlSolver(A_list, B_list)\n",
    "ocSolver.uncertainty_region_method = 'all_plants'\n",
    "ocSolver.simstab_method = 'riccati'\n",
    "ocSolver.minimize_wrt = 'all_plants'\n",
    "ocSolver.solve()"
   ]
  },
  {
   "cell_type": "code",
   "execution_count": null,
   "metadata": {},
   "outputs": [],
   "source": []
  }
 ],
 "metadata": {
  "kernelspec": {
   "display_name": "capstone",
   "language": "python",
   "name": "python3"
  },
  "language_info": {
   "codemirror_mode": {
    "name": "ipython",
    "version": 3
   },
   "file_extension": ".py",
   "mimetype": "text/x-python",
   "name": "python",
   "nbconvert_exporter": "python",
   "pygments_lexer": "ipython3",
   "version": "3.12.9"
  }
 },
 "nbformat": 4,
 "nbformat_minor": 2
}
