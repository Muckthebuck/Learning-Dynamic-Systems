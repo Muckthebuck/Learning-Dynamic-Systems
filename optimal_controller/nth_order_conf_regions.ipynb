{
 "cells": [
  {
   "cell_type": "markdown",
   "metadata": {},
   "source": [
    "#### Imports"
   ]
  },
  {
   "cell_type": "code",
   "execution_count": 1,
   "metadata": {},
   "outputs": [],
   "source": [
    "import os\n",
    "import torch\n",
    "\n",
    "import numpy as cp # sticking with numpy for now\n",
    "cp.random.seed(42)\n",
    "\n",
    "import matplotlib.pyplot as plt\n",
    "import scipy\n",
    "from scipy import signal"
   ]
  },
  {
   "cell_type": "markdown",
   "metadata": {},
   "source": [
    "#### ARMAX class"
   ]
  },
  {
   "cell_type": "code",
   "execution_count": 2,
   "metadata": {},
   "outputs": [],
   "source": [
    "class ARMAX:\n",
    "    def __init__(self, A, B, C, F, L):\n",
    "        self.A = cp.array(A)\n",
    "        self.B = cp.array(B)\n",
    "        self.C = cp.array(C)\n",
    "        self.F = cp.array(F)\n",
    "        self.L = cp.array(L)\n",
    "        # cp.random.seed(42)\n",
    "    \n",
    "    def simulate(self, n_samples, R=None, noise_std=0.1):\n",
    "        Y = cp.zeros(n_samples)\n",
    "        U = cp.zeros(n_samples)\n",
    "        N = cp.random.normal(0, noise_std, n_samples)\n",
    "        \n",
    "        if R is None:\n",
    "            R = cp.zeros(n_samples)\n",
    "        \n",
    "        max_order = max(len(self.A), len(self.B), len(self.C), len(self.F), len(self.L))\n",
    "        \n",
    "        for t in range(max_order, n_samples):\n",
    "            Y[t] = (- cp.dot(self.A[1:], Y[t-1:t-len(self.A):-1]) \n",
    "                    + cp.dot(self.B, U[t-1:t-len(self.B)-1:-1])\n",
    "                    + cp.dot(self.C, N[t:t-len(self.C):-1]))\n",
    "            \n",
    "            U[t] = (cp.dot(self.L, R[t:t-len(self.L):-1]) \n",
    "                    - cp.dot(self.F, Y[t:t-len(self.F):-1]))\n",
    "        \n",
    "        return Y, U, N, R\n",
    "    \n",
    "    def plot_results(self, Y, U, N, R):\n",
    "        fig, axs = plt.subplots(4, 1, figsize=(10, 12), sharex=True)\n",
    "        \n",
    "        axs[0].plot(Y)\n",
    "        axs[0].set_ylabel('Output (Y)')\n",
    "        axs[0].set_title('ARMAX Closed-Loop Simulation Results')\n",
    "        \n",
    "        axs[1].plot(U)\n",
    "        axs[1].set_ylabel('Input (U)')\n",
    "        \n",
    "        axs[2].plot(N)\n",
    "        axs[2].set_ylabel('Noise (N)')\n",
    "        \n",
    "        axs[3].plot(R)\n",
    "        axs[3].set_ylabel('Reference (R)')\n",
    "        axs[3].set_xlabel('Time')\n",
    "        \n",
    "        plt.tight_layout()\n",
    "        plt.show()"
   ]
  },
  {
   "cell_type": "markdown",
   "metadata": {},
   "source": [
    "#### SPS indirect class"
   ]
  },
  {
   "cell_type": "code",
   "execution_count": 3,
   "metadata": {},
   "outputs": [],
   "source": [
    "from sps_indirect import SPS_indirect_model, d_tfs"
   ]
  },
  {
   "cell_type": "markdown",
   "metadata": {},
   "source": [
    "#### SPS confidence region for nth order system"
   ]
  },
  {
   "cell_type": "markdown",
   "metadata": {},
   "source": [
    "##### get_conf_region()"
   ]
  },
  {
   "cell_type": "code",
   "execution_count": 4,
   "metadata": {},
   "outputs": [],
   "source": [
    "def get_conf_region(region_bounds, granularity, model, n_a, n_b, C, L, F, Y, R):\n",
    "    \n",
    "    assert n_a + n_b == len(region_bounds)\n",
    "    assert n_a + n_b == len(granularity)\n",
    "    \n",
    "    # Create a meshgrid for A and B values\n",
    "    grid_axes = [cp.linspace(region_bounds[i][0], region_bounds[i][1], granularity[i]) for i in range(n_a+n_b)]\n",
    "    grid_vals = cp.meshgrid(*grid_axes, indexing='ij')\n",
    "    grid_vals = cp.array(grid_vals)\n",
    "\n",
    "    flat_param_vals = [grid_vals[i].ravel() for i in range(n_a+n_b)]\n",
    "    flat_param_vals = cp.array(flat_param_vals).T\n",
    "\n",
    "    pts_in_conf_region = []\n",
    "    n_pts = flat_param_vals.shape[0]\n",
    "    for i in range(n_pts):\n",
    "\n",
    "        point = flat_param_vals[i]\n",
    "        A = cp.concatenate(([1], -point[:n_a]))\n",
    "        B = cp.concatenate(([0],  point[n_a:]))\n",
    "        G = (B, A)\n",
    "        H = (C, A)\n",
    "        \n",
    "        # Check stability conditions\n",
    "        G_tf = d_tfs(G)\n",
    "        H_tf = d_tfs(H)\n",
    "        L_tf = d_tfs(L)\n",
    "        F_tf = d_tfs(F)\n",
    "        GF_plus_I = (G_tf * F_tf).add_scalar(1)\n",
    "        stability_conditions = [\n",
    "            L_tf.is_stable(),\n",
    "            G_tf.is_stable(),\n",
    "            H_tf.is_stable(),\n",
    "            (~H_tf).is_stable(),\n",
    "            (~GF_plus_I).is_stable()\n",
    "        ]\n",
    "        if not all(stability_conditions):\n",
    "            # print(\"unstable candidate: G = \", G, \" and H = \", H)\n",
    "            continue\n",
    "\n",
    "        # Transform to open loop\n",
    "        G_0, H_0 = model.transform_to_open_loop(G, H, F, L)  # Assuming F and L are defined\n",
    "\n",
    "        # Check the SPS indicator and store the parameters if true\n",
    "        in_sps, S1 = model.open_loop_sps(G_0, H_0, Y, R, n_a, n_b)  # Assuming Y and U are defined\n",
    "        if in_sps:\n",
    "            # print(in_sps)\n",
    "            pts_in_conf_region.append(point)\n",
    "            \n",
    "\n",
    "    pts_in_conf_region = cp.array(pts_in_conf_region)\n",
    "\n",
    "    return pts_in_conf_region"
   ]
  },
  {
   "cell_type": "markdown",
   "metadata": {},
   "source": [
    "##### plot_pts_in_conf_region()"
   ]
  },
  {
   "cell_type": "code",
   "execution_count": 5,
   "metadata": {},
   "outputs": [],
   "source": [
    "def plot_pts_in_conf_region(pts_in_conf_region, x_dim, y_dim, true_param, fig=None, ax=None):\n",
    "\n",
    "    if fig is None and ax is None:\n",
    "        fig, ax = plt.subplots()\n",
    "        # labels\n",
    "        # ax.set_xlabel('b')\n",
    "        # ax.set_ylabel('a')\n",
    "        # axis limits\n",
    "        # ax.set_xlim([-0.1, 0.5])\n",
    "        # ax.set_ylim([0, 0.9])\n",
    "        ax.set_title('Points for which closed_loop_sps returns True')\n",
    "    elif fig is None and ax is not None:\n",
    "        raise Exception(\"fig,ax must both be specified\")\n",
    "    elif fig is not None and ax is None:\n",
    "        raise Exception(\"fig,ax must both be specified\")\n",
    "    \n",
    "    try:\n",
    "        results = cp.asnumpy(results)  # convert to np.ndarray\n",
    "    except AttributeError:\n",
    "        pass  # already an np.ndarray\n",
    "\n",
    "    ax.plot(true_param[0], true_param[1], 'rx')  # Plot the true values as a red dot\n",
    "    ax.plot(pts_in_conf_region[:, x_dim], pts_in_conf_region[:, y_dim], 'k.', markersize=3)\n",
    "    \n",
    "    return"
   ]
  },
  {
   "cell_type": "markdown",
   "metadata": {},
   "source": [
    "##### example: first order system"
   ]
  },
  {
   "cell_type": "code",
   "execution_count": 6,
   "metadata": {},
   "outputs": [
    {
     "data": {
      "image/png": "[encoded data removed]",
      "text/plain": [
       "<Figure size 640x480 with 1 Axes>"
      ]
     },
     "metadata": {},
     "output_type": "display_data"
    }
   ],
   "source": [
    "# ~~~~~~~~~~~~~~~~~~~~~~~~~~~~ ARMAX data gen\n",
    "\n",
    "A = [1, -0.33]  # A(z^-1) = 1 - 0.33z^-1\n",
    "B = [0.22]      # B(z^-1) = 0.22z^-1\n",
    "C = [1, 0.15]   # C(z^-1) = 1 + 0.15z^-1\n",
    "F = [0.31, 0.23] # F(z^-1) = 0.31 + 0.23z^-1\n",
    "L = [1]        # L(z^-1) = 1\n",
    "armax_model = ARMAX(A, B, C, F, L)\n",
    "\n",
    "n_samples = 100\n",
    "R = cp.sign(cp.sin(cp.linspace(0, 10*cp.pi, n_samples))) # square wave reference\n",
    "Y, U, N, R = armax_model.simulate(n_samples, R, noise_std=0.2)\n",
    "# armax_model.plot_results(Y, U, N, R)\n",
    "\n",
    "# ~~~~~~~~~~~~~~~~~~~~~~~~~~~~ SPS model definitions\n",
    "\n",
    "A  = [1, -0.33]\n",
    "B = [0, 0.22]\n",
    "C = [1, 0.15]\n",
    "\n",
    "G = (B, A)\n",
    "H = (C, A)     \n",
    "F = ([0.31, 0.23], [1])  \n",
    "L = ([1], [1])         \n",
    "\n",
    "# ~~~~~~~~~~~~~~~~~~~~~~~~~~~~ SPS model creation\n",
    "\n",
    "m = 100\n",
    "q = 5\n",
    "model = SPS_indirect_model(m, q)\n",
    "\n",
    "# ~~~~~~~~~~~~~~~~~~~~~~~~~~~~ confidence region\n",
    "\n",
    "n_a = 1\n",
    "n_b = 1\n",
    "region_bounds = [[0, 1.0], [0, 1.0]]\n",
    "granularity = [21, 21]\n",
    "\n",
    "pts_in_conf_region = get_conf_region(region_bounds, granularity, model, n_a, n_b, C, L, F, Y, R)\n",
    "# print(len(pts_in_conf_region))\n",
    "# print(cp.prod(granularity))\n",
    "\n",
    "# first order system\n",
    "fig, axes = plt.subplots()\n",
    "plot_pts_in_conf_region(pts_in_conf_region, x_dim=0, y_dim=1, true_param=[-A[1], B[1]], fig=fig, ax=axes)\n",
    "axes.set_xlim(0,1)\n",
    "axes.set_ylim(0,1)\n",
    "axes.set_xlabel(\"a\")\n",
    "axes.set_ylabel(\"b\")\n",
    "plt.show()"
   ]
  },
  {
   "cell_type": "markdown",
   "metadata": {},
   "source": [
    "##### example: n_a=2, n_b=2"
   ]
  },
  {
   "cell_type": "code",
   "execution_count": 7,
   "metadata": {},
   "outputs": [
    {
     "name": "stdout",
     "output_type": "stream",
     "text": [
      "1.6% of tested points were in confidence region\n",
      "SPS indicator returns True with actual system parameters: True\n",
      "Actual system parameters were in the returned confidence region: True\n"
     ]
    },
    {
     "data": {
      "image/png": "[encoded data removed]",
      "text/plain": [
       "<Figure size 1000x400 with 2 Axes>"
      ]
     },
     "metadata": {},
     "output_type": "display_data"
    }
   ],
   "source": [
    "# ~~~~~~~~~~~~~~~~~~~~~~~~~~~~ ARMAX data gen example\n",
    "\n",
    "A  = [1, -0.6, -0.3]\n",
    "B = [0.8, 0.5]\n",
    "C = [1, 0.2, 0.04]\n",
    "F = [0.3, 0.2, 0.1] \n",
    "L = [1]\n",
    "armax_model = ARMAX(A, B, C, F, L)\n",
    "\n",
    "n_samples = 100\n",
    "R = cp.sign(cp.sin(cp.linspace(0, 10*cp.pi, n_samples))) # square wave reference signal, works with both cupy and numpy\n",
    "Y, U, N, R = armax_model.simulate(n_samples, R, noise_std=0.05)\n",
    "# armax_model.plot_results(Y, U, N, R)\n",
    "\n",
    "# ~~~~~~~~~~~~~~~~~~~~~~~~~~~~ SPS model definitions\n",
    "\n",
    "A  = [1, -0.6, -0.3]\n",
    "B = [0, 0.8, 0.5]\n",
    "C = [1, 0.2, 0.04]\n",
    "G = (B, A)\n",
    "H = (C, A)\n",
    "\n",
    "F = ([0.3, 0.2, 0.1], [1])  \n",
    "L = ([1], [1])         \n",
    "\n",
    "# ~~~~~~~~~~~~~~~~~~~~~~~~~~~~ SPS model creation\n",
    "\n",
    "m = 20\n",
    "q = 1\n",
    "model = SPS_indirect_model(m, q)\n",
    "\n",
    "# ~~~~~~~~~~~~~~~~~~~~~~~~~~~~ get confidence region\n",
    "\n",
    "n_a = 2\n",
    "n_b = 2\n",
    "region_bounds = [[0, 1.0], [0, 1.0], [0, 1.0], [0, 1.0]]\n",
    "granularity = [11, 11, 11, 11]\n",
    "\n",
    "pts_in_conf_region = get_conf_region(region_bounds, granularity, model, n_a, n_b, C, L, F, Y, R)\n",
    "pct = 100 * len(pts_in_conf_region) / cp.prod(granularity)\n",
    "print(f\"{pct:.1f}% of tested points were in confidence region\", )\n",
    "\n",
    "G_0, H_0 = model.transform_to_open_loop(G, H, F, L)\n",
    "in_sps, S1 = model.open_loop_sps(G_0, H_0, Y, R, n_a, n_b)\n",
    "print(f\"SPS indicator returns True with actual system parameters: {in_sps}\")\n",
    "\n",
    "target = cp.array([0.6, 0.3, 0.8, 0.5])\n",
    "assert len(pts_in_conf_region) > 0\n",
    "idx = cp.where(cp.all(cp.isclose(pts_in_conf_region, target, atol=1e-6), axis=1))\n",
    "in_list = idx[0].size != 0\n",
    "print(f\"Actual system parameters were in the returned confidence region: {in_list}\")\n",
    "\n",
    "# ~~~~~~~~~~~~~~~~~~~~~~~~~~~~ plot confidence region\n",
    "\n",
    "%matplotlib inline\n",
    "fig, axes = plt.subplots(1, 2, figsize=(10,4))\n",
    "plot_pts_in_conf_region(pts_in_conf_region, x_dim=0, y_dim=1, true_param=[-A[1], -A[2]], fig=fig, ax=axes[0])\n",
    "axes[0].set_xlim(0,1)\n",
    "axes[0].set_ylim(0,1)\n",
    "axes[0].set_xlabel(\"a_1\")\n",
    "axes[0].set_ylabel(\"a_2\")\n",
    "plot_pts_in_conf_region(pts_in_conf_region, x_dim=2, y_dim=3, true_param=[B[1], B[2]], fig=fig, ax=axes[1])\n",
    "axes[1].set_xlim(0,1)\n",
    "axes[1].set_ylim(0,1)\n",
    "axes[1].set_xlabel(\"b_1\")\n",
    "axes[1].set_ylabel(\"b_2\")\n",
    "plt.show()"
   ]
  },
  {
   "cell_type": "markdown",
   "metadata": {},
   "source": [
    "##### example: n_a=2, n_b=1"
   ]
  },
  {
   "cell_type": "code",
   "execution_count": 8,
   "metadata": {},
   "outputs": [
    {
     "name": "stdout",
     "output_type": "stream",
     "text": [
      "0.2% of tested points were in confidence region\n",
      "SPS indicator returns True with actual system parameters: True\n",
      "Actual system parameters were in the returned confidence region: True\n"
     ]
    }
   ],
   "source": [
    "# ~~~~~~~~~~~~~~~~~~~~~~~~~~~~ ARMAX data gen example\n",
    "\n",
    "A  = [1, -0.6, -0.3]\n",
    "B = [0.8]\n",
    "C = [1, 0.2, 0.04]\n",
    "F = [0.3, 0.2] \n",
    "L = [1]\n",
    "armax_model = ARMAX(A, B, C, F, L)\n",
    "\n",
    "n_samples = 200\n",
    "R = cp.sign(cp.sin(cp.linspace(0, 5*cp.pi, n_samples))) # square wave reference signal, works with both cupy and numpy\n",
    "Y, U, N, R = armax_model.simulate(n_samples, R, noise_std=0.05)\n",
    "# armax_model.plot_results(Y, U, N, R)\n",
    "\n",
    "# ~~~~~~~~~~~~~~~~~~~~~~~~~~~~ SPS model definitions\n",
    "\n",
    "A  = [1, -0.6, -0.3]\n",
    "B = [0, 0.8]\n",
    "C = [1, 0.2, 0.04]\n",
    "G = (B, A)\n",
    "H = (C, A)\n",
    "\n",
    "F = ([0.3, 0.2], [1])\n",
    "L = ([1], [1])\n",
    "\n",
    "# ~~~~~~~~~~~~~~~~~~~~~~~~~~~~ SPS model creation\n",
    "\n",
    "m = 100\n",
    "q = 5\n",
    "model = SPS_indirect_model(m, q)\n",
    "\n",
    "# ~~~~~~~~~~~~~~~~~~~~~~~~~~~~ get confidence region\n",
    "\n",
    "n_a = 2\n",
    "n_b = 1\n",
    "region_bounds = [[-1, 1], [-1, 1], [-1, 1]]\n",
    "granularity = [21, 21, 21]\n",
    "# region_bounds = [[0.6, 0.8], [0.2, 0.4], [0.7, 0.9]]\n",
    "# granularity = [21, 21, 21]\n",
    "\n",
    "pts_in_conf_region = get_conf_region(region_bounds, granularity, model, n_a, n_b, C, L, F, Y, R)\n",
    "pct = 100 * len(pts_in_conf_region) / cp.prod(granularity)\n",
    "print(f\"{pct:.1f}% of tested points were in confidence region\", )\n",
    "\n",
    "G_0, H_0 = model.transform_to_open_loop(G, H, F, L)\n",
    "in_sps, S1 = model.open_loop_sps(G_0, H_0, Y, R, n_a, n_b)\n",
    "print(f\"SPS indicator returns True with actual system parameters: {in_sps}\")\n",
    "\n",
    "target = cp.array([0.6, 0.3, 0.8])\n",
    "assert len(pts_in_conf_region) > 0\n",
    "idx = cp.where(cp.all(cp.isclose(pts_in_conf_region, target, atol=1e-6), axis=1))\n",
    "in_list = idx[0].size != 0\n",
    "print(f\"Actual system parameters were in the returned confidence region: {in_list}\")\n",
    "\n",
    "\n",
    "# ~~~~~~~~~~~~~~~~~~~~~~~~~~~~ plot confidence region\n",
    "\n",
    "plt.switch_backend('TkAgg')  # or 'Qt5Agg'\n",
    "\n",
    "fig = plt.figure()\n",
    "ax = fig.add_subplot(projection='3d')\n",
    "ax.scatter(pts_in_conf_region[:,0], pts_in_conf_region[:,1], pts_in_conf_region[:,2])\n",
    "ax.scatter(-A[1], -A[2], B[1], 'r', s=100)\n",
    "ax.set_xlabel('a_1')\n",
    "ax.set_ylabel('a_2')\n",
    "ax.set_zlabel('b_1')\n",
    "# plt.show()\n",
    "\n",
    "plt.show(block=True)"
   ]
  },
  {
   "cell_type": "markdown",
   "metadata": {},
   "source": [
    "##### Debugging"
   ]
  }
 ],
 "metadata": {
  "kernelspec": {
   "display_name": "capstone_v2",
   "language": "python",
   "name": "python3"
  },
  "language_info": {
   "codemirror_mode": {
    "name": "ipython",
    "version": 3
   },
   "file_extension": ".py",
   "mimetype": "text/x-python",
   "name": "python",
   "nbconvert_exporter": "python",
   "pygments_lexer": "ipython3",
   "version": "3.9.0"
  }
 },
 "nbformat": 4,
 "nbformat_minor": 2
}
