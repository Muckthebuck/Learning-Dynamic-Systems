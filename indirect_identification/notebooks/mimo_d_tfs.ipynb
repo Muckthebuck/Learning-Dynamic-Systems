{
 "cells": [
  {
   "cell_type": "markdown",
   "metadata": {},
   "source": [
    "# Methods development for MIMO SPS"
   ]
  },
  {
   "cell_type": "markdown",
   "metadata": {},
   "source": [
    "add top level model to sys path, allows to refer other modules without performing local import"
   ]
  },
  {
   "cell_type": "code",
   "execution_count": 1,
   "metadata": {},
   "outputs": [
    {
     "name": "stdout",
     "output_type": "stream",
     "text": [
      "Current Directory: D:\\mukul\\Desktop\\Unimelb\\Masters\\Capstone\\Learning-Dynamic-Systems\\indirect_identification\\notebooks\n",
      "Parent Directory: D:\\mukul\\Desktop\\Unimelb\\Masters\\Capstone\\Learning-Dynamic-Systems\n"
     ]
    }
   ],
   "source": [
    "import sys\n",
    "from pathlib import Path\n",
    "\n",
    "# Get the current notebook's directory\n",
    "parent = Path().resolve()  # Current working directory (notebook's directory)\n",
    "root = parent.parent.parent       # Go one level up\n",
    "\n",
    "print(\"Current Directory:\", parent)\n",
    "print(\"Parent Directory:\", root)\n",
    "\n",
    "# Optionally append to sys.path\n",
    "sys.path.append(str(root))\n"
   ]
  },
  {
   "cell_type": "markdown",
   "metadata": {},
   "source": [
    "## Optimising Inverse of a matrix, using python numba"
   ]
  },
  {
   "cell_type": "code",
   "execution_count": null,
   "metadata": {},
   "outputs": [
    {
     "name": "stdout",
     "output_type": "stream",
     "text": [
      "[[TransferFunction(array([0.22]), array([1, 0]))\n",
      "  TransferFunction(array([1.  , 0.15]), array([1, 0]))]\n",
      " [TransferFunction(array([0.31, 0.23]), array([1, 0]))\n",
      "  TransferFunction(array([0.22]), array([1, 0]))]]\n",
      "Inverse of G: [[TransferFunction(array([1., 0.]), array([0.22]))\n",
      "  TransferFunction(array([1., 0.]), array([1.  , 0.15]))]\n",
      " [TransferFunction(array([1., 0.]), array([0.31, 0.23]))\n",
      "  TransferFunction(array([1., 0.]), array([0.22]))]]\n"
     ]
    }
   ],
   "source": [
    "import numpy as np\n",
    "import control as ctrl\n",
    "\n",
    "# Define the coefficients of the transfer functions\n",
    "A = [1, -0.33]  # A(z^-1) = 1 - 0.33z^-1\n",
    "B = [0, 0.22]   # B(z^-1) = 0.22z^-1\n",
    "C = [1, 0.15]   # C(z^-1) = 1 + 0.15z^-1\n",
    "D = [0.31, 0.23]  # D(z^-1)\n",
    "\n",
    "# Define transfer functions using the control library\n",
    "A_tf = ctrl.TransferFunction(A, [1, 0])\n",
    "B_tf = ctrl.TransferFunction(B, [1, 0])\n",
    "C_tf = ctrl.TransferFunction(C, [1, 0])\n",
    "D_tf = ctrl.TransferFunction(D, [1, 0])\n",
    "\n",
    "# Create a system matrix G (2x2 matrix of transfer functions)\n",
    "G = np.array([[B_tf, C_tf],\n",
    "              [D_tf, B_tf]])\n",
    "\n",
    "# Inverse of G (inverse of a matrix of transfer functions) not correct\n",
    "G_inv = G**-1\n",
    "print(G)\n",
    "print(\"Inverse of G:\", G_inv)\n",
    "# np.inv not implemented\n"
   ]
  },
  {
   "cell_type": "code",
   "execution_count": 10,
   "metadata": {},
   "outputs": [
    {
     "name": "stdout",
     "output_type": "stream",
     "text": [
      "Inverse matrix:\n",
      "[[ 11.1234026  -19.36460624   3.52352897   5.82037544]\n",
      " [ -2.21834764   2.71602748   0.25526463  -0.04163953]\n",
      " [-14.36437338  27.37452331  -7.30477679  -7.08574907]\n",
      " [  6.7460182  -11.43807368   4.15932786   1.609828  ]]\n",
      "Matrix inversion took 3.249480 seconds\n",
      "Verification (should be close to identity matrix):\n",
      "[[ 1.00000000e+00 -2.31134343e-15 -3.70162923e-16  1.94017654e-18]\n",
      " [-1.50962053e-16  1.00000000e+00 -1.98595380e-17  4.08563448e-16]\n",
      " [ 5.14119951e-16 -1.54608419e-15  1.00000000e+00  2.77892019e-16]\n",
      " [-1.00925753e-15 -5.01378678e-15  5.04281324e-16  1.00000000e+00]]\n"
     ]
    }
   ],
   "source": [
    "import numpy as np\n",
    "import numba as nb\n",
    "import time\n",
    "\n",
    "@nb.jit(nopython=True)\n",
    "def lu_decomposition(A):\n",
    "    n = A.shape[0]\n",
    "    L = np.eye(n)\n",
    "    U = A.copy()\n",
    "\n",
    "    for i in range(n):\n",
    "        for j in range(i + 1, n):\n",
    "            factor = U[j, i] / U[i, i]\n",
    "            L[j, i] = factor\n",
    "            U[j, i:] -= factor * U[i, i:]\n",
    "\n",
    "    return L, U\n",
    "\n",
    "@nb.jit(nopython=True)\n",
    "def forward_substitution(L, b):\n",
    "    n = L.shape[0]\n",
    "    y = np.zeros_like(b)\n",
    "    for i in range(n):\n",
    "        y[i] = b[i] - np.dot(L[i, :i], y[:i])\n",
    "    return y\n",
    "\n",
    "@nb.jit(nopython=True)\n",
    "def backward_substitution(U, y):\n",
    "    n = U.shape[0]\n",
    "    x = np.zeros_like(y)\n",
    "    for i in range(n - 1, -1, -1):\n",
    "        x[i] = (y[i] - np.dot(U[i, i + 1:], x[i + 1:])) / U[i, i]\n",
    "    return x\n",
    "\n",
    "@nb.jit(nopython=True)\n",
    "def invert_matrix(A):\n",
    "    n = A.shape[0]\n",
    "    L, U = lu_decomposition(A)\n",
    "    inv_A = np.zeros_like(A)\n",
    "\n",
    "    for i in range(n):\n",
    "        e = np.zeros(n)\n",
    "        e[i] = 1\n",
    "        y = forward_substitution(L, e)\n",
    "        x = backward_substitution(U, y)\n",
    "        inv_A[:, i] = x\n",
    "\n",
    "    return inv_A\n",
    "\n",
    "# Define matrix size\n",
    "n = 4\n",
    "A = np.random.rand(n, n)  # Example random matrix\n",
    "\n",
    "# Benchmark the matrix inversion\n",
    "start_time = time.time()\n",
    "A_inv = invert_matrix(A)\n",
    "end_time = time.time()\n",
    "\n",
    "print(\"Inverse matrix:\")\n",
    "print(A_inv)\n",
    "print(f\"Matrix inversion took {end_time - start_time:.6f} seconds\")\n",
    "\n",
    "# Verify the inverse is correct\n",
    "identity = np.dot(A, A_inv)\n",
    "print(\"Verification (should be close to identity matrix):\")\n",
    "print(identity)\n",
    "np.testing.assert_allclose(np.eye(4), identity, atol=1e-10)\n"
   ]
  },
  {
   "cell_type": "code",
   "execution_count": null,
   "metadata": {},
   "outputs": [
    {
     "name": "stdout",
     "output_type": "stream",
     "text": [
      "invert_matrix       :    CPU:    20.711 us   +/- 14.437 (min:     8.700 / max:   257.300) us     GPU-0:    53.006 us   +/- 37.730 (min:     0.544 / max:   689.952) us\n",
      "inv                 :    CPU:   195.704 us   +/- 145.932 (min:    76.200 / max:  8134.700) us     GPU-0:   262.484 us   +/- 162.124 (min:     0.800 / max:  8361.984) us\n"
     ]
    }
   ],
   "source": [
    "from cupyx.profiler import benchmark\n",
    "\n",
    "print(benchmark(invert_matrix, (A, )))\n",
    "print(benchmark(np.linalg.inv, (A, )))\n"
   ]
  },
  {
   "cell_type": "markdown",
   "metadata": {},
   "source": [
    "## Optimising ADD: polymul or convolve"
   ]
  },
  {
   "cell_type": "code",
   "execution_count": null,
   "metadata": {},
   "outputs": [],
   "source": [
    "import numpy as np\n",
    "from numba import njit\n",
    "from scipy.signal import lfilter\n",
    "from cupyx.profiler import benchmark\n",
    "from numpy.polynomial.polynomial import polydiv\n",
    "from numpy.polynomial.polyutils import trimseq\n",
    "\n",
    "_epsilon = 1e-10\n",
    "\n",
    "\n",
    "@njit\n",
    "def _simplify_array(arr: np.ndarray, epsilon: float = _epsilon) -> np.ndarray:\n",
    "    if arr.size == 1:\n",
    "        return arr\n",
    "    arr[np.abs(arr) < epsilon] = 0\n",
    "    arr = trimseq(arr)\n",
    "    return arr\n",
    "\n",
    "@njit\n",
    "def _simplify(num, den, epsilon: float = _epsilon) -> Tuple[np.ndarray, np.ndarray]:\n",
    "    return _simplify_array(num, epsilon),  _simplify_array(den, epsilon)\n",
    "\n",
    "@njit\n",
    "def _ensure_same_size(p1: np.ndarray, p2: np.ndarray) -> Tuple[np.ndarray, np.ndarray]:\n",
    "    size1, size2 = p1.size, p2.size\n",
    "    max_size = max(size1, size2)\n",
    "\n",
    "    if size1 < max_size:\n",
    "        p1 = np.concatenate((p1, np.zeros(max_size - size1, dtype=p1.dtype)))\n",
    "    if size2 < max_size:\n",
    "        p2 = np.concatenate((p2, np.zeros(max_size - size2, dtype=p2.dtype)))\n",
    "\n",
    "    return p1, p2\n",
    "\n",
    "@nb.jit(nopython=True,fastmath=True)\n",
    "def _convolve(arr1: np.ndarray, arr2: np.ndarray) -> np.ndarray:\n",
    "    return _simplify_array(np.convolve(arr1, arr2))\n",
    "\n",
    "@njit\n",
    "def _add_tfs(num1: np.ndarray, den1: np.ndarray, num2: np.ndarray, den2: np.ndarray) -> Tuple[np.ndarray, np.ndarray]:\n",
    "        num_self = _convolve(num1, den2) \n",
    "        num_other = _convolve(num2, den1)\n",
    "        num_self, num_other = _ensure_same_size(num_self, num_other)\n",
    "        num = num_self + num_other\n",
    "        # new common denom\n",
    "        den = _convolve(den1, den2)\n",
    "        \n",
    "        # Find the index of the first nonzero element\n",
    "        gcd = den[np.argmax(den != 0)]\n",
    "        num = num / gcd\n",
    "        den = den / gcd\n",
    "        return num, den"
   ]
  },
  {
   "cell_type": "code",
   "execution_count": null,
   "metadata": {},
   "outputs": [],
   "source": [
    "from numpy.polynomial import polynomial as P\n",
    "@njit(fastmath=True)\n",
    "def njit_polymul(p1, p2):\n",
    "    return P.polymul(p1,p2)"
   ]
  },
  {
   "cell_type": "markdown",
   "metadata": {},
   "source": [
    "### Benchmarking P.polymul, P.polymul with njit function, _covolution"
   ]
  },
  {
   "cell_type": "code",
   "execution_count": null,
   "metadata": {},
   "outputs": [
    {
     "name": "stdout",
     "output_type": "stream",
     "text": [
      "polymul             :    CPU:    25.962 us   +/- 15.944 (min:    15.800 / max:   625.400) us     GPU-0:    51.054 us   +/- 88.765 (min:     2.176 / max:  1863.616) us\n",
      "njit_polymul        :    CPU:     9.819 us   +/-  4.251 (min:     6.200 / max:   108.600) us     GPU-0:    31.354 us   +/- 77.686 (min:     2.240 / max:  1803.360) us\n",
      "_convolve           :    CPU:     7.620 us   +/-  2.273 (min:     5.700 / max:    39.700) us     GPU-0:    29.572 us   +/- 72.752 (min:     2.240 / max:  1833.888) us\n"
     ]
    }
   ],
   "source": [
    "# small arrays ours is better\n",
    "c1 = np.random.rand(4, )\n",
    "c2 = np.random.rand(5, )\n",
    "\n",
    "\n",
    "print(benchmark(P.polymul, (c1, c2), n_repeat=10000))\n",
    "print(benchmark(njit_polymul, (c1, c2), n_repeat=10000))\n",
    "print(benchmark(_convolve,(c1, c2), n_repeat=10000))"
   ]
  },
  {
   "cell_type": "code",
   "execution_count": null,
   "metadata": {},
   "outputs": [
    {
     "name": "stdout",
     "output_type": "stream",
     "text": [
      "polymul             :    CPU:    34.859 us   +/- 16.999 (min:    16.900 / max:   324.200) us     GPU-0:    64.792 us   +/- 46.749 (min:     0.544 / max:  1818.560) us\n",
      "njit_polymul        :    CPU:    30.858 us   +/-  9.711 (min:    21.300 / max:   141.700) us     GPU-0:    52.329 us   +/- 21.988 (min:     0.512 / max:   501.408) us\n",
      "_convolve           :    CPU:    28.795 us   +/- 10.853 (min:    18.100 / max:   225.800) us     GPU-0:    49.469 us   +/- 22.907 (min:     0.480 / max:   659.040) us\n"
     ]
    }
   ],
   "source": [
    "# medium sized array they are performing similar\n",
    "c1 = np.random.rand(20, )\n",
    "c2 = np.random.rand(25, )\n",
    "print(benchmark(P.polymul, (c1, c2), n_repeat=10000))\n",
    "print(benchmark(njit_polymul, (c1, c2), n_repeat=10000))\n",
    "print(benchmark(_convolve,(c1, c2), n_repeat=10000))"
   ]
  },
  {
   "cell_type": "code",
   "execution_count": null,
   "metadata": {},
   "outputs": [
    {
     "name": "stdout",
     "output_type": "stream",
     "text": [
      "polymul             :    CPU:    40.572 us   +/- 27.783 (min:    23.000 / max:  1284.500) us     GPU-0:    74.625 us   +/- 116.618 (min:     2.208 / max:  1843.840) us\n",
      "njit_polymul        :    CPU:   127.977 us   +/- 43.516 (min:    72.700 / max:   777.900) us     GPU-0:   159.084 us   +/- 146.501 (min:     2.208 / max:  2103.264) us\n",
      "_convolve           :    CPU:   164.298 us   +/- 143.030 (min:    80.200 / max: 10683.100) us     GPU-0:   201.133 us   +/- 223.327 (min:     2.208 / max: 11220.992) us\n"
     ]
    }
   ],
   "source": [
    "# really large arrays, polymul is more optimised\n",
    "c1 = np.random.rand(100, )\n",
    "c2 = np.random.rand(100, )\n",
    "print(benchmark(P.polymul, (c1, c2), n_repeat=10000))\n",
    "print(benchmark(njit_polymul, (c1, c2), n_repeat=10000))\n",
    "print(benchmark(_convolve,(c1, c2), n_repeat=10000))"
   ]
  },
  {
   "cell_type": "markdown",
   "metadata": {},
   "source": [
    "### with  really really small numbers, we remove them for numerical stability"
   ]
  },
  {
   "cell_type": "code",
   "execution_count": null,
   "metadata": {},
   "outputs": [
    {
     "name": "stdout",
     "output_type": "stream",
     "text": [
      "[1.e+000 4.e+000 5.e+000 2.e+000 2.e-010 1.e-110]\n",
      "[1.e+00 4.e+00 5.e+00 2.e+00 2.e-10]\n",
      "polymul             :    CPU:    23.640 us   +/- 13.134 (min:    15.700 / max:   468.000) us     GPU-0:    47.279 us   +/- 95.862 (min:     2.240 / max:  2410.752) us\n",
      "njit_polymul        :    CPU:     9.897 us   +/-  3.970 (min:     7.000 / max:    80.800) us     GPU-0:    28.722 us   +/- 48.947 (min:     2.240 / max:  1361.376) us\n",
      "_convolve           :    CPU:     8.492 us   +/-  6.492 (min:     4.900 / max:   269.900) us     GPU-0:    27.398 us   +/- 55.512 (min:     2.272 / max:  1637.280) us\n"
     ]
    }
   ],
   "source": [
    "p1 = np.array([1.0, 2, 1, 1e-10])  \n",
    "p2 = np.array([1.0, 2, 1e-100])  \n",
    "print(P.polymul(p1, p2))\n",
    "print(_convolve(p1, p2))\n",
    "\n",
    "print(benchmark(P.polymul, (p1, p2), n_repeat=10000))\n",
    "print(benchmark(njit_polymul, (p1, p2), n_repeat=10000))\n",
    "print(benchmark(_convolve,(p1, p2), n_repeat=10000))"
   ]
  },
  {
   "cell_type": "markdown",
   "metadata": {},
   "source": [
    "## Optimising Sub: polysub"
   ]
  },
  {
   "cell_type": "code",
   "execution_count": null,
   "metadata": {},
   "outputs": [
    {
     "name": "stdout",
     "output_type": "stream",
     "text": [
      "[0. 0. 1.]\n",
      "_poly_sub           :    CPU:     7.853 us   +/-  6.982 (min:     4.300 / max:   234.900) us     GPU-0:    32.863 us   +/- 46.641 (min:     0.480 / max:  1910.784) us\n",
      "polysub             :    CPU:    31.330 us   +/- 15.651 (min:    24.200 / max:  1260.900) us     GPU-0:    55.758 us   +/- 25.487 (min:     0.480 / max:  1412.096) us\n"
     ]
    }
   ],
   "source": [
    "from indirect_identification.tf_methods.fast_tfs_methods_fast_math import _poly_sub\n",
    "print(_poly_sub(p1, p2))\n",
    "print(P.polysub(p1,p2))\n",
    "print(benchmark(_poly_sub, (c1, c2)))\n",
    "print(benchmark(P.polysub, (c1, c2)))"
   ]
  },
  {
   "cell_type": "markdown",
   "metadata": {},
   "source": [
    "## simplifying polynomial fractions"
   ]
  },
  {
   "cell_type": "markdown",
   "metadata": {},
   "source": [
    "simplifying fractions using polydiv"
   ]
  },
  {
   "cell_type": "code",
   "execution_count": null,
   "metadata": {},
   "outputs": [],
   "source": [
    "import numpy as np\n",
    "import sympy as sp\n",
    "from numpy.polynomial.polynomial import polydiv\n",
    "from numpy.polynomial.polyutils import trimseq\n",
    "\n",
    "\n",
    "@njit\n",
    "def gcd_polynomials(p1: np.ndarray, p2: np.ndarray, tol: float = _epsilon):\n",
    "    \"\"\"Compute the GCD of two polynomials using the Euclidean algorithm with numerical stability.\"\"\"\n",
    "    p1, p2 = _simplify(p1, p2)\n",
    "    while np.any(np.abs(p2) > tol):  # Ensure small values don't cause infinite loops\n",
    "        _, remainder = polydiv(p1, p2)\n",
    "        p1, p2 = p2, trimseq(remainder)  # Trim leading zeros using trimseq\n",
    "    return trimseq(p1)  # Trim leading zeros\n",
    "\n",
    "@njit\n",
    "def reduce_fraction_numpy(num: np.ndarray, den: np.ndarray, tol: float = _epsilon):\n",
    "    \"\"\"Reduce a polynomial fraction by dividing by the GCD.\"\"\"\n",
    "    gcd = gcd_polynomials(num, den)  # Compute GCD\n",
    "    if np.all(np.abs(gcd) < tol):  # If GCD is too small, return the original fraction\n",
    "        return num, den\n",
    "    # Perform polynomial division\n",
    "    num_reduced, _ = polydiv(num, gcd)\n",
    "    den_reduced, _ = polydiv(den, gcd)\n",
    "\n",
    "    # ensure the first number is 1\n",
    "    gcd = den_reduced[np.argmax(den != 0)]\n",
    "    num_reduced = num_reduced / gcd\n",
    "    den_reduced = den_reduced / gcd\n",
    "    return _simplify(num_reduced, den_reduced)\n",
    "\n",
    "\n",
    "def factorize_and_simplify(num: np.ndarray, den: np.ndarray):\n",
    "    x = sp.Symbol('x')  # Define symbolic variable\n",
    "    \n",
    "    # Convert numpy arrays to sympy polynomials\n",
    "    num_poly = sp.Poly(num.tolist(), x)\n",
    "    den_poly = sp.Poly(den.tolist(), x)\n",
    "\n",
    "    # Factorize the numerator and denominator\n",
    "    num_factored = sp.factor(num_poly)\n",
    "    den_factored = sp.factor(den_poly)\n",
    "\n",
    "    # Simplify by canceling common factors\n",
    "    simplified_expr = sp.simplify(num_factored / den_factored)\n",
    "\n",
    "    # Get simplified numerator and denominator\n",
    "    simplified_num, simplified_den = sp.fraction(simplified_expr)\n",
    "\n",
    "    # Convert back to numpy arrays\n",
    "    num_coeffs = np.array(sp.Poly(simplified_num, x).all_coeffs(), dtype=float)\n",
    "    den_coeffs = np.array(sp.Poly(simplified_den, x).all_coeffs(), dtype=float)\n",
    "\n",
    "    return num_coeffs, den_coeffs, simplified_expr\n",
    "\n",
    "\n"
   ]
  },
  {
   "cell_type": "code",
   "execution_count": null,
   "metadata": {},
   "outputs": [
    {
     "name": "stdout",
     "output_type": "stream",
     "text": [
      "Simplified Numerator: [0.33007813 0.359375   0.125     ]\n",
      "Simplified Denominator: [ 1.00000000e+00 -1.56249999e-10  1.25000000e-09]\n",
      "Simplified Numerator: [1. 3. 3. 1.]\n",
      "Simplified Denominator: [1.e+00 8.e+00 0.e+00 1.e-08]\n",
      "Simplified exp: (1.0*x**3 + 3.0*x**2 + 3.0*x + 1.0)/(1.0*x**3 + 8.0*x**2 + 1.0e-8)\n",
      "reduce_fraction_numpy:    CPU:    23.063 us   +/-  7.036 (min:    14.800 / max:   115.600) us     GPU-0:    45.030 us   +/- 55.069 (min:     2.336 / max:  1175.456) us\n"
     ]
    }
   ],
   "source": [
    "# Example: Reduce (x^3 + 3x^2 + 3x + 1) / (x^2 + 2x + 1)\n",
    "num = np.array([1.0, 3.0, 3.0, 1.0])  \n",
    "den = np.array([1.0, 8, 1e-30, 1e-8])   \n",
    "\n",
    "simplified_num, simplified_den = reduce_fraction_numpy(num, den)\n",
    "\n",
    "print(\"Simplified Numerator:\", simplified_num)\n",
    "print(\"Simplified Denominator:\", simplified_den)\n",
    "\n",
    "simplified_num, simplified_den, exp = factorize_and_simplify(num, den)\n",
    "\n",
    "print(\"Simplified Numerator:\", simplified_num)\n",
    "print(\"Simplified Denominator:\", simplified_den)\n",
    "print(\"Simplified exp:\", exp)\n",
    "\n",
    "\n",
    "print(benchmark(reduce_fraction_numpy, (num, den), n_repeat=10000))\n"
   ]
  },
  {
   "cell_type": "markdown",
   "metadata": {},
   "source": [
    "Also need to factorise, implementing ctrl.minreal using numba"
   ]
  },
  {
   "cell_type": "code",
   "execution_count": null,
   "metadata": {},
   "outputs": [],
   "source": [
    "import numpy as np\n",
    "\n",
    "@njit\n",
    "def poly_divide(a, b):\n",
    "    \"\"\"Divide polynomial a(x) by b(x), return quotient and remainder.\"\"\"\n",
    "    quotient, remainder = polydiv(a, b)\n",
    "    quotient, remainder = _simplify(quotient, remainder)\n",
    "    return quotient, remainder\n",
    "\n",
    "@njit\n",
    "def poly_sub(p, q):\n",
    "    \"\"\"Subtract p-q\"\"\"\n",
    "    p,q = _ensure_same_size(p, q)\n",
    "    return p-q\n",
    "\n",
    "@njit\n",
    "def eGCD(f, g, tolerance=_epsilon):\n",
    "    \"\"\"Compute the GCD of two polynomials and the coefficients u(x) and v(x).\"\"\"\n",
    "\n",
    "    # Initialize u(x) and v(x)\n",
    "    u0, v0 = np.array([1.0]), np.array([0.0])\n",
    "    u1, v1 = np.array([0.0]), np.array([1.0])\n",
    "\n",
    "    while np.any(np.abs(g) > tolerance):\n",
    "        q, r = poly_divide(f, g)\n",
    "\n",
    "        f, g = g, r  # Update for next iteration\n",
    "        if np.all(np.abs(g) < tolerance):\n",
    "            g = np.zeros_like(g)\n",
    "\n",
    "        # Update u and v\n",
    "        u2 = poly_sub(u0, np.convolve(q, u1))\n",
    "        v2 = poly_sub(v0, np.convolve(q, v1))\n",
    "\n",
    "        u2, _ = _ensure_same_size(u2, u0)\n",
    "        v2, _ = _ensure_same_size(v2, v0)\n",
    "\n",
    "        # Ensure correct sizes\n",
    "        u0, u1 = u1, u2\n",
    "        v0, v1= v1, v2\n",
    "\n",
    "    gcd = f  # The remaining f is the GCD\n",
    "    return gcd, u0, v0\n",
    "\n",
    "@njit\n",
    "def reduce_fraction_numpy(num: np.ndarray, den: np.ndarray, tol: float = _epsilon):\n",
    "    \"\"\"Reduce a polynomial fraction by dividing by the GCD.\"\"\"\n",
    "    gcd, _, _ = eGCD(num, den)  # Compute GCD\n",
    "    if np.all(np.abs(gcd) < tol):  # If GCD is too small, return the original fraction\n",
    "        return num, den\n",
    "    # Perform polynomial division\n",
    "    num_reduced, _ = polydiv(num, gcd)\n",
    "    den_reduced, _ = polydiv(den, gcd)\n",
    "\n",
    "    # ensure the first number is 1\n",
    "    gcd = den_reduced[np.argmax(den != 0)]\n",
    "    num_reduced = num_reduced / gcd\n",
    "    den_reduced = den_reduced / gcd\n",
    "    return _simplify(num_reduced, den_reduced)\n"
   ]
  },
  {
   "cell_type": "code",
   "execution_count": null,
   "metadata": {},
   "outputs": [
    {
     "name": "stdout",
     "output_type": "stream",
     "text": [
      "(array([ 1., -3.,  3.,  1.]), array([1.e+00, 8.e+00, 1.e+01, 1.e-08]))\n",
      "reduce_fraction_numpy:    CPU:    45.610 us   +/- 17.232 (min:    22.500 / max:  1298.200) us     GPU-0:    69.800 us   +/- 68.484 (min:     0.448 / max:  6967.200) us\n",
      "minimal_realization :    CPU:   432.374 us   +/- 209.217 (min:   237.000 / max: 21259.400) us     GPU-0:   478.906 us   +/- 293.799 (min:     2.208 / max: 21988.001) us\n"
     ]
    }
   ],
   "source": [
    "import control as ctrl\n",
    "# Example usage:\n",
    "num = np.array([1.0, -3.0, 3.0, 1.0])  # f(x) = x^3 + 3x^2 + 3x + 1\n",
    "den = np.array([1.0, 8, 10, 1e-8])         # g(x) = x^2 + 8x + 1e-30\n",
    "sys = ctrl.tf(num, den)\n",
    "print(reduce_fraction_numpy(num, den))\n",
    "\n",
    "print(benchmark(reduce_fraction_numpy, (num, den), n_repeat=100000))\n",
    "print(benchmark(ctrl.minreal, (sys, 1e-10, False), n_repeat=100000))"
   ]
  },
  {
   "cell_type": "markdown",
   "metadata": {},
   "source": [
    "## Implementing lfilter using numba and benchmarking"
   ]
  },
  {
   "cell_type": "code",
   "execution_count": null,
   "metadata": {},
   "outputs": [
    {
     "name": "stdout",
     "output_type": "stream",
     "text": [
      "Mean Absolute Error between SciPy and Numba: 4.210540e-17\n"
     ]
    },
    {
     "data": {
      "image/png": "[encoded data removed]",
      "text/plain": [
       "<Figure size 1000x400 with 1 Axes>"
      ]
     },
     "metadata": {},
     "output_type": "display_data"
    },
    {
     "name": "stdout",
     "output_type": "stream",
     "text": [
      "SciPy lfilter time: 0.000000 seconds\n",
      "Numba-optimized filter time: 0.350239 seconds\n",
      "Speedup factor: 0.00x\n"
     ]
    }
   ],
   "source": [
    "import numpy as np\n",
    "import numba\n",
    "import time\n",
    "import matplotlib.pyplot as plt\n",
    "from scipy.signal import lfilter\n",
    "\n",
    "@numba.jit(nopython=True, fastmath=True)\n",
    "def iir_filter_numba(x, num, den):\n",
    "    \"\"\"\n",
    "    Optimized IIR filter using convolution for FIR part and Numba JIT for recursion.\n",
    "    \"\"\"\n",
    "    N = len(x)\n",
    "    y = np.convolve(x, num, mode='full')[:N]  # Apply FIR part\n",
    "\n",
    "    den = den / den[0]  # Normalize denominator coefficients\n",
    "\n",
    "    for n in range(1, N):  \n",
    "        for k in range(1, len(den)):\n",
    "            if n - k >= 0:\n",
    "                y[n] -= den[k] * y[n - k]\n",
    "\n",
    "    return y\n",
    "\n",
    "# Define filter coefficients\n",
    "num = np.array([0.1, 0.2, 0.3])  # Numerator coefficients\n",
    "den = np.array([1.0, -0.4, 0.1])  # Denominator coefficients\n",
    "\n",
    "# Generate test input signal\n",
    "x = np.sin(np.linspace(0, 100, 10**6))  # Large signal (1 million samples)\n",
    "\n",
    "# Apply filters\n",
    "y_scipy = lfilter(num, den, x)\n",
    "y_numba = iir_filter_numba(x, num, den)\n",
    "\n",
    "# --- VALIDATION ---\n",
    "# Compute Mean Absolute Error (MAE)\n",
    "mae = np.mean(np.abs(y_scipy - y_numba))\n",
    "print(f\"Mean Absolute Error between SciPy and Numba: {mae:.6e}\")\n",
    "\n",
    "# Plot the first 200 samples for visual comparison\n",
    "plt.figure(figsize=(10, 4))\n",
    "plt.plot(y_scipy[:200], label=\"SciPy lfilter\", linestyle='dashed', color='b')\n",
    "plt.plot(y_numba[:200], label=\"Numba Optimized\", linestyle='solid', color='r', alpha=0.7)\n",
    "plt.legend()\n",
    "plt.title(\"Comparison of SciPy vs Numba Filter Output (First 200 samples)\")\n",
    "plt.xlabel(\"Sample Index\")\n",
    "plt.ylabel(\"Filtered Value\")\n",
    "plt.grid(True)\n",
    "plt.show()\n",
    "\n",
    "# --- BENCHMARKING ---\n",
    "# Time SciPy implementation\n",
    "start_scipy = time.time()\n",
    "y_scipy = lfilter(num, den, x)\n",
    "end_scipy = time.time()\n",
    "\n",
    "# Time Numba implementation\n",
    "start_numba = time.time()\n",
    "y_numba = iir_filter_numba(x, num, den)  # Second run actual timing\n",
    "end_numba = time.time()\n",
    "\n",
    "# Print timing results\n",
    "print(f\"SciPy lfilter time: {end_scipy - start_scipy:.6f} seconds\")\n",
    "print(f\"Numba-optimized filter time: {end_numba - start_numba:.6f} seconds\")\n",
    "print(f\"Speedup factor: {(end_scipy - start_scipy) / (end_numba - start_numba):.2f}x\")\n"
   ]
  },
  {
   "cell_type": "markdown",
   "metadata": {},
   "source": [
    "optimising numba implementation"
   ]
  },
  {
   "cell_type": "code",
   "execution_count": null,
   "metadata": {},
   "outputs": [
    {
     "name": "stdout",
     "output_type": "stream",
     "text": [
      "Mean Absolute Error between SciPy and Numba: 4.434926e-17\n"
     ]
    },
    {
     "data": {
      "image/png": "[encoded data removed]",
      "text/plain": [
       "<Figure size 1000x400 with 1 Axes>"
      ]
     },
     "metadata": {},
     "output_type": "display_data"
    },
    {
     "name": "stdout",
     "output_type": "stream",
     "text": [
      "lfilter             :    CPU:  8546.250 us   +/- 2289.837 (min:  6414.200 / max: 13666.300) us     GPU-0:  9214.368 us   +/- 2614.430 (min:  6535.616 / max: 14838.112) us\n",
      "iir_filter_numba    :    CPU:  8638.210 us   +/- 1426.707 (min:  6933.400 / max: 11416.400) us     GPU-0:  9443.082 us   +/- 1535.223 (min:  6639.840 / max: 12329.088) us\n"
     ]
    }
   ],
   "source": [
    "\n",
    "\n",
    "@numba.jit(nopython=True, fastmath=True, parallel=False)\n",
    "def iir_filter_numba(num, den, x):\n",
    "    \"\"\"\n",
    "    Implements a digital filter using direct form difference equation.\n",
    "    \n",
    "    Parameters:\n",
    "        num (numpy array): Numerator coefficients\n",
    "        den (numpy array): Denominator coefficients (assumes den[0] != 0)\n",
    "        x (numpy array): Input time series\n",
    "\n",
    "    Returns:\n",
    "        numpy array: Filtered output\n",
    "    \"\"\"\n",
    "    N = len(x)\n",
    "    M = len(num)\n",
    "    K = len(den)\n",
    "    \n",
    "    y = np.zeros(N)  # Initialize output array\n",
    "    \n",
    "    # Normalize by den[0] (typically should be 1, but just in case)\n",
    "    num = num / den[0]\n",
    "    den = den / den[0]\n",
    "\n",
    "    # Apply filter using the difference equation\n",
    "    for n in range(N):\n",
    "        # Apply numerator (FIR part)\n",
    "        for m in range(M):\n",
    "            if n - m >= 0:\n",
    "                y[n] += num[m] * x[n - m]\n",
    "        \n",
    "        # Apply denominator (IIR part)\n",
    "        for k in range(1, K):  # Start from 1 because den[0] is already normalized\n",
    "            if n - k >= 0:\n",
    "                y[n] -= den[k] * y[n - k]\n",
    "\n",
    "    return y\n",
    "\n",
    "\n",
    "@numba.jit(nopython=True, fastmath=True, parallel=True)\n",
    "def iir_filter_numba2(num, den, x):\n",
    "    \"\"\"\n",
    "    Optimized IIR filter using convolution for FIR part and Numba JIT for recursion.\n",
    "    \"\"\"\n",
    "    N = len(x)\n",
    "    y = np.convolve(x, num, mode='full')[:N]  # Apply FIR part\n",
    "\n",
    "    den = den / den[0]  # Normalize denominator coefficients\n",
    "\n",
    "    for n in range(1, N):  \n",
    "        for k in range(1, len(den)):\n",
    "            if n - k >= 0:\n",
    "                y[n] -= den[k] * y[n - k]\n",
    "\n",
    "    return y\n",
    "\n",
    "# Define filter coefficients\n",
    "num = np.array([0.1, 0.2, 0.3])  # Numerator coefficients\n",
    "den = np.array([1.0, -0.4, 0.1])  # Denominator coefficients\n",
    "\n",
    "# Generate test input signal\n",
    "x = np.sin(np.linspace(0, 100, 10**6))  # Large signal (1 million samples)\n",
    "\n",
    "# Apply filters\n",
    "y_scipy = lfilter(num, den, x)\n",
    "y_numba = iir_filter_numba(num, den, x)\n",
    "\n",
    "# --- VALIDATION ---\n",
    "# Compute Mean Absolute Error (MAE)\n",
    "mae = np.mean(np.abs(y_scipy - y_numba))\n",
    "print(f\"Mean Absolute Error between SciPy and Numba: {mae:.6e}\")\n",
    "\n",
    "# Plot the first 200 samples for visual comparison\n",
    "plt.figure(figsize=(10, 4))\n",
    "plt.plot(y_scipy[:200], label=\"SciPy lfilter\", linestyle='dashed', color='b')\n",
    "plt.plot(y_numba[:200], label=\"Numba Optimized\", linestyle='solid', color='r', alpha=0.7)\n",
    "plt.legend()\n",
    "plt.title(\"Comparison of SciPy vs Numba Filter Output (First 200 samples)\")\n",
    "plt.xlabel(\"Sample Index\")\n",
    "plt.ylabel(\"Filtered Value\")\n",
    "plt.grid(True)\n",
    "plt.show()\n",
    "\n",
    "\n",
    "# Benchmark SciPy\n",
    "print(benchmark(lfilter, (num, den, x), n_repeat=100))\n",
    "print(benchmark(iir_filter_numba, (num, den, x), n_repeat=100))"
   ]
  },
  {
   "cell_type": "markdown",
   "metadata": {},
   "source": [
    "### benchmark against lfilter\n",
    "clearly lfilter is superior so use that\n"
   ]
  },
  {
   "cell_type": "code",
   "execution_count": null,
   "metadata": {},
   "outputs": [
    {
     "name": "stdout",
     "output_type": "stream",
     "text": [
      "lfilter             :    CPU: 10054.169 us   +/- 1998.901 (min:  6843.300 / max: 16946.000) us     GPU-0: 10634.029 us   +/- 2108.193 (min:  6161.728 / max: 17798.559) us\n",
      "iir_filter_numba    :    CPU: 10004.841 us   +/- 2192.192 (min:  6192.200 / max: 24186.600) us     GPU-0: 10573.682 us   +/- 2246.100 (min:  5914.752 / max: 25177.631) us\n",
      "iir_filter_numba2   :    CPU: 344328.130 us   +/- 37970.271 (min: 291745.700 / max: 413547.000) us     GPU-0: 345082.706 us   +/- 37977.744 (min: 292383.667 / max: 414199.585) us\n"
     ]
    }
   ],
   "source": [
    "# Benchmark SciPy\n",
    "print(benchmark(lfilter, (num, den, x), n_repeat=1000, n_warmup=10))\n",
    "print(benchmark(iir_filter_numba, (num, den, x), n_repeat=1000, n_warmup=10))\n",
    "print(benchmark(iir_filter_numba2, (num, den, x), n_repeat=10, n_warmup=10))"
   ]
  },
  {
   "cell_type": "markdown",
   "metadata": {},
   "source": [
    "## Mtrix operations with d_tfs"
   ]
  },
  {
   "cell_type": "code",
   "execution_count": 4,
   "metadata": {},
   "outputs": [
    {
     "name": "stdout",
     "output_type": "stream",
     "text": [
      "[[Transfer Function: num=[0.   0.22], den=[1. 0.]\n",
      "  Transfer Function: num=[1.   0.15], den=[1. 0.]]\n",
      " [Transfer Function: num=[0.31 0.23], den=[1. 0.]\n",
      "  Transfer Function: num=[0.   0.22], den=[1. 0.]]]\n"
     ]
    }
   ],
   "source": [
    "from indirect_identification.d_tfs import d_tfs\n",
    "import numpy as np\n",
    "import numba as nb\n",
    "\n",
    "# Define the coefficients of the transfer functions\n",
    "A = [1, -0.33]  # A(z^-1) = 1 - 0.33z^-1\n",
    "B = [0, 0.22]   # B(z^-1) = 0.22z^-1\n",
    "C = [1, 0.15]   # C(z^-1) = 1 + 0.15z^-1\n",
    "D = [0.31, 0.23]  # D(z^-1)\n",
    "\n",
    "# Define transfer functions using the control library\n",
    "A_tf = d_tfs((A, [1, 0]))\n",
    "B_tf = d_tfs((B, [1, 0]))\n",
    "C_tf = d_tfs((C, [1, 0]))\n",
    "D_tf = d_tfs((D, [1, 0]))\n",
    "\n",
    "# Create a system matrix G (2x2 matrix of transfer functions)\n",
    "G = np.array([[B_tf, C_tf],\n",
    "              [D_tf, B_tf]])\n",
    "print(G)"
   ]
  },
  {
   "cell_type": "markdown",
   "metadata": {},
   "source": [
    "### stability checks\n",
    "faster with just njit, fastmath leads to some unexpected delays. "
   ]
  },
  {
   "cell_type": "code",
   "execution_count": 12,
   "metadata": {},
   "outputs": [
    {
     "name": "stdout",
     "output_type": "stream",
     "text": [
      "is_stable           :    CPU:    47.677 us   +/- 16.207 (min:    27.400 / max:  1415.800) us     GPU-0:    93.802 us   +/- 351.228 (min:     2.048 / max: 12115.040) us\n",
      "is_stable_2         :    CPU:     3.055 us   +/-  3.344 (min:     1.600 / max:   395.700) us     GPU-0:    24.524 us   +/- 131.148 (min:     2.016 / max:  7612.256) us\n",
      "is_stable_3         :    CPU:     3.024 us   +/-  2.066 (min:     1.800 / max:    69.900) us     GPU-0:    24.296 us   +/- 114.028 (min:     2.016 / max:  7485.568) us\n"
     ]
    }
   ],
   "source": [
    "from cupyx.profiler import benchmark\n",
    "def is_stable(den, epsilon=0.001) -> bool:   \n",
    "    \"\"\"\n",
    "    Check if the discrete transfer function is stable.\n",
    "    Returns:\n",
    "    bool: True if stable (all poles inside the unit circle), False otherwise.\n",
    "    \"\"\"\n",
    "    poles = np.roots(den)  # Compute poles (roots of denominator)\n",
    "    return np.all(np.abs(poles) < 1-epsilon)  # Check if all poles are inside the unit circle\n",
    "\n",
    "@nb.jit(nopython=True, fastmath=True)\n",
    "def is_stable_2(den: np.ndarray, epsilon: float = 0.001) -> bool:   \n",
    "    \"\"\"\n",
    "    Check if the discrete transfer function is stable.\n",
    "    Returns:\n",
    "    bool: True if stable (all poles inside the unit circle), False otherwise.\n",
    "    \"\"\"\n",
    "    poles = np.roots(den)  # Compute poles (roots of denominator)\n",
    "    return np.all(np.abs(poles) < 1-epsilon)  # Check if all poles are inside the unit circle\n",
    "\n",
    "@nb.njit\n",
    "def is_stable_3(den: np.ndarray, epsilon: float = 0.001) -> bool:   \n",
    "    \"\"\"\n",
    "    Check if the discrete transfer function is stable.\n",
    "    Returns:\n",
    "    bool: True if stable (all poles inside the unit circle), False otherwise.\n",
    "    \"\"\"\n",
    "    poles = np.roots(den)  # Compute poles (roots of denominator)\n",
    "    return np.all(np.abs(poles) < 1-epsilon)  # Check if all poles are inside the unit circle\n",
    "\n",
    "print(benchmark(is_stable, (A_tf.den, 0.001), n_repeat=100000))\n",
    "print(benchmark(is_stable_2, (A_tf.den, 0.001), n_repeat=100000))\n",
    "print(benchmark(is_stable_3, (A_tf.den, 0.001), n_repeat=100000))"
   ]
  },
  {
   "cell_type": "markdown",
   "metadata": {},
   "source": [
    "### matrix operations, add, matrix mult, elementiwise mults"
   ]
  },
  {
   "cell_type": "code",
   "execution_count": 13,
   "metadata": {},
   "outputs": [
    {
     "name": "stdout",
     "output_type": "stream",
     "text": [
      "[[Transfer Function: num=[0.   0.22], den=[1. 0.]\n",
      "  Transfer Function: num=[0. 0.], den=[1. 0.]]\n",
      " [Transfer Function: num=[0. 0.], den=[1. 0.]\n",
      "  Transfer Function: num=[0.   0.22], den=[1. 0.]]] (2, 2)\n",
      "[[Transfer Function: num=[0.   0.22], den=[1.]\n",
      "  Transfer Function: num=[1.   0.15], den=[1.]]\n",
      " [Transfer Function: num=[0.31 0.23], den=[1.]\n",
      "  Transfer Function: num=[0.   0.22], den=[1.]]] (2, 2)\n",
      "[Transfer Function: num=[1.   0.37], den=[1.]\n",
      " Transfer Function: num=[0.31 0.45], den=[1.]] (2,)\n",
      "Transfer Function: num=[1.   0.37], den=[1.] Transfer Function: num=[0.31 0.45], den=[1.]\n"
     ]
    }
   ],
   "source": [
    "# elementwise mult\n",
    "print(G*np.eye(G.shape[0]), (G*np.eye(G.shape[0])).shape)\n",
    "# matrix mults\n",
    "    # mult with 2x2\n",
    "print(G @ np.eye(2), (G @ np.eye(2)).shape)\n",
    "    # mult with 2x1, should result in 2x1\n",
    "print(G @ np.array([1, 1]), (G @ np.array([1,1])).shape)\n",
    "    # should be same as row sums \n",
    "print(B_tf + C_tf, D_tf + B_tf)"
   ]
  },
  {
   "cell_type": "code",
   "execution_count": null,
   "metadata": {},
   "outputs": [
    {
     "name": "stdout",
     "output_type": "stream",
     "text": [
      "u_t:  [[0.06938647 0.36718085 0.73143485 0.21070124 0.66267288 0.72865944\n",
      "  0.12371095 0.70269296 0.35754918 0.6404709 ]\n",
      " [0.07433697 0.64361441 0.3559575  0.80766744 0.68092529 0.798897\n",
      "  0.29548275 0.64736444 0.83299342 0.04451566]]\n",
      "[[0.07434381 0.67007091 0.53337284 1.0220383  0.84848666 1.04693089\n",
      "  0.57566522 0.71895807 1.08477006 0.24818985]\n",
      " [0.02151948 0.1462222  0.45290679 0.31197051 0.43171706 0.52825356\n",
      "  0.38178828 0.31138207 0.41503177 0.46411705]]\n",
      "True\n",
      "apply_tf_matrix     :    CPU:   163.204 us   +/- 193.661 (min:    87.800 / max: 35211.900) us     GPU-0:   250.977 us   +/- 652.309 (min:     2.208 / max: 43997.410) us\n",
      "apply_tf_matrix_2   :    CPU:   157.846 us   +/- 83.909 (min:   101.200 / max:  6053.500) us     GPU-0:   248.812 us   +/- 637.974 (min:     2.208 / max: 13008.960) us\n"
     ]
    }
   ],
   "source": [
    "u_t = np.random.random((2, 10))\n",
    "print(\"u_t: \", u_t)\n",
    "\n",
    "# similar performance for both ways\n",
    "def apply_tf_matrix(G, U):\n",
    "    m, n = G.shape\n",
    "    k = U.shape[1]\n",
    "    Y = np.zeros((m, k))\n",
    "\n",
    "    for i in range(m):\n",
    "        for j in range(n):\n",
    "            Y[i, :] += G[i, j] * U[j, :] \n",
    "    return Y\n",
    "\n",
    "def apply_tf_matrix_2(G, U):\n",
    "    m, n = G.shape\n",
    "    k = U.shape[1]\n",
    "    Y = np.zeros((m, k))\n",
    "    # Vectorized summation instead of explicit loop accumulation\n",
    "    for i in range(m):\n",
    "        Y[i, :] = sum([G[i, j]*(U[j, :]) for j in range(n)])\n",
    "    return Y\n",
    "Y=apply_tf_matrix(G,u_t)\n",
    "print(Y)\n",
    "print(np.allclose((G[0,0]*u_t[0,:] + G[0,1]*u_t[1,:]), Y[0]))\n",
    "print(benchmark(apply_tf_matrix, (G, u_t), n_repeat=50000))\n",
    "print(benchmark(apply_tf_matrix_2, (G, u_t), n_repeat=50000))"
   ]
  },
  {
   "cell_type": "code",
   "execution_count": null,
   "metadata": {},
   "outputs": [
    {
     "data": {
      "text/plain": [
       "array([[Transfer Function: num=[5.47038286e-01 1.76332720e-01 2.17572473e-05], den=[1.00000000e+00 2.52672527e-04 1.41878723e-08],\n",
       "        Transfer Function: num=[4.19252098e-01 2.79031386e-01 2.87931707e-05], den=[1.00000000e+00 2.52672527e-04 1.41878723e-08],\n",
       "        Transfer Function: num=[6.45982321e-01 2.72300150e-01 3.10888090e-05], den=[1.00000000e+00 2.52672527e-04 1.41878723e-08],\n",
       "        Transfer Function: num=[2.49215599e-01 7.95283464e-02 9.84429150e-06], den=[1.00000000e+00 2.52672527e-04 1.41878723e-08],\n",
       "        Transfer Function: num=[4.99922045e-01 1.92322754e-01 2.25090677e-05], den=[1.00000000e+00 2.52672527e-04 1.41878723e-08],\n",
       "        Transfer Function: num=[2.91838306e-01 1.78211707e-01 1.86935136e-05], den=[1.00000000e+00 2.52672527e-04 1.41878723e-08],\n",
       "        Transfer Function: num=[9.68972936e-01 1.62040468e-01 2.58806167e-05], den=[1.00000000e+00 2.52672527e-04 1.41878723e-08],\n",
       "        Transfer Function: num=[4.97031570e-01 2.87281961e-01 3.04700236e-05], den=[1.00000000e+00 2.52672527e-04 1.41878723e-08],\n",
       "        Transfer Function: num=[7.08102466e-01 2.11930985e-01 2.67888144e-05], den=[1.00000000e+00 2.52672527e-04 1.41878723e-08],\n",
       "        Transfer Function: num=[6.92728660e-02 1.12076519e-01 1.03136585e-05], den=[1.00000000e+00 2.52672527e-04 1.41878723e-08]],\n",
       "       [Transfer Function: num=[1.32712852e-01 2.18832097e-01 2.67170779e-05], den=[1.00000000e+00 2.52670727e-04 1.41875692e-08],\n",
       "        Transfer Function: num=[3.04405038e-01 3.18123278e-01 4.58077980e-05], den=[1.00000000e+00 2.52670727e-04 1.41875692e-08],\n",
       "        Transfer Function: num=[2.46976034e-01 3.25389928e-01 4.28296423e-05], den=[1.00000000e+00 2.52670727e-04 1.41875692e-08],\n",
       "        Transfer Function: num=[5.93277622e-02 9.88534617e-02 1.20300232e-05], den=[1.00000000e+00 2.52670727e-04 1.41875692e-08],\n",
       "        Transfer Function: num=[1.65201342e-01 2.32574453e-01 2.99047486e-05], den=[1.00000000e+00 2.52670727e-04 1.41875692e-08],\n",
       "        Transfer Function: num=[1.89327140e-01 2.04697355e-01 2.90661509e-05], den=[1.00000000e+00 2.52670727e-04 1.41875692e-08],\n",
       "        Transfer Function: num=[2.33527465e-02 2.30509264e-01 2.08640091e-05], den=[1.00000000e+00 2.52670727e-04 1.41875692e-08],\n",
       "        Transfer Function: num=[2.99579315e-01 3.31654311e-01 4.66451848e-05], den=[1.00000000e+00 2.52670727e-04 1.41875692e-08],\n",
       "        Transfer Function: num=[1.48798851e-01 2.66203936e-01 3.17103616e-05], den=[1.00000000e+00 2.52670727e-04 1.41875692e-08],\n",
       "        Transfer Function: num=[1.43230255e-01 1.21525131e-01 1.91832286e-05], den=[1.00000000e+00 2.52670727e-04 1.41875692e-08]]],\n",
       "      dtype=object)"
      ]
     },
     "execution_count": 166,
     "metadata": {},
     "output_type": "execute_result"
    }
   ],
   "source": [
    "u_t = np.array([np.array(np.random.random((10, )), dtype=object), np.array(np.random.random((10, )), dtype=object)])"
   ]
  },
  {
   "cell_type": "markdown",
   "metadata": {},
   "source": [
    "The basics operations work as intended as the np uses operations defined in d_tfs, however we also require matrix inverse but np matrix inverse only works with numbers and not with a class object. "
   ]
  },
  {
   "cell_type": "markdown",
   "metadata": {},
   "source": [
    "## MIMO TF matrix inverse"
   ]
  },
  {
   "cell_type": "markdown",
   "metadata": {},
   "source": [
    "### Extending matrix inverse to d_tfs class"
   ]
  },
  {
   "cell_type": "markdown",
   "metadata": {},
   "source": [
    "earlier in [Optimising matrix inverse](#optimising-inverse-of-a-matrix-using-python-numba), we optimised the matrix inverse using LU decomposition and numba. Now we extend the implementation to take in d_tfs objects as well. "
   ]
  },
  {
   "cell_type": "markdown",
   "metadata": {},
   "source": [
    "### LU Decomp method"
   ]
  },
  {
   "cell_type": "code",
   "execution_count": 6,
   "metadata": {},
   "outputs": [
    {
     "name": "stdout",
     "output_type": "stream",
     "text": [
      "Inverse matrix:\n",
      "[[-1.94789361  2.20677122]\n",
      " [ 2.72357805 -1.59433241]]\n",
      "Matrix inversion took 2.688605 seconds\n",
      "Verification (should be close to identity matrix):\n",
      "[[1.00000000e+00 7.21438629e-17]\n",
      " [2.25180552e-16 1.00000000e+00]]\n",
      "invert_matrix       :    CPU:     8.453 us   +/-  7.558 (min:     5.000 / max:   134.100) us     GPU-0:    28.293 us   +/- 27.319 (min:     2.368 / max:  1163.072) us\n",
      "inv                 :    CPU:    98.228 us   +/- 33.048 (min:    53.900 / max:  1171.600) us     GPU-0:   145.855 us   +/- 42.354 (min:    79.264 / max:  1380.288) us\n"
     ]
    }
   ],
   "source": [
    "import numpy as np\n",
    "import numba as nb\n",
    "import time\n",
    "from cupyx.profiler import benchmark\n",
    "\n",
    "@nb.jit(nopython=True, fastmath=True)\n",
    "def lu_decomposition(A):\n",
    "    n = A.shape[0]\n",
    "    L = np.eye(n)\n",
    "    U = A.copy()\n",
    "\n",
    "    for i in range(n):\n",
    "        for j in range(i + 1, n):\n",
    "            # print(\"lu_decomposition: U[j,i], U[i, i]: \", U[j,i], U[i,i])\n",
    "            factor = U[j, i] / U[i, i]\n",
    "            L[j, i] = factor\n",
    "            # print(U[i, i:])\n",
    "            U[j, i:] -= factor * U[i, i:]\n",
    "\n",
    "    # print(\"lu_decomposition: \", L, U)\n",
    "    return L, U\n",
    "\n",
    "@nb.jit(nopython=True, fastmath=True)\n",
    "def forward_substitution(L, b):\n",
    "    n = L.shape[0]\n",
    "    y = np.zeros_like(b)\n",
    "    for i in range(n):\n",
    "        y[i] = b[i] - np.dot(L[i, :i], y[:i])\n",
    "    return y\n",
    "\n",
    "@nb.jit(nopython=True, fastmath=True)\n",
    "def backward_substitution(U, y):\n",
    "    n = U.shape[0]\n",
    "    x = np.zeros_like(y)\n",
    "    for i in range(n - 1, -1, -1):\n",
    "        x[i] = (y[i] - np.dot(U[i, i + 1:], x[i + 1:])) / U[i, i]\n",
    "    return x\n",
    "\n",
    "@nb.jit(nopython=True, fastmath=True)\n",
    "def invert_matrix(A):\n",
    "    n = A.shape[0]\n",
    "    L, U = lu_decomposition(A)\n",
    "    inv_A = np.zeros_like(A)\n",
    "\n",
    "    for i in range(n):\n",
    "        e = np.zeros(n)\n",
    "        e[i] = 1\n",
    "        y = forward_substitution(L, e)\n",
    "        x = backward_substitution(U, y)\n",
    "        inv_A[:, i] = x\n",
    "\n",
    "    return inv_A\n",
    "\n",
    "# Define matrix size\n",
    "n = 2\n",
    "A = np.random.rand(n, n)  # Example random matrix\n",
    "\n",
    "# Benchmark the matrix inversion\n",
    "start_time = time.time()\n",
    "A_inv = invert_matrix(A)\n",
    "end_time = time.time()\n",
    "\n",
    "print(\"Inverse matrix:\")\n",
    "print(A_inv)\n",
    "print(f\"Matrix inversion took {end_time - start_time:.6f} seconds\")\n",
    "\n",
    "# Verify the inverse is correct\n",
    "identity = np.dot(A, A_inv)\n",
    "print(\"Verification (should be close to identity matrix):\")\n",
    "print(identity)\n",
    "np.testing.assert_allclose(np.eye(2), identity, atol=1e-10)\n",
    "\n",
    "print(benchmark(invert_matrix, (A, ), n_repeat=10000))\n",
    "print(benchmark(np.linalg.inv, (A, ), n_repeat=10000))\n",
    "\n"
   ]
  },
  {
   "cell_type": "markdown",
   "metadata": {},
   "source": [
    "### LU method inverse for d_fts"
   ]
  },
  {
   "cell_type": "code",
   "execution_count": null,
   "metadata": {},
   "outputs": [
    {
     "name": "stdout",
     "output_type": "stream",
     "text": [
      "[[Transfer Function: num=[0.   0.22], den=[1. 0.]\n",
      "  Transfer Function: num=[1.   0.15], den=[1. 0.]]\n",
      " [Transfer Function: num=[0.31 0.23], den=[1. 0.]\n",
      "  Transfer Function: num=[0.   0.22], den=[1. 0.]]]\n",
      "[[Transfer Function: num=[ 0.         -0.70967742], den=[ 1.          0.89193548 -0.04483871]\n",
      "  Transfer Function: num=[3.22580645 0.48387097], den=[ 1.          0.89193548 -0.04483871]]\n",
      " [Transfer Function: num=[1.         0.74193548], den=[ 1.          0.89193548 -0.04483871]\n",
      "  Transfer Function: num=[0. 1.], den=[-1.40909091 -1.25681818  0.06318182]]]\n",
      "Verification (should be close to identity matrix):\n",
      "G @ G_inv:  [[0.9999999999999998 0.0]\n",
      " [0.0 1.0]]\n",
      "True\n",
      "invert_matrix       :    CPU:   871.807 us   +/- 298.289 (min:   568.700 / max:  3536.500) us     GPU-0:   922.318 us   +/- 321.577 (min:   589.088 / max:  3660.032) us\n",
      "lu_decomposition    :    CPU:   263.753 us   +/- 94.497 (min:   166.300 / max:  1179.100) us     GPU-0:   300.445 us   +/- 108.298 (min:   184.928 / max:  1294.240) us\n"
     ]
    }
   ],
   "source": [
    "import numpy as np\n",
    "import numba as nb\n",
    "import time\n",
    "\n",
    "# @nb.jit(nopython=True)\n",
    "def lu_decomposition(A):\n",
    "    n = A.shape[0]\n",
    "    L = np.eye(n, dtype=type(A))\n",
    "    U = A.copy()\n",
    "\n",
    "    for i in range(n):\n",
    "        for j in range(i + 1, n):\n",
    "            # print(\"lu_decomposition: U[j,i], U[i, i]: \", U[j,i], U[i,i])\n",
    "            factor = U[j, i] / U[i, i]\n",
    "            L[j, i] = factor\n",
    "            U[j, i:] -= factor*U[i, i:]\n",
    "\n",
    "    # print(\"lu_decomposition: \", L, U)\n",
    "    return L, U\n",
    "\n",
    "# @nb.jit(nopython=True)\n",
    "# def fast_lu_decomposition(NUM, DEN):\n",
    "#     n = NUM.shape[0]\n",
    "#     L_n = np.eye()\n",
    "    \n",
    "\n",
    "# @nb.jit(nopython=True)\n",
    "def forward_substitution(L, b):\n",
    "    n = L.shape[0]\n",
    "    y = np.zeros_like(b, dtype=type(L))\n",
    "    for i in range(n):\n",
    "        y[i] = b[i] - np.dot(L[i, :i], y[:i])\n",
    "    return y\n",
    "\n",
    "# @nb.jit(nopython=True)\n",
    "def backward_substitution(U, y):\n",
    "    n = U.shape[0]\n",
    "    x = np.zeros_like(y, dtype=type(U))\n",
    "    for i in range(n - 1, -1, -1):\n",
    "        x[i] = (y[i] - np.dot(U[i, i + 1:], x[i + 1:])) / U[i, i]\n",
    "    return x\n",
    "\n",
    "# @nb.jit(nopython=True)\n",
    "def invert_matrix(A):\n",
    "    n = A.shape[0]\n",
    "    L, U = lu_decomposition(A)\n",
    "    inv_A = np.zeros_like(A)\n",
    "    # print(L,U)\n",
    "    # print(\"\")\n",
    "    for i in range(n):\n",
    "        e = np.zeros(n)\n",
    "        e[i] = 1\n",
    "        y = forward_substitution(L, e)\n",
    "        x = backward_substitution(U, y)\n",
    "        inv_A[:, i] = x\n",
    "    return inv_A\n",
    "\n",
    "G_inv = invert_matrix(G)\n",
    "\n",
    "print(G)\n",
    "print(G_inv)\n",
    "print(\"Verification (should be close to identity matrix):\")\n",
    "print(f\"G @ G_inv: \", G@G_inv)\n",
    "identity = np.array(G@G_inv, dtype=np.float64)\n",
    "print(np.allclose(np.eye(G.shape[0]), identity))\n",
    "# zeros = np.full_like(G, d_tfs((0, 1)))\n",
    "# print((np.eye(G.shape[0])-G@G_inv) == zeros)\n",
    "from cupyx.profiler import benchmark\n",
    "print(benchmark(invert_matrix, (G, ), n_repeat=10000))\n",
    "print(benchmark(lu_decomposition, (G, ), n_repeat=10000))"
   ]
  },
  {
   "cell_type": "markdown",
   "metadata": {},
   "source": [
    "### optimising LU method for numba"
   ]
  },
  {
   "cell_type": "code",
   "execution_count": 10,
   "metadata": {},
   "outputs": [
    {
     "name": "stdout",
     "output_type": "stream",
     "text": [
      "Numerator Array:\n",
      " [[[0.   0.22 2.  ]\n",
      "  [1.   0.15 0.  ]\n",
      "  [0.   0.22 2.  ]]\n",
      "\n",
      " [[0.31 0.23 0.  ]\n",
      "  [0.   0.22 2.  ]\n",
      "  [0.31 0.23 0.  ]]\n",
      "\n",
      " [[0.   0.22 2.  ]\n",
      "  [0.31 0.23 0.  ]\n",
      "  [0.   0.22 2.  ]]]\n",
      "Denominator Array:\n",
      " [[[1. 0. 0.]\n",
      "  [1. 0. 0.]\n",
      "  [1. 0. 0.]]\n",
      "\n",
      " [[1. 0. 0.]\n",
      "  [1. 0. 0.]\n",
      "  [1. 0. 0.]]\n",
      "\n",
      " [[1. 0. 0.]\n",
      "  [1. 0. 0.]\n",
      "  [1. 0. 0.]]]\n",
      "\n",
      "[[array([1.]), array([0.]), array([0.])], [array([0.]), array([1.]), array([0.])], [array([0.]), array([0.]), array([1.])]]\n",
      "create_identity_matrices:    CPU:    35.824 us   +/- 18.637 (min:    16.800 / max:   151.700) us     GPU-0:    61.054 us   +/- 28.672 (min:    26.560 / max:   278.176) us\n",
      "create_identity_matrices_2:    CPU:    37.859 us   +/- 19.654 (min:    16.500 / max:   199.400) us     GPU-0:    65.591 us   +/- 30.916 (min:    26.848 / max:   360.416) us\n"
     ]
    }
   ],
   "source": [
    "import numpy as np\n",
    "\n",
    "def extract_tf_matrices(G):\n",
    "    \"\"\"\n",
    "    Convert a matrix of transfer functions into arrays of numerators and denominators.\n",
    "    \n",
    "    :param G: 2D NumPy array of transfer functions.\n",
    "    :return: NUM, DEN (both 3D NumPy arrays with shape (m, n, p)).\n",
    "    \"\"\"\n",
    "    m, n = G.shape\n",
    "    max_order = 0  # To determine the largest polynomial order\n",
    "    \n",
    "    # First pass: Find the max polynomial order\n",
    "    for i in range(m):\n",
    "        for j in range(n):\n",
    "            num, den = G[i, j].num,  G[i, j].den\n",
    "            max_order = max(max_order, len(num), len(den))\n",
    "\n",
    "    # Second pass: Allocate arrays with zero-padding\n",
    "    NUM = np.zeros((m, n, max_order))\n",
    "    DEN = np.zeros((m, n, max_order))\n",
    "\n",
    "    for i in range(m):\n",
    "        for j in range(n):\n",
    "            num, den = G[i, j].num,  G[i, j].den\n",
    "            \n",
    "            # Right-align coefficients (zero-pad at the start if needed)\n",
    "            NUM[i, j, :len(num)] = num\n",
    "            DEN[i, j, :len(den)] = den\n",
    "    \n",
    "    return NUM, DEN\n",
    "\n",
    "# import numpy as np\n",
    "\n",
    "# def extract_tf_matrices(G):\n",
    "#     \"\"\"\n",
    "#     Convert a matrix of transfer functions into lists of lists of NumPy arrays.\n",
    "    \n",
    "#     :param G: 2D NumPy array of transfer functions.\n",
    "#     :return: NUM, DEN (both lists of lists of NumPy arrays).\n",
    "#     \"\"\"\n",
    "#     m, n = G.shape\n",
    "\n",
    "#     # Create lists of lists for variable-length storage\n",
    "#     NUM = [[np.array(G[i, j].num) for j in range(n)] for i in range(m)]\n",
    "#     DEN = [[np.array(G[i, j].den) for j in range(n)] for i in range(m)]\n",
    "\n",
    "#     return NUM, DEN\n",
    "\n",
    "# Define the coefficients of the transfer functions\n",
    "A = [1, -0.33]  # A(z^-1) = 1 - 0.33z^-1\n",
    "B = [0, 0.22, 2]   # B(z^-1) = 0.22z^-1\n",
    "C = [1, 0.15]   # C(z^-1) = 1 + 0.15z^-1\n",
    "D = [0.31, 0.23]  # D(z^-1)\n",
    "\n",
    "# Define transfer functions using the control library\n",
    "A_tf = d_tfs((A, [1, 0]))\n",
    "B_tf = d_tfs((B, [1, 0]))\n",
    "C_tf = d_tfs((C, [1, 0]))\n",
    "D_tf = d_tfs((D, [1, 0]))\n",
    "# Convert G into NUM and DEN arrays\n",
    "G3 = np.array([[B_tf, C_tf, B_tf],\n",
    "              [D_tf, B_tf, D_tf], \n",
    "              [B_tf, D_tf, B_tf]])\n",
    "NUM, DEN = extract_tf_matrices(G3)\n",
    "# Print results\n",
    "print(\"Numerator Array:\\n\", NUM)\n",
    "print(\"Denominator Array:\\n\", DEN)\n",
    "\n",
    "\n",
    "print()\n",
    "\n",
    "# @nb.njit\n",
    "# def create_eye1(n):\n",
    "#     eye = np.array([[np.array([1]) if i == j else np.array([0]) for j in range(n)] for i in range(n)], dtype=np.dtypes.ObjectDType)\n",
    "#     return eye\n",
    "\n",
    "@nb.njit\n",
    "def create_identity_matrix(n):\n",
    "    \"\"\"\n",
    "    Create an identity-like matrix where diagonal elements are np.array([1])\n",
    "    and all other elements are np.array([0]).\n",
    "    Works with Numba by using lists of lists.\n",
    "    \n",
    "    :param m: Number of rows.\n",
    "    :param n: Number of columns.\n",
    "    :return: List of lists of NumPy arrays.\n",
    "    \"\"\"\n",
    "    eye = [[np.array([1], dtype=np.float64) if i == j else np.array([0], dtype=np.float64) for j in range(n)] for i in range(n)]\n",
    "    return eye\n",
    "        \n",
    "@nb.njit\n",
    "def create_identity_matrices(n):\n",
    "    \"\"\"\n",
    "    Create two identity-like matrices where diagonal elements are np.array([1])\n",
    "    and all other elements are np.array([0]).\n",
    "    Works with Numba by using lists of lists.\n",
    "    \n",
    "    :param n: Size of the square matrix.\n",
    "    :return: Two identity-like matrices (lists of lists of NumPy arrays).\n",
    "    \"\"\"\n",
    "    eye1 = [[np.array([1], dtype=np.int64) if i == j else np.array([0], dtype=np.int64) for j in range(n)] for i in range(n)]\n",
    "    eye2 = [[np.array([1], dtype=np.int64) if i == j else np.array([0], dtype=np.int64) for j in range(n)] for i in range(n)]\n",
    "    \n",
    "    return eye1, eye2\n",
    "\n",
    "@nb.njit\n",
    "def create_identity_matrices_2(n):\n",
    "    return create_identity_matrix(n), create_identity_matrix(n)\n",
    "\n",
    "# print(benchmark(create_eye1, (3, ), n_repeat=10000))\n",
    "# print(benchmark(create_identity_matrix, (3, ), n_repeat=10000))\n",
    "\n",
    "eye3 = create_identity_matrix(3)\n",
    "print(eye3)\n",
    "eye3[0][1]\n",
    "\n",
    "print(benchmark(create_identity_matrices, (3, ), n_repeat=1000))\n",
    "print(benchmark(create_identity_matrices_2, (3, ), n_repeat=1000))"
   ]
  },
  {
   "cell_type": "code",
   "execution_count": 11,
   "metadata": {},
   "outputs": [
    {
     "name": "stdout",
     "output_type": "stream",
     "text": [
      "lu_decomposition_2  :    CPU:   466.512 us   +/- 157.336 (min:   290.300 / max:  1817.900) us     GPU-0:   509.429 us   +/- 190.134 (min:   314.976 / max:  2334.464) us\n",
      "p_lu_decomposition_2:    CPU:   477.038 us   +/- 163.162 (min:   295.700 / max:  1667.500) us     GPU-0:   523.734 us   +/- 196.126 (min:   317.696 / max:  1939.424) us\n",
      "p_lu_decomposition_3:    CPU:   601.537 us   +/- 195.553 (min:   319.300 / max:  1856.600) us     GPU-0:   665.446 us   +/- 240.241 (min:   335.040 / max:  2089.312) us\n"
     ]
    }
   ],
   "source": [
    "from typing import List\n",
    "from indirect_identification.tf_methods.fast_tfs_methods_fast_math import _div_tfs, _mul_tfs, _sub_tfs, _ensure_same_size\n",
    "@nb.njit\n",
    "def copy_list_of_lists(L):\n",
    "    return [[arr.copy() for arr in row] for row in L] \n",
    "\n",
    "@nb.njit\n",
    "def array_to_list_of_lists(arr):\n",
    "    n, _, k = arr.shape  # Extract dimensions\n",
    "    return [[arr[i, j, :] for j in range(n)] for i in range(n)]\n",
    "\n",
    "@nb.njit\n",
    "def lu_decomposition_2(nums:np.ndarray, dens:np.ndarray, n):\n",
    "    L_nums, L_dens = create_identity_matrices_2(n)\n",
    "    U_nums = array_to_list_of_lists(nums)\n",
    "    U_dens = array_to_list_of_lists(dens)\n",
    "    for i in range(n):\n",
    "        for j in range(i + 1, n):\n",
    "            # print(\"lu_decomposition: U[j,i], U[i, i]: \", U[j,i], U[i,i])\n",
    "            # factor = U[j, i] / U[i, i]\n",
    "            factor_num, factor_den = _div_tfs(U_nums[j][i], U_dens[j][i], U_nums[i][i], U_dens[i][i])\n",
    "            # L[j][i] = factor\n",
    "            L_nums[j][i] = factor_num\n",
    "            L_dens[j][i] = factor_den\n",
    "\n",
    "            for k in range(i, n):\n",
    "                sub_num, sub_den = _mul_tfs(factor_num, factor_den, U_nums[i][k],  U_dens[i][k])\n",
    "                U_nums[j][k], U_dens[j][k] = _sub_tfs(U_nums[j][k], U_dens[j][k], sub_num, sub_den)\n",
    "            # U[j, i:] -= factor*U[i, i:]\n",
    "\n",
    "    # # print(\"lu_decomposition: \", L, U)\n",
    "    return L_nums, L_dens, U_nums, U_dens\n",
    "\n",
    "@nb.njit(fastmath=True)\n",
    "def p_lu_decomposition_2(nums:np.ndarray, dens:np.ndarray, n):\n",
    "    L_nums, L_dens = create_identity_matrices_2(n)\n",
    "    U_nums = array_to_list_of_lists(nums)\n",
    "    U_dens = array_to_list_of_lists(dens)\n",
    "    for i in range(n):\n",
    "        for j in range(i + 1, n):\n",
    "            # print(\"lu_decomposition: U[j,i], U[i, i]: \", U[j,i], U[i,i])\n",
    "            # factor = U[j, i] / U[i, i]\n",
    "            factor_num, factor_den = _div_tfs(U_nums[j][i], U_dens[j][i], U_nums[i][i], U_dens[i][i])\n",
    "            # L[j][i] = factor\n",
    "            L_nums[j][i] = factor_num\n",
    "            L_dens[j][i] = factor_den\n",
    "\n",
    "            for k in range(i, n):\n",
    "                sub_num, sub_den = _mul_tfs(factor_num, factor_den, U_nums[i][k],  U_dens[i][k])\n",
    "                U_nums[j][k], U_dens[j][k] = _sub_tfs(U_nums[j][k], U_dens[j][k], sub_num, sub_den)\n",
    "            # U[j, i:] -= factor*U[i, i:]\n",
    "\n",
    "    # # print(\"lu_decomposition: \", L, U)\n",
    "    return L_nums, L_dens, U_nums, U_dens\n",
    "\n",
    "@nb.njit(fastmath=True)\n",
    "def p_lu_decomposition_3(nums: np.ndarray, dens: np.ndarray, n):\n",
    "    L_nums, L_dens = create_identity_matrices_2(n)\n",
    "\n",
    "    # Convert lists of lists to 3D NumPy arrays (n x n x k)\n",
    "    U_nums = np.empty((n, n, nums.shape[2]*2), dtype=np.float64)\n",
    "    U_dens = np.empty((n, n, dens.shape[2]*2), dtype=np.float64)\n",
    "\n",
    "    # Copy input to U to avoid modifying original\n",
    "    for i in range(n):\n",
    "        for j in range(n):\n",
    "            U_nums[i, j], _ = _ensure_same_size(nums[i, j],   U_nums[i, j])\n",
    "            U_dens[i, j], _ = _ensure_same_size(nums[i, j],   U_dens[i, j])\n",
    "    for i in range(n):\n",
    "        for j in range(i + 1, n):\n",
    "            factor_num, factor_den = _div_tfs(U_nums[j, i], U_dens[j, i], U_nums[i, i], U_dens[i, i])\n",
    "            L_nums[j][i] = factor_num\n",
    "            L_dens[j][i] = factor_den\n",
    "            for k in range(i, n):\n",
    "                sub_num, sub_den = _mul_tfs(factor_num, factor_den, U_nums[i, k], U_dens[i, k])\n",
    "                new_num, new_den = _sub_tfs(U_nums[j, k], U_dens[j, k], sub_num, sub_den)\n",
    "                U_nums[j, k], U_dens[j, k] = _sub_tfs(U_nums[j, k], U_dens[j, k], sub_num, sub_den)\n",
    "\n",
    "    return L_nums, L_dens, U_nums, U_dens\n",
    "\n",
    "#lu_decomposition_2(NUM, DEN, 3)\n",
    "print(benchmark(lu_decomposition_2, (NUM, DEN, 3), n_repeat=10000))\n",
    "print(benchmark(p_lu_decomposition_2, (NUM, DEN, 3), n_repeat=10000))\n",
    "print(benchmark(p_lu_decomposition_3, (NUM, DEN, 3), n_repeat=10000))\n"
   ]
  },
  {
   "cell_type": "code",
   "execution_count": null,
   "metadata": {},
   "outputs": [
    {
     "name": "stdout",
     "output_type": "stream",
     "text": [
      "invert_matrix       :    CPU:   969.445 us   +/- 297.269 (min:   597.600 / max:  3447.100) us     GPU-0:  1372.629 us   +/- 1489.174 (min:     0.800 / max: 10609.600) us\n"
     ]
    }
   ],
   "source": []
  },
  {
   "cell_type": "markdown",
   "metadata": {},
   "source": [
    "### Blockwise inverse"
   ]
  },
  {
   "cell_type": "code",
   "execution_count": 8,
   "metadata": {},
   "outputs": [
    {
     "name": "stdout",
     "output_type": "stream",
     "text": [
      "[[Transfer Function: num=[0.   0.22], den=[1. 0.]\n",
      "  Transfer Function: num=[1.   0.15], den=[1. 0.]]\n",
      " [Transfer Function: num=[0.31 0.23], den=[1. 0.]\n",
      "  Transfer Function: num=[0.   0.22], den=[1. 0.]]]\n",
      "[[Transfer Function: num=[ 0.         -0.70967742], den=[ 1.          0.89193548 -0.04483871]\n",
      "  Transfer Function: num=[3.22580645 0.48387097], den=[ 1.          0.89193548 -0.04483871]]\n",
      " [Transfer Function: num=[1.         0.74193548], den=[ 1.          0.89193548 -0.04483871]\n",
      "  Transfer Function: num=[0. 1.], den=[-1.40909091 -1.25681818  0.06318182]]]\n",
      "Verification (should be close to identity matrix):\n",
      "G @ G_inv:  [[1.0 0.0]\n",
      " [0.0 1.0000000000000013]]\n",
      "True\n"
     ]
    }
   ],
   "source": [
    "import numpy as np\n",
    "\n",
    "def blockwise_inverse(G):\n",
    "    \"\"\"Computes the inverse of a transfer function matrix using block-wise inversion.\"\"\"\n",
    "    n = G.shape[0]\n",
    "    \n",
    "    if n == 1:\n",
    "        return np.array([[~G[0, 0]]])  # Scalar inversion for 1x1 case\n",
    "    \n",
    "    # Partitioning G into A, B, C, D blocks\n",
    "    mid = n // 2\n",
    "    A = G[:mid, :mid]\n",
    "    B = G[:mid, mid:]\n",
    "    C = G[mid:, :mid]\n",
    "    D = G[mid:, mid:]\n",
    "    \n",
    "    # Recursively compute A^-1\n",
    "    A_inv = blockwise_inverse(A)\n",
    "    \n",
    "    # Compute Schur complement: S = D - C * A_inv * B\n",
    "    S = D - np.matmul(C, np.matmul(A_inv, B))\n",
    "    \n",
    "    # Compute S^-1 recursively\n",
    "    S_inv = blockwise_inverse(S)\n",
    "    \n",
    "    # Compute final blocks of the inverse\n",
    "    top_left = A_inv + np.matmul(A_inv, np.matmul(B, np.matmul(S_inv, np.matmul(C, A_inv))))\n",
    "    top_right = -1*np.matmul(A_inv, np.matmul(B, S_inv))\n",
    "    bottom_left = -1*np.matmul(S_inv, np.matmul(C, A_inv))\n",
    "    bottom_right = S_inv\n",
    "    \n",
    "    # Combine blocks\n",
    "    G_inv = np.block([[top_left, top_right], [bottom_left, bottom_right]])\n",
    "    \n",
    "    return G_inv\n",
    "\n",
    "# Example usage with a matrix of d_tfs objects\n",
    "G_inv = blockwise_inverse(G)\n",
    "\n",
    "print(G)\n",
    "print(G_inv)\n",
    "print(\"Verification (should be close to identity matrix):\")\n",
    "print(f\"G @ G_inv: \", G@G_inv)\n",
    "identity = np.array(G@G_inv, dtype=np.float64)\n",
    "print(np.allclose(np.eye(G.shape[0]), identity))"
   ]
  },
  {
   "cell_type": "code",
   "execution_count": 20,
   "metadata": {},
   "outputs": [
    {
     "data": {
      "text/plain": [
       "blockwise_inverse   :    CPU:   724.773 us   +/- 217.110 (min:   441.100 / max:  2391.600) us     GPU-0:  1083.177 us   +/- 1431.303 (min:     2.048 / max: 11526.112) us"
      ]
     },
     "execution_count": 20,
     "metadata": {},
     "output_type": "execute_result"
    }
   ],
   "source": [
    "from cupyx.profiler import benchmark\n",
    "benchmark(blockwise_inverse, (G, ), n_repeat=10000)"
   ]
  },
  {
   "cell_type": "code",
   "execution_count": null,
   "metadata": {},
   "outputs": [
    {
     "name": "stdout",
     "output_type": "stream",
     "text": [
      "Numerator Array:\n",
      " [[[0.   0.22]\n",
      "  [1.   0.15]]\n",
      "\n",
      " [[0.31 0.23]\n",
      "  [0.   0.22]]]\n",
      "Denominator Array:\n",
      " [[[1. 0.]\n",
      "  [1. 0.]]\n",
      "\n",
      " [[1. 0.]\n",
      "  [1. 0.]]]\n"
     ]
    },
    {
     "data": {
      "text/plain": [
       "(array([[[0., 0.],\n",
       "         [0., 0.]],\n",
       " \n",
       "        [[0., 0.],\n",
       "         [0., 0.]]]),\n",
       " array([[[0., 0.],\n",
       "         [0., 0.]],\n",
       " \n",
       "        [[0., 0.],\n",
       "         [0., 0.]]]))"
      ]
     },
     "execution_count": 4,
     "metadata": {},
     "output_type": "execute_result"
    }
   ],
   "source": [
    "from indirect_identification.tf_methods.fast_tfs_methods_fast_math import *\n",
    "from typing import Tuple\n",
    "import numba as nb\n",
    "\n",
    "\n",
    "\n",
    "\n",
    "def _extract_minor(A: np.ndarray, row: int, col: int) -> np.ndarray:\n",
    "    \"\"\" Extract the minor matrix by slicing instead of np.delete. \"\"\"\n",
    "    m, n, p = A.shape\n",
    "    minor = np.empty((m-1, n-1, p), dtype=A.dtype)\n",
    "    for i in range(m-1):\n",
    "        for j in range(n-1):\n",
    "            minor[i, j] = A[i if i < row else i+1, j if j < col else j+1]\n",
    "    return minor\n",
    "\n",
    "\n",
    "def _invert_tf_matrix(NUM: np.ndarray, DEN: np.ndarray) -> Tuple[np.ndarray, np.ndarray]:\n",
    "    \"\"\"\n",
    "    Compute the inverse of a matrix of transfer functions.\n",
    "\n",
    "    :param NUM: 3D NumPy array (m, n, p) representing the numerators of the TF matrix.\n",
    "    :param DEN: 3D NumPy array (m, n, p) representing the denominators of the TF matrix.\n",
    "    :return: Tuple (NUM_inv, DEN_inv) representing the numerators and denominators of the inverse TF matrix.\n",
    "    \"\"\"\n",
    "    m, n, p = NUM.shape\n",
    "    if m != n:\n",
    "        raise ValueError(\"Matrix must be square for inversion\")\n",
    "\n",
    "    # Compute determinant using adjugate method\n",
    "    det_num = np.zeros((p,), dtype=NUM.dtype)\n",
    "    det_den = np.zeros((p,), dtype=DEN.dtype)\n",
    "\n",
    "    for i in range(m):\n",
    "        for j in range(m):\n",
    "            minor_num = _extract_minor(NUM, i, j)\n",
    "            minor_den = _extract_minor(DEN, i, j)\n",
    "\n",
    "            # Compute determinant using cofactor expansion\n",
    "            sign = (-1) ** (i + j)\n",
    "            minor_det_num, minor_det_den = minor_num, minor_den\n",
    "            term_num, term_den = _mul_tfs(minor_det_num.flatten(), minor_det_den.flatten(), NUM[i, j].flatten(), DEN[i, j].flatten())\n",
    "            det_num, det_den = _add_tfs(det_num, det_den, sign * term_num, term_den)\n",
    "\n",
    "    # Compute adjugate matrix\n",
    "    adj_num = np.zeros_like(NUM)\n",
    "    adj_den = np.zeros_like(DEN)\n",
    "\n",
    "    for i in range(m):\n",
    "        for j in range(m):\n",
    "            minor_num = _extract_minor(NUM, j, i)\n",
    "            minor_den = _extract_minor(DEN, j, i)\n",
    "\n",
    "            cofactor_num, cofactor_den = minor_num, minor_den\n",
    "            sign = (-1) ** (i + j)\n",
    "            adj_num[j, i], adj_den[j, i] = _mul_scalar(cofactor_num, cofactor_den, sign)\n",
    "\n",
    "    # Compute inverse matrix elements\n",
    "    NUM_inv = np.zeros_like(NUM)\n",
    "    DEN_inv = np.zeros_like(DEN)\n",
    "\n",
    "    for i in range(m):\n",
    "        for j in range(m):\n",
    "            NUM_inv[i, j], DEN_inv[i, j] = _div_tfs(adj_num[i, j], adj_den[i, j], det_num, det_den)\n",
    "\n",
    "    return NUM_inv, DEN_inv\n",
    "\n",
    "\n",
    "import numpy as np\n",
    "\n",
    "def extract_tf_matrices(G):\n",
    "    \"\"\"\n",
    "    Convert a matrix of transfer functions into arrays of numerators and denominators.\n",
    "    \n",
    "    :param G: 2D NumPy array of transfer functions.\n",
    "    :return: NUM, DEN (both 3D NumPy arrays with shape (m, n, p)).\n",
    "    \"\"\"\n",
    "    m, n = G.shape\n",
    "    max_order = 0  # To determine the largest polynomial order\n",
    "    \n",
    "    # First pass: Find the max polynomial order\n",
    "    for i in range(m):\n",
    "        for j in range(n):\n",
    "            num, den = G[i, j].num,  G[i, j].den\n",
    "            max_order = max(max_order, len(num), len(den))\n",
    "\n",
    "    # Second pass: Allocate arrays with zero-padding\n",
    "    NUM = np.zeros((m, n, max_order))\n",
    "    DEN = np.zeros((m, n, max_order))\n",
    "\n",
    "    for i in range(m):\n",
    "        for j in range(n):\n",
    "            num, den = G[i, j].num,  G[i, j].den\n",
    "            \n",
    "            # Right-align coefficients (zero-pad at the start if needed)\n",
    "            NUM[i, j, -len(num):] = num\n",
    "            DEN[i, j, -len(den):] = den\n",
    "    \n",
    "    return NUM, DEN\n",
    "\n",
    "# Convert G into NUM and DEN arrays\n",
    "NUM, DEN = extract_tf_matrices(np.random())\n",
    "# Print results\n",
    "print(\"Numerator Array:\\n\", NUM)\n",
    "print(\"Denominator Array:\\n\", DEN)\n",
    "\n",
    "_invert_tf_matrix(NUM, DEN)\n"
   ]
  },
  {
   "cell_type": "code",
   "execution_count": null,
   "metadata": {},
   "outputs": [
    {
     "data": {
      "text/plain": [
       "array([0.  , 0.22])"
      ]
     },
     "execution_count": 8,
     "metadata": {},
     "output_type": "execute_result"
    }
   ],
   "source": []
  },
  {
   "cell_type": "code",
   "execution_count": 6,
   "metadata": {},
   "outputs": [
    {
     "name": "stdout",
     "output_type": "stream",
     "text": [
      "extract_tf_matrices :    CPU:    25.514 us   +/- 136.797 (min:    12.600 / max: 13235.100) us     GPU-0:    53.723 us   +/- 164.430 (min:     0.672 / max: 13666.208) us\n"
     ]
    }
   ],
   "source": [
    "from cupyx.profiler import benchmark\n",
    "print(benchmark(extract_tf_matrices, (G, ), n_repeat=10000))"
   ]
  },
  {
   "cell_type": "code",
   "execution_count": null,
   "metadata": {},
   "outputs": [
    {
     "name": "stdout",
     "output_type": "stream",
     "text": [
      "[[[0.   0.22]\n",
      "  [1.   0.15]]\n",
      "\n",
      " [[0.31 0.23]\n",
      "  [0.   0.22]]] [[[1. 0.]\n",
      "  [1. 0.]]\n",
      "\n",
      " [[1. 0.]\n",
      "  [1. 0.]]]\n"
     ]
    },
    {
     "ename": "TypingError",
     "evalue": "Failed in nopython mode pipeline (step: nopython frontend)\n\u001b[1m\u001b[1m\u001b[1m\u001b[1m\u001b[1mFailed in nopython mode pipeline (step: nopython frontend)\n\u001b[1m\u001b[1m\u001b[1m\u001b[1m\u001b[1m\u001b[1m\u001b[1m\u001b[1m\u001b[1mFailed in nopython mode pipeline (step: nopython frontend)\n\u001b[1m\u001b[1m\u001b[1m\u001b[1m\u001b[1m\u001b[1m\u001b[1mFailed in nopython mode pipeline (step: nopython frontend)\n\u001b[1m\u001b[1m\u001b[1m\u001b[1mNo implementation of function Function(<function convolve at 0x000001A7447184A0>) found for signature:\n \n >>> convolve(array(float64, 3d, A), array(float64, 1d, C))\n \nThere are 2 candidate implementations:\n\u001b[1m      - Of which 2 did not match due to:\n      Overload in function 'np_convolve': File: numba\\np\\old_arraymath.py: Line 4241.\n        With argument(s): '(array(float64, 3d, A), array(float64, 1d, C))':\u001b[0m\n\u001b[1m       Rejected as the implementation raised a specific error:\n         TypingError: \u001b[1mnp.convolve() only supported on 1D arrays \u001b[0m\u001b[0m\n  raised from d:\\mukul\\Desktop\\Unimelb\\Masters\\Capstone\\Learning-Dynamic-Systems\\.venv\\Lib\\site-packages\\numba\\np\\old_arraymath.py:4115\n\u001b[0m\n\u001b[0m\u001b[1mDuring: resolving callee type: Function(<function convolve at 0x000001A7447184A0>)\u001b[0m\n\u001b[0m\u001b[1mDuring: typing of call at D:\\mukul\\Desktop\\Unimelb\\Masters\\Capstone\\Learning-Dynamic-Systems\\indirect_identification\\tf_methods\\fast_tfs_methods_fast_math.py (49)\n\u001b[0m\n\u001b[1m\nFile \"..\\tf_methods\\fast_tfs_methods_fast_math.py\", line 49:\u001b[0m\n\u001b[1mdef _convolve(arr1: np.ndarray, arr2: np.ndarray) -> np.ndarray:\n\u001b[1m    return _simplify_array(np.convolve(arr1, arr2))\n\u001b[0m    \u001b[1m^\u001b[0m\u001b[0m\n\n\u001b[0m\u001b[1mDuring: Pass nopython_type_inference\u001b[0m\n\u001b[0m\u001b[1mDuring: resolving callee type: type(CPUDispatcher(<function _convolve at 0x000001A75E0EE700>))\u001b[0m\n\u001b[0m\u001b[1mDuring: typing of call at D:\\mukul\\Desktop\\Unimelb\\Masters\\Capstone\\Learning-Dynamic-Systems\\indirect_identification\\tf_methods\\fast_tfs_methods_fast_math.py (83)\n\u001b[0m\n\u001b[0m\u001b[1mDuring: resolving callee type: type(CPUDispatcher(<function _convolve at 0x000001A75E0EE700>))\u001b[0m\n\u001b[0m\u001b[1mDuring: typing of call at D:\\mukul\\Desktop\\Unimelb\\Masters\\Capstone\\Learning-Dynamic-Systems\\indirect_identification\\tf_methods\\fast_tfs_methods_fast_math.py (84)\n\u001b[0m\n\u001b[0m\u001b[1mDuring: resolving callee type: type(CPUDispatcher(<function _convolve at 0x000001A75E0EE700>))\u001b[0m\n\u001b[0m\u001b[1mDuring: typing of call at D:\\mukul\\Desktop\\Unimelb\\Masters\\Capstone\\Learning-Dynamic-Systems\\indirect_identification\\tf_methods\\fast_tfs_methods_fast_math.py (83)\n\u001b[0m\n\u001b[1m\nFile \"..\\tf_methods\\fast_tfs_methods_fast_math.py\", line 83:\u001b[0m\n\u001b[1mdef _mul_tfs(num1: np.ndarray, den1: np.ndarray, num2: np.ndarray, den2: np.ndarray) -> Tuple[np.ndarray, np.ndarray]:\n\u001b[1m    num = _convolve(num1, num2)\n\u001b[0m    \u001b[1m^\u001b[0m\u001b[0m\n\n\u001b[0m\u001b[1mDuring: Pass nopython_type_inference\u001b[0m\n\u001b[0m\u001b[1mDuring: resolving callee type: type(CPUDispatcher(<function _mul_tfs at 0x000001A75E10B6A0>))\u001b[0m\n\u001b[0m\u001b[1mDuring: typing of call at C:\\Users\\mukul\\AppData\\Local\\Temp\\ipykernel_27884\\1159283339.py (55)\n\u001b[0m\n\u001b[0m\u001b[1mDuring: resolving callee type: type(CPUDispatcher(<function _mul_tfs at 0x000001A75E10B6A0>))\u001b[0m\n\u001b[0m\u001b[1mDuring: typing of call at C:\\Users\\mukul\\AppData\\Local\\Temp\\ipykernel_27884\\1159283339.py (55)\n\u001b[0m\n\u001b[0m\u001b[1mDuring: resolving callee type: type(CPUDispatcher(<function _mul_tfs at 0x000001A75E10B6A0>))\u001b[0m\n\u001b[0m\u001b[1mDuring: typing of call at C:\\Users\\mukul\\AppData\\Local\\Temp\\ipykernel_27884\\1159283339.py (55)\n\u001b[0m\n\u001b[0m\u001b[1mDuring: resolving callee type: type(CPUDispatcher(<function _mul_tfs at 0x000001A75E10B6A0>))\u001b[0m\n\u001b[0m\u001b[1mDuring: typing of call at C:\\Users\\mukul\\AppData\\Local\\Temp\\ipykernel_27884\\1159283339.py (55)\n\u001b[0m\n\u001b[1m\nFile \"C:\\Users\\mukul\\AppData\\Local\\Temp\\ipykernel_27884\\1159283339.py\", line 55:\u001b[0m\n\u001b[1mdef blockwise_inverse_numden(NUM, DEN):\n    <source elided>\n    # Compute Schur complement: S = D - C * A_inv * B\n\u001b[1m    temp_NUM, temp_DEN = _mul_tfs(C_NUM, C_DEN, A_inv_NUM, A_inv_DEN)\n\u001b[0m    \u001b[1m^\u001b[0m\u001b[0m\n\n\u001b[0m\u001b[1mDuring: Pass nopython_type_inference\u001b[0m\n\u001b[0m\u001b[1mDuring: resolving callee type: recursive(type(CPUDispatcher(<function blockwise_inverse_numden at 0x000001A7671B4180>)))\u001b[0m\n\u001b[0m\u001b[1mDuring: typing of call at C:\\Users\\mukul\\AppData\\Local\\Temp\\ipykernel_27884\\1159283339.py (52)\n\u001b[0m\n\u001b[0m\u001b[1mDuring: resolving callee type: recursive(type(CPUDispatcher(<function blockwise_inverse_numden at 0x000001A7671B4180>)))\u001b[0m\n\u001b[0m\u001b[1mDuring: typing of call at C:\\Users\\mukul\\AppData\\Local\\Temp\\ipykernel_27884\\1159283339.py (52)\n\u001b[0m\n\u001b[1m\nFile \"C:\\Users\\mukul\\AppData\\Local\\Temp\\ipykernel_27884\\1159283339.py\", line 52:\u001b[0m\n\u001b[1mdef blockwise_inverse_numden(NUM, DEN):\n    <source elided>\n    # Recursively compute A^-1\n\u001b[1m    A_inv_NUM, A_inv_DEN = blockwise_inverse_numden(A_NUM, A_DEN)\n\u001b[0m    \u001b[1m^\u001b[0m\u001b[0m\n\n\u001b[0m\u001b[1mDuring: Pass nopython_type_inference\u001b[0m",
     "output_type": "error",
     "traceback": [
      "\u001b[1;31m---------------------------------------------------------------------------\u001b[0m",
      "\u001b[1;31mTypingError\u001b[0m                               Traceback (most recent call last)",
      "Cell \u001b[1;32mIn[17], line 87\u001b[0m\n\u001b[0;32m     85\u001b[0m \u001b[38;5;28mprint\u001b[39m(NUM, DEN)\n\u001b[0;32m     86\u001b[0m \u001b[38;5;66;03m# Compute inverse\u001b[39;00m\n\u001b[1;32m---> 87\u001b[0m G_inv_NUM, G_inv_DEN \u001b[38;5;241m=\u001b[39m \u001b[43mblockwise_inverse_numden\u001b[49m\u001b[43m(\u001b[49m\u001b[43mNUM\u001b[49m\u001b[43m,\u001b[49m\u001b[43m \u001b[49m\u001b[43mDEN\u001b[49m\u001b[43m)\u001b[49m\n\u001b[0;32m     89\u001b[0m \u001b[38;5;66;03m# Convert back to transfer functions\u001b[39;00m\n\u001b[0;32m     90\u001b[0m G_inv \u001b[38;5;241m=\u001b[39m np\u001b[38;5;241m.\u001b[39mempty_like(G, dtype\u001b[38;5;241m=\u001b[39m\u001b[38;5;28mobject\u001b[39m)\n",
      "File \u001b[1;32md:\\mukul\\Desktop\\Unimelb\\Masters\\Capstone\\Learning-Dynamic-Systems\\.venv\\Lib\\site-packages\\numba\\core\\dispatcher.py:424\u001b[0m, in \u001b[0;36m_DispatcherBase._compile_for_args\u001b[1;34m(self, *args, **kws)\u001b[0m\n\u001b[0;32m    420\u001b[0m         msg \u001b[38;5;241m=\u001b[39m (\u001b[38;5;124mf\u001b[39m\u001b[38;5;124m\"\u001b[39m\u001b[38;5;132;01m{\u001b[39;00m\u001b[38;5;28mstr\u001b[39m(e)\u001b[38;5;241m.\u001b[39mrstrip()\u001b[38;5;132;01m}\u001b[39;00m\u001b[38;5;124m \u001b[39m\u001b[38;5;130;01m\\n\u001b[39;00m\u001b[38;5;130;01m\\n\u001b[39;00m\u001b[38;5;124mThis error may have been caused \u001b[39m\u001b[38;5;124m\"\u001b[39m\n\u001b[0;32m    421\u001b[0m                \u001b[38;5;124mf\u001b[39m\u001b[38;5;124m\"\u001b[39m\u001b[38;5;124mby the following argument(s):\u001b[39m\u001b[38;5;130;01m\\n\u001b[39;00m\u001b[38;5;132;01m{\u001b[39;00margs_str\u001b[38;5;132;01m}\u001b[39;00m\u001b[38;5;130;01m\\n\u001b[39;00m\u001b[38;5;124m\"\u001b[39m)\n\u001b[0;32m    422\u001b[0m         e\u001b[38;5;241m.\u001b[39mpatch_message(msg)\n\u001b[1;32m--> 424\u001b[0m     \u001b[43merror_rewrite\u001b[49m\u001b[43m(\u001b[49m\u001b[43me\u001b[49m\u001b[43m,\u001b[49m\u001b[43m \u001b[49m\u001b[38;5;124;43m'\u001b[39;49m\u001b[38;5;124;43mtyping\u001b[39;49m\u001b[38;5;124;43m'\u001b[39;49m\u001b[43m)\u001b[49m\n\u001b[0;32m    425\u001b[0m \u001b[38;5;28;01mexcept\u001b[39;00m errors\u001b[38;5;241m.\u001b[39mUnsupportedError \u001b[38;5;28;01mas\u001b[39;00m e:\n\u001b[0;32m    426\u001b[0m     \u001b[38;5;66;03m# Something unsupported is present in the user code, add help info\u001b[39;00m\n\u001b[0;32m    427\u001b[0m     error_rewrite(e, \u001b[38;5;124m'\u001b[39m\u001b[38;5;124munsupported_error\u001b[39m\u001b[38;5;124m'\u001b[39m)\n",
      "File \u001b[1;32md:\\mukul\\Desktop\\Unimelb\\Masters\\Capstone\\Learning-Dynamic-Systems\\.venv\\Lib\\site-packages\\numba\\core\\dispatcher.py:365\u001b[0m, in \u001b[0;36m_DispatcherBase._compile_for_args.<locals>.error_rewrite\u001b[1;34m(e, issue_type)\u001b[0m\n\u001b[0;32m    363\u001b[0m     \u001b[38;5;28;01mraise\u001b[39;00m e\n\u001b[0;32m    364\u001b[0m \u001b[38;5;28;01melse\u001b[39;00m:\n\u001b[1;32m--> 365\u001b[0m     \u001b[38;5;28;01mraise\u001b[39;00m e\u001b[38;5;241m.\u001b[39mwith_traceback(\u001b[38;5;28;01mNone\u001b[39;00m)\n",
      "\u001b[1;31mTypingError\u001b[0m: Failed in nopython mode pipeline (step: nopython frontend)\n\u001b[1m\u001b[1m\u001b[1m\u001b[1m\u001b[1mFailed in nopython mode pipeline (step: nopython frontend)\n\u001b[1m\u001b[1m\u001b[1m\u001b[1m\u001b[1m\u001b[1m\u001b[1m\u001b[1m\u001b[1mFailed in nopython mode pipeline (step: nopython frontend)\n\u001b[1m\u001b[1m\u001b[1m\u001b[1m\u001b[1m\u001b[1m\u001b[1mFailed in nopython mode pipeline (step: nopython frontend)\n\u001b[1m\u001b[1m\u001b[1m\u001b[1mNo implementation of function Function(<function convolve at 0x000001A7447184A0>) found for signature:\n \n >>> convolve(array(float64, 3d, A), array(float64, 1d, C))\n \nThere are 2 candidate implementations:\n\u001b[1m      - Of which 2 did not match due to:\n      Overload in function 'np_convolve': File: numba\\np\\old_arraymath.py: Line 4241.\n        With argument(s): '(array(float64, 3d, A), array(float64, 1d, C))':\u001b[0m\n\u001b[1m       Rejected as the implementation raised a specific error:\n         TypingError: \u001b[1mnp.convolve() only supported on 1D arrays \u001b[0m\u001b[0m\n  raised from d:\\mukul\\Desktop\\Unimelb\\Masters\\Capstone\\Learning-Dynamic-Systems\\.venv\\Lib\\site-packages\\numba\\np\\old_arraymath.py:4115\n\u001b[0m\n\u001b[0m\u001b[1mDuring: resolving callee type: Function(<function convolve at 0x000001A7447184A0>)\u001b[0m\n\u001b[0m\u001b[1mDuring: typing of call at D:\\mukul\\Desktop\\Unimelb\\Masters\\Capstone\\Learning-Dynamic-Systems\\indirect_identification\\tf_methods\\fast_tfs_methods_fast_math.py (49)\n\u001b[0m\n\u001b[1m\nFile \"..\\tf_methods\\fast_tfs_methods_fast_math.py\", line 49:\u001b[0m\n\u001b[1mdef _convolve(arr1: np.ndarray, arr2: np.ndarray) -> np.ndarray:\n\u001b[1m    return _simplify_array(np.convolve(arr1, arr2))\n\u001b[0m    \u001b[1m^\u001b[0m\u001b[0m\n\n\u001b[0m\u001b[1mDuring: Pass nopython_type_inference\u001b[0m\n\u001b[0m\u001b[1mDuring: resolving callee type: type(CPUDispatcher(<function _convolve at 0x000001A75E0EE700>))\u001b[0m\n\u001b[0m\u001b[1mDuring: typing of call at D:\\mukul\\Desktop\\Unimelb\\Masters\\Capstone\\Learning-Dynamic-Systems\\indirect_identification\\tf_methods\\fast_tfs_methods_fast_math.py (83)\n\u001b[0m\n\u001b[0m\u001b[1mDuring: resolving callee type: type(CPUDispatcher(<function _convolve at 0x000001A75E0EE700>))\u001b[0m\n\u001b[0m\u001b[1mDuring: typing of call at D:\\mukul\\Desktop\\Unimelb\\Masters\\Capstone\\Learning-Dynamic-Systems\\indirect_identification\\tf_methods\\fast_tfs_methods_fast_math.py (84)\n\u001b[0m\n\u001b[0m\u001b[1mDuring: resolving callee type: type(CPUDispatcher(<function _convolve at 0x000001A75E0EE700>))\u001b[0m\n\u001b[0m\u001b[1mDuring: typing of call at D:\\mukul\\Desktop\\Unimelb\\Masters\\Capstone\\Learning-Dynamic-Systems\\indirect_identification\\tf_methods\\fast_tfs_methods_fast_math.py (83)\n\u001b[0m\n\u001b[1m\nFile \"..\\tf_methods\\fast_tfs_methods_fast_math.py\", line 83:\u001b[0m\n\u001b[1mdef _mul_tfs(num1: np.ndarray, den1: np.ndarray, num2: np.ndarray, den2: np.ndarray) -> Tuple[np.ndarray, np.ndarray]:\n\u001b[1m    num = _convolve(num1, num2)\n\u001b[0m    \u001b[1m^\u001b[0m\u001b[0m\n\n\u001b[0m\u001b[1mDuring: Pass nopython_type_inference\u001b[0m\n\u001b[0m\u001b[1mDuring: resolving callee type: type(CPUDispatcher(<function _mul_tfs at 0x000001A75E10B6A0>))\u001b[0m\n\u001b[0m\u001b[1mDuring: typing of call at C:\\Users\\mukul\\AppData\\Local\\Temp\\ipykernel_27884\\1159283339.py (55)\n\u001b[0m\n\u001b[0m\u001b[1mDuring: resolving callee type: type(CPUDispatcher(<function _mul_tfs at 0x000001A75E10B6A0>))\u001b[0m\n\u001b[0m\u001b[1mDuring: typing of call at C:\\Users\\mukul\\AppData\\Local\\Temp\\ipykernel_27884\\1159283339.py (55)\n\u001b[0m\n\u001b[0m\u001b[1mDuring: resolving callee type: type(CPUDispatcher(<function _mul_tfs at 0x000001A75E10B6A0>))\u001b[0m\n\u001b[0m\u001b[1mDuring: typing of call at C:\\Users\\mukul\\AppData\\Local\\Temp\\ipykernel_27884\\1159283339.py (55)\n\u001b[0m\n\u001b[0m\u001b[1mDuring: resolving callee type: type(CPUDispatcher(<function _mul_tfs at 0x000001A75E10B6A0>))\u001b[0m\n\u001b[0m\u001b[1mDuring: typing of call at C:\\Users\\mukul\\AppData\\Local\\Temp\\ipykernel_27884\\1159283339.py (55)\n\u001b[0m\n\u001b[1m\nFile \"C:\\Users\\mukul\\AppData\\Local\\Temp\\ipykernel_27884\\1159283339.py\", line 55:\u001b[0m\n\u001b[1mdef blockwise_inverse_numden(NUM, DEN):\n    <source elided>\n    # Compute Schur complement: S = D - C * A_inv * B\n\u001b[1m    temp_NUM, temp_DEN = _mul_tfs(C_NUM, C_DEN, A_inv_NUM, A_inv_DEN)\n\u001b[0m    \u001b[1m^\u001b[0m\u001b[0m\n\n\u001b[0m\u001b[1mDuring: Pass nopython_type_inference\u001b[0m\n\u001b[0m\u001b[1mDuring: resolving callee type: recursive(type(CPUDispatcher(<function blockwise_inverse_numden at 0x000001A7671B4180>)))\u001b[0m\n\u001b[0m\u001b[1mDuring: typing of call at C:\\Users\\mukul\\AppData\\Local\\Temp\\ipykernel_27884\\1159283339.py (52)\n\u001b[0m\n\u001b[0m\u001b[1mDuring: resolving callee type: recursive(type(CPUDispatcher(<function blockwise_inverse_numden at 0x000001A7671B4180>)))\u001b[0m\n\u001b[0m\u001b[1mDuring: typing of call at C:\\Users\\mukul\\AppData\\Local\\Temp\\ipykernel_27884\\1159283339.py (52)\n\u001b[0m\n\u001b[1m\nFile \"C:\\Users\\mukul\\AppData\\Local\\Temp\\ipykernel_27884\\1159283339.py\", line 52:\u001b[0m\n\u001b[1mdef blockwise_inverse_numden(NUM, DEN):\n    <source elided>\n    # Recursively compute A^-1\n\u001b[1m    A_inv_NUM, A_inv_DEN = blockwise_inverse_numden(A_NUM, A_DEN)\n\u001b[0m    \u001b[1m^\u001b[0m\u001b[0m\n\n\u001b[0m\u001b[1mDuring: Pass nopython_type_inference\u001b[0m"
     ]
    }
   ],
   "source": [
    "import numpy as np\n",
    "from control import tf\n",
    "from numba import njit\n",
    "\n",
    "def extract_tf_matrices(G):\n",
    "    \"\"\"\n",
    "    Convert a matrix of transfer functions into arrays of numerators and denominators.\n",
    "    \n",
    "    :param G: 2D NumPy array of transfer functions.\n",
    "    :return: NUM, DEN (both 3D NumPy arrays with shape (m, n, p)).\n",
    "    \"\"\"\n",
    "    m, n = G.shape\n",
    "    max_order = 0  # To determine the largest polynomial order\n",
    "    \n",
    "    # First pass: Find the max polynomial order\n",
    "    for i in range(m):\n",
    "        for j in range(n):\n",
    "            num, den = G[i, j].num,  G[i, j].den\n",
    "            max_order = max(max_order, len(num), len(den))\n",
    "\n",
    "    # Second pass: Allocate arrays with zero-padding\n",
    "    NUM = np.zeros((m, n, max_order))\n",
    "    DEN = np.zeros((m, n, max_order))\n",
    "\n",
    "    for i in range(m):\n",
    "        for j in range(n):\n",
    "            num, den = G[i, j].num,  G[i, j].den\n",
    "            \n",
    "            # Right-align coefficients (zero-pad at the start if needed)\n",
    "            NUM[i, j, -len(num):] = num\n",
    "            DEN[i, j, -len(den):] = den\n",
    "    \n",
    "    return NUM, DEN\n",
    "\n",
    "@njit\n",
    "def blockwise_inverse_numden(NUM, DEN):\n",
    "    \"\"\"Computes the inverse of a transfer function matrix using block-wise inversion.\"\"\"\n",
    "    n = NUM.shape[0]\n",
    "    \n",
    "    if n == 1:\n",
    "        return DEN.flatten(), NUM.flatten()  # Reciprocal for 1x1 case\n",
    "\n",
    "    mid = n // 2\n",
    "\n",
    "    # Partition matrices\n",
    "    A_NUM, A_DEN = NUM[:mid, :mid, :], DEN[:mid, :mid, :]\n",
    "    B_NUM, B_DEN = NUM[:mid, mid:, :], DEN[:mid, mid:, :]\n",
    "    C_NUM, C_DEN = NUM[mid:, :mid, :], DEN[mid:, :mid, :]\n",
    "    D_NUM, D_DEN = NUM[mid:, mid:, :], DEN[mid:, mid:, :]\n",
    "\n",
    "    # Recursively compute A^-1\n",
    "    A_inv_NUM, A_inv_DEN = blockwise_inverse_numden(A_NUM, A_DEN)\n",
    "\n",
    "    # Compute Schur complement: S = D - C * A_inv * B\n",
    "    temp_NUM, temp_DEN = _mul_tfs(C_NUM, C_DEN, A_inv_NUM, A_inv_DEN)\n",
    "    temp_NUM, temp_DEN = _mul_tfs(temp_NUM, temp_DEN, B_NUM, B_DEN)\n",
    "    S_NUM, S_DEN = _sub_tfs(D_NUM, D_DEN, temp_NUM, temp_DEN)\n",
    "\n",
    "    # Compute S^-1 recursively\n",
    "    S_inv_NUM, S_inv_DEN = blockwise_inverse_numden(S_NUM, S_DEN)\n",
    "\n",
    "    # Compute final blocks of the inverse\n",
    "    temp1_NUM, temp1_DEN = _mul_tfs(A_inv_NUM, A_inv_DEN, B_NUM, B_DEN)\n",
    "    temp2_NUM, temp2_DEN = _mul_tfs(temp1_NUM, temp1_DEN, S_inv_NUM, S_inv_DEN)\n",
    "    temp3_NUM, temp3_DEN = _mul_tfs(temp2_NUM, temp2_DEN, C_NUM, C_DEN)\n",
    "    top_left_NUM, top_left_DEN = _add_tfs(A_inv_NUM, A_inv_DEN, temp3_NUM, temp3_DEN)\n",
    "\n",
    "    top_right_NUM, top_right_DEN = _mul_tfs(A_inv_NUM, A_inv_DEN, B_NUM, B_DEN)\n",
    "    top_right_NUM, top_right_DEN = _mul_tfs(top_right_NUM, top_right_DEN, S_inv_NUM, S_inv_DEN)\n",
    "    top_right_NUM = -top_right_NUM\n",
    "\n",
    "    bottom_left_NUM, bottom_left_DEN = _mul_tfs(S_inv_NUM, S_inv_DEN, C_NUM, C_DEN)\n",
    "    bottom_left_NUM = -bottom_left_NUM\n",
    "\n",
    "    bottom_right_NUM, bottom_right_DEN = S_inv_NUM, S_inv_DEN\n",
    "\n",
    "    # Combine blocks\n",
    "    G_inv_NUM = np.block([[top_left_NUM, top_right_NUM], [bottom_left_NUM, bottom_right_NUM]])\n",
    "    G_inv_DEN = np.block([[top_left_DEN, top_right_DEN], [bottom_left_DEN, bottom_right_DEN]])\n",
    "\n",
    "    return G_inv_NUM, G_inv_DEN\n",
    "\n",
    "# Convert G to NUM and DEN matrices\n",
    "NUM, DEN = extract_tf_matrices(G)\n",
    "print(NUM, DEN)\n",
    "# Compute inverse\n",
    "G_inv_NUM, G_inv_DEN = blockwise_inverse_numden(NUM, DEN)\n",
    "\n",
    "# Convert back to transfer functions\n",
    "G_inv = np.empty_like(G, dtype=object)\n",
    "for i in range(G.shape[0]):\n",
    "    for j in range(G.shape[1]):\n",
    "        G_inv[i, j] = tf(G_inv_NUM[i, j], G_inv_DEN[i, j])\n",
    "\n",
    "print(G_inv)\n"
   ]
  },
  {
   "cell_type": "code",
   "execution_count": null,
   "metadata": {},
   "outputs": [],
   "source": []
  }
 ],
 "metadata": {
  "kernelspec": {
   "display_name": ".venv",
   "language": "python",
   "name": "python3"
  },
  "language_info": {
   "codemirror_mode": {
    "name": "ipython",
    "version": 3
   },
   "file_extension": ".py",
   "mimetype": "text/x-python",
   "name": "python",
   "nbconvert_exporter": "python",
   "pygments_lexer": "ipython3",
   "version": "3.12.9"
  }
 },
 "nbformat": 4,
 "nbformat_minor": 2
}
