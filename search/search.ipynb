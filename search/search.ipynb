{
 "cells": [
  {
   "cell_type": "code",
   "execution_count": 2,
   "metadata": {},
   "outputs": [],
   "source": [
    "import numpy as np\n",
    "import matplotlib.pyplot as plt\n",
    "from sklearn.cluster import MeanShift, KMeans\n",
    "from sklearn.neighbors import KNeighborsClassifier"
   ]
  },
  {
   "cell_type": "code",
   "execution_count": 3,
   "metadata": {},
   "outputs": [],
   "source": [
    "def test():\n",
    "    p_success = 0.8\n",
    "    return np.random.random() > 1 - p_success\n",
    "\n",
    "def generate_possibilities_2d(min, max, num_points):\n",
    "    nx = np.linspace(min, max, num_points)\n",
    "    ny = np.linspace(min, max, num_points)\n",
    "    return np.meshgrid(nx, ny)\n",
    "\n",
    "def get_random_coordinate(n_points: int, n_dimensions: int=2):\n",
    "    x = np.random.randint(0, n_points)\n",
    "    y = np.random.randint(0, n_points)\n",
    "\n",
    "    return x, y\n",
    "\n",
    "def get_next_coordinate():\n",
    "    \"\"\"\n",
    "    ----\n",
    "    Available hyperparameters:\n",
    "    - Max clusters\n",
    "    - Radius proportion\n",
    "    - Chance of point inside radius\n",
    "    \"\"\"\n",
    "    return np.random.random()"
   ]
  },
  {
   "cell_type": "code",
   "execution_count": 12,
   "metadata": {},
   "outputs": [
    {
     "name": "stdout",
     "output_type": "stream",
     "text": [
      "Initialising random points\n",
      "Calculating KNN\n",
      "861 remaining coordinates\n",
      "Predicting remaining datapoints\n"
     ]
    }
   ],
   "source": [
    "NUM_POINTS = 31 # Number of values tested for each parameter\n",
    "INITIALISATION_SIZE = 100\n",
    "EPOCH_SIZE = 50 # Number of points to test before reclassifying predictions\n",
    "\n",
    "xv, yv = generate_possibilities_2d(-1, 1, NUM_POINTS)\n",
    "\n",
    "# Build list of possible coordinates\n",
    "remaining_coords = set()\n",
    "for x in range(NUM_POINTS):\n",
    "    coords= [(x, y) for y in np.arange(NUM_POINTS)]\n",
    "    for coord in coords:\n",
    "        remaining_coords.add(coord)\n",
    "\n",
    "\n",
    "results = -1 * np.ones( (NUM_POINTS, NUM_POINTS) )\n",
    "output = []\n",
    "\n",
    "print(\"Initialising random points\")\n",
    "for i in range(INITIALISATION_SIZE):\n",
    "    x, y = get_random_coordinate(NUM_POINTS)\n",
    "    while results[x,y] != -1:\n",
    "        x, y = get_random_coordinate(NUM_POINTS)\n",
    "    coord = (x,y)\n",
    "\n",
    "    results[coord] = test()\n",
    "    remaining_coords.remove(coord)\n",
    "    output.append([xv[coord], yv[coord], results[coord]])\n",
    "\n",
    "print(\"Calculating KNN\")\n",
    "X = np.array(output)[:, 0:2]\n",
    "y = np.array(output)[:, 2]\n",
    "\n",
    "knn = KNeighborsClassifier()\n",
    "knn.fit(X, y)\n",
    "\n",
    "print(\"%d remaining coordinates\" % len(remaining_coords))\n",
    "X_test = np.array([list(x) for x in list(remaining_coords)])\n",
    "y_pred = knn.predict(X_test)\n",
    "\n",
    "print(\"Predicting remaining datapoints\")\n",
    "\n",
    "\n"
   ]
  },
  {
   "cell_type": "code",
   "execution_count": null,
   "metadata": {},
   "outputs": [
    {
     "name": "stdout",
     "output_type": "stream",
     "text": [
      "{0.9578775699929865, 0.008259382994292297, 0.505900723747897, 0.24989725419618591, 0.924395441565169, 0.9479121815723506, 0.2971800446554502, 0.6560237508308762, 0.3772721638788108, 0.18767499504997964, 0.10725470247675917, 0.4292237160601222, 0.9778902886640428, 0.8914988651713078, 0.5869084283364044, 0.7837859339283006, 0.7650297123525227, 0.22988573712855565, 0.47737015999180765, 0.3105462457366961, 0.6722354736815362, 0.15190881547332058, 0.44129814174498794, 0.6590757550719966, 0.3286768786400148, 0.825159281645644, 0.33833470755296813, 0.08039691480403144, 0.4602957564432425, 0.9869539251134735, 0.2873889978114884, 0.6545697851855881, 0.9902864077686985, 0.3740933813319196, 0.5796224654862907, 0.5080829499940858, 0.21103478663262976, 0.449025381600605, 0.3644495161070286, 0.30411396500720667, 0.6985925454316365, 0.27421999845366607, 0.2989550198790696, 0.7575025876593594, 0.5217355637586388, 0.6039968147390371, 0.37764047263096834, 0.4436852540665227, 0.8232289356539763, 0.42795730342022476, 0.09547842305754017, 0.7188840865789098, 0.4726480392595135, 0.5122480774979029, 0.051018707339744895, 0.25411997609836445, 0.5467034958807296, 0.9948476416183428, 0.9342890165671387, 0.24340932058042264, 0.9425849415456438, 0.35897732395035264, 0.3591421223618104, 0.2887162429039102, 0.49480083712663336, 0.7359227568010285, 0.3685733115907236, 0.36205276374472917, 0.6241584706609136, 0.456183242802639, 0.8197553423106939, 0.8644809825738713, 0.8337885029551566, 0.5313814742557865, 0.9893040183719166, 0.026186641818340517, 0.0010244691799553562, 0.21753211915479953, 0.5339511870203525, 0.34269371700051054, 0.5129891354663552, 0.47710187652124236}\n",
      "{0.6373246662603267, 0.5830490708762774, 0.6230948610184213, 0.14707152193176876, 0.052533865371145905, 0.4359378120978249, 0.08819216786999917, 0.7212745542903612, 0.8195457255711855, 0.7747598017289679, 0.14931179636734893, 0.8889994068866103, 0.08255144584818963, 0.07649529416816236, 0.3246029585118688, 0.42283674328043475, 0.10593551974204185, 0.44989286683401886}\n",
      "Mean: 0.5064786993380042\n",
      "Radius: 0.5054542301580488\n"
     ]
    },
    {
     "data": {
      "image/png": "[encoded data removed]",
      "text/plain": [
       "<Figure size 640x480 with 1 Axes>"
      ]
     },
     "metadata": {},
     "output_type": "display_data"
    }
   ],
   "source": [
    "success_coords = set()\n",
    "fail_coords = set()\n",
    "\n",
    "for i in range(100):\n",
    "    coordinate = get_next_coordinate()\n",
    "    is_success = test()\n",
    "\n",
    "    if is_success:\n",
    "        success_coords.add(coordinate)\n",
    "    else:\n",
    "        fail_coords.add(coordinate)\n",
    "print(success_coords)\n",
    "print(fail_coords)\n",
    "\n",
    "success_arr = np.array(list(success_coords))\n",
    "radius = np.abs((success_arr - success_arr.mean())).max()\n",
    "\n",
    "fail_arr = np.array(list(fail_coords))\n",
    "\n",
    "print(\"Mean:\", success_arr.mean())\n",
    "print(\"Radius:\", radius)\n",
    "\n",
    "plt.figure()\n",
    "plt.eventplot(success_arr, orientation='horizontal', colors='b')\n",
    "plt.eventplot(fail_arr, orientation='horizontal', colors='r')\n",
    "# plt.eventplot([success_arr.mean(), success_arr.mean()-radius, success_arr.mean()+radius], orientation='horizontal', colors='r')\n",
    "\n",
    "plt.hlines(1,0,1)\n",
    "plt.hlines(1.75,success_arr.mean()-radius, success_arr.mean()+radius)\n",
    "\n",
    "plt.show()"
   ]
  },
  {
   "cell_type": "code",
   "execution_count": null,
   "metadata": {},
   "outputs": [],
   "source": []
  }
 ],
 "metadata": {
  "kernelspec": {
   "display_name": "3.11.8",
   "language": "python",
   "name": "python3"
  },
  "language_info": {
   "codemirror_mode": {
    "name": "ipython",
    "version": 3
   },
   "file_extension": ".py",
   "mimetype": "text/x-python",
   "name": "python",
   "nbconvert_exporter": "python",
   "pygments_lexer": "ipython3",
   "version": "3.11.8"
  }
 },
 "nbformat": 4,
 "nbformat_minor": 2
}
