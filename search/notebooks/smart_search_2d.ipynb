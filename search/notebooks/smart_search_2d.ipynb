{
 "cells": [
  {
   "cell_type": "code",
   "execution_count": 14,
   "id": "e32b69f0",
   "metadata": {},
   "outputs": [
    {
     "name": "stdout",
     "output_type": "stream",
     "text": [
      "Current Directory: C:\\Users\\Jake\\Learning-Dynamic-Systems\\search\\notebooks\n",
      "Parent Directory: C:\\Users\\Jake\\Learning-Dynamic-Systems\n"
     ]
    }
   ],
   "source": [
    "import sys\n",
    "from pathlib import Path\n",
    "\n",
    "# Get the current notebook's directory\n",
    "parent = Path().resolve()  # Current working directory (notebook's directory)\n",
    "root = parent.parent.parent       # Go one level up\n",
    "\n",
    "print(\"Current Directory:\", parent)\n",
    "print(\"Parent Directory:\", root)\n",
    "\n",
    "# Optionally append to sys.path\n",
    "sys.path.append(str(root))\n"
   ]
  },
  {
   "cell_type": "code",
   "execution_count": 15,
   "id": "eee399c9",
   "metadata": {
    "vscode": {
     "languageId": "shellscript"
    }
   },
   "outputs": [
    {
     "name": "stdout",
     "output_type": "stream",
     "text": [
      "Requirement already satisfied: redis[hiredis] in c:\\users\\jake\\learning-dynamic-systems\\.venv\\lib\\site-packages (5.2.1)\n",
      "Requirement already satisfied: hiredis>=3.0.0 in c:\\users\\jake\\learning-dynamic-systems\\.venv\\lib\\site-packages (from redis[hiredis]) (3.1.0)\n",
      "Note: you may need to restart the kernel to use updated packages.\n"
     ]
    }
   ],
   "source": [
    "pip install redis[hiredis]"
   ]
  },
  {
   "cell_type": "markdown",
   "id": "0b912083",
   "metadata": {},
   "source": [
    "## Initialise ARMAX System and Generate Data"
   ]
  },
  {
   "cell_type": "code",
   "execution_count": 16,
   "id": "b236dd68",
   "metadata": {},
   "outputs": [],
   "source": [
    "from indirect_identification.armax import ARMAX\n",
    "from indirect_identification.d_tfs import d_tfs\n",
    "import numpy as np\n",
    "from scipy import signal, optimize\n",
    "# y(t) = -ay(t-1) + bu(t-1) + e(t)\n",
    "\n",
    "# True parameters\n",
    "a1_true = 0.2\n",
    "b1_true = 0.8\n",
    "\n",
    "A = [1, a1_true]\n",
    "B = [b1_true]\n",
    "C = [1]\n",
    "F = [0]\n",
    "L = [1]\n",
    "\n",
    "n_samples = 100\n",
    "\n",
    "# Initialise the system\n",
    "armax_model = ARMAX(A, B, C, F, L)\n",
    "R = signal.square(np.linspace(0, 10*np.pi, n_samples))\n",
    "Y, U, N, R = armax_model.simulate(n_samples, R, noise_std=1)\n",
    "\n",
    "# Least squares estimate using scipy\n"
   ]
  },
  {
   "cell_type": "markdown",
   "id": "4fb3454e",
   "metadata": {},
   "source": [
    "## Least Squares callback"
   ]
  },
  {
   "cell_type": "code",
   "execution_count": 18,
   "id": "514a4c42",
   "metadata": {},
   "outputs": [],
   "source": [
    "from indirect_identification.d_tfs import d_tfs\n",
    "import numpy as np\n",
    "\n",
    "is_verbose = False\n",
    "# Least squares function\n",
    "def test_ls(params, U, Y):\n",
    "    \"\"\"\n",
    "        params: vector of parameters to test\n",
    "        K:      gain of the controller for this test run. Currently assumed to be constant\n",
    "        U: U_t signal\n",
    "        Y: Y_t signal\n",
    "    \"\"\"\n",
    "    if is_verbose:\n",
    "        print(f\"Calculating loss with params {params}\")\n",
    "        [print(f\"Number of inputs: {len(U)}\")]\n",
    "        [print(f\"Number of outputs: {len(Y)}\")]\n",
    "    a, b = params\n",
    "\n",
    "\n",
    "    A = [1, a]\n",
    "    B = [0, b]\n",
    "    C = [1]\n",
    "\n",
    "    G = d_tfs((B, A))\n",
    "    H = d_tfs((C,A))\n",
    "\n",
    "    YGU = Y - G * U\n",
    "    N_hat = (1/H) * YGU\n",
    "\n",
    "    ret_val = np.sum([N_hat**2])  # Return SSE\n",
    "    if is_verbose:\n",
    "        print(ret_val)\n",
    "    return ret_val"
   ]
  },
  {
   "cell_type": "markdown",
   "id": "362e8deb",
   "metadata": {},
   "source": [
    "## Calculate the LSE"
   ]
  },
  {
   "cell_type": "code",
   "execution_count": 19,
   "id": "63637e04",
   "metadata": {},
   "outputs": [
    {
     "name": "stdout",
     "output_type": "stream",
     "text": [
      "[0.21783001 0.902421  ]\n"
     ]
    }
   ],
   "source": [
    "\n",
    "x0 = np.array([0, 0]) # Initial estimates\n",
    "res = optimize.least_squares(test_ls, x0, args=(U, Y))\n",
    "params_ls = res.x\n",
    "\n",
    "\n",
    "\n",
    "print(params_ls)\n",
    "# armax_model.plot_results(Y, U, N, R)"
   ]
  },
  {
   "cell_type": "markdown",
   "id": "904033bb",
   "metadata": {},
   "source": [
    "## Initialise the SPS Model and Search Callback"
   ]
  },
  {
   "cell_type": "code",
   "execution_count": 17,
   "id": "ef0b837f",
   "metadata": {},
   "outputs": [],
   "source": [
    "# Initialise SPS \n",
    "from indirect_identification.sps_indirect import SPS_indirect_model\n",
    "n_samples = 50\n",
    "\n",
    "m = 100\n",
    "q = 5\n",
    "\n",
    "model = SPS_indirect_model(m, q)\n",
    "\n",
    "def sps_test_function(params, U, Y):\n",
    "    print(\"Testing\", params)\n",
    "    a, b = params\n",
    "    A = [1, a]\n",
    "    B = [0, b]\n",
    "    C = [1]\n",
    "\n",
    "    G = (B, A)  # G should be a tuple of arrays\n",
    "    H = (C, A)  # H should be a tuple of arrays\n",
    "\n",
    "\n",
    "    # Check the condition and store the result if true\n",
    "    in_sps, S1 = model.open_loop_sps(G, H, Y, U, 1, 1)  # Assuming Y and U are defined\n",
    "    return in_sps\n",
    "\n"
   ]
  },
  {
   "cell_type": "markdown",
   "id": "05cb3990",
   "metadata": {},
   "source": [
    "### Generate Unit Vectors"
   ]
  },
  {
   "cell_type": "code",
   "execution_count": null,
   "id": "941094a0",
   "metadata": {},
   "outputs": [
    {
     "name": "stdout",
     "output_type": "stream",
     "text": [
      "[array([0, 1]), array([1, 0])]\n"
     ]
    }
   ],
   "source": [
    "n_dim = 2\n",
    "n_random_vectors = 10\n",
    "\n",
    "vectors = []\n",
    "\n",
    "# Generate Basis Vectors\n",
    "v1 = np.array([0,1])\n",
    "v2 = np.array([1,0])\n",
    "\n",
    "vectors.extend([v1, v2])\n",
    "\n",
    "for _ in range(n_random_vectors):\n",
    "    rand_vec = np.random.randn()\n",
    "\n",
    "print(vectors)"
   ]
  },
  {
   "cell_type": "markdown",
   "id": "b873721a",
   "metadata": {},
   "source": [
    "## Plot the Results"
   ]
  },
  {
   "cell_type": "code",
   "execution_count": 22,
   "id": "7dfbdf14",
   "metadata": {},
   "outputs": [
    {
     "data": {
      "image/png": "[encoded data removed]",
      "text/plain": [
       "<Figure size 640x480 with 1 Axes>"
      ]
     },
     "metadata": {},
     "output_type": "display_data"
    }
   ],
   "source": [
    "# Plot results\n",
    "import matplotlib.pyplot as plt\n",
    "\n",
    "fig, ax = plt.subplots()\n",
    "ls_a, ls_b = params_ls\n",
    "ax.plot(ls_a, ls_b, 'o', label=\"Least Squares Estimate\")\n",
    "ax.plot(a1_true, b1_true, 'x', label=\"True Parameter\")\n",
    "ax.legend()\n",
    "ax.set_xlim(-1, 1)\n",
    "ax.set_ylim(-1, 1)\n",
    "ax.set_xlabel(\"a\")\n",
    "ax.set_ylabel(\"b\")\n",
    "\n",
    "plt.show()"
   ]
  }
 ],
 "metadata": {
  "kernelspec": {
   "display_name": ".venv",
   "language": "python",
   "name": "python3"
  },
  "language_info": {
   "codemirror_mode": {
    "name": "ipython",
    "version": 3
   },
   "file_extension": ".py",
   "mimetype": "text/x-python",
   "name": "python",
   "nbconvert_exporter": "python",
   "pygments_lexer": "ipython3",
   "version": "3.12.8"
  }
 },
 "nbformat": 4,
 "nbformat_minor": 5
}
