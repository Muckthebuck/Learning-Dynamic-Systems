{
 "cells": [
  {
   "cell_type": "markdown",
   "metadata": {},
   "source": [
    "# Testing an 'online' estimator for $R_n$"
   ]
  },
  {
   "cell_type": "markdown",
   "metadata": {},
   "source": [
    "### Imports"
   ]
  },
  {
   "cell_type": "code",
   "execution_count": 1,
   "metadata": {},
   "outputs": [],
   "source": [
    "import numpy as np\n",
    "import scipy\n",
    "import matplotlib.pyplot as plt"
   ]
  },
  {
   "cell_type": "markdown",
   "metadata": {},
   "source": [
    "### Noise Generator $N_t$\n",
    "A core assumption of the SPS algorithm is that the noise is zero mean, symmetric and iid"
   ]
  },
  {
   "cell_type": "markdown",
   "metadata": {},
   "source": [
    "# ARMAX Generator\n",
    "Class for simulating a system of the form $A(q)y(t) = B(q)u(t) + C(q)e(t) + D$\n",
    "\n",
    "This class has been developed with the intention of running it in 'online' mode where an update function will be called at each cycle"
   ]
  },
  {
   "cell_type": "code",
   "execution_count": 2,
   "metadata": {},
   "outputs": [],
   "source": [
    "class ARMAX_Generator:\n",
    "    def __init__(self, A: list, B: list, C: list, D: list, input_controller) -> None:\n",
    "        # System Parameters\n",
    "        self.A = A  # AR coefficients\n",
    "        self.B = B  # X input coefficients\n",
    "        self.C = C  # MA coefficients\n",
    "        self.D = D  # Constant term\n",
    "\n",
    "        self.order = max(len(A), len(B), len(C)) \n",
    "\n",
    "        def temp_input_controller(y, u) -> float: \n",
    "            sigma = 0.1\n",
    "            return 0.4 * y[-1] + np.random.normal(sigma)\n",
    "\n",
    "        # TODO replace this with the input parameter in the constructor\n",
    "        self.input_controller = temp_input_controller #input_controller\n",
    "\n",
    "        # State\n",
    "        # The below vectors should all be of the same length equal to the current time step\n",
    "        self.y = []  # Output of the system\n",
    "        self.u = []  # Input to the system\n",
    "        self.e = []  # Noise input to the system\n",
    "\n",
    "    # TODO Replace this with a user-provided noise function which can be any zero-mean symmetric iid noise source\n",
    "    def generate_noise(self) -> float:\n",
    "        sigma = 0.1\n",
    "        self.e.append(np.random.normal(0, sigma))\n",
    "    \n",
    "    # Generate new datapoints for the next timestep and append it to the system's state\n",
    "    def generate_datapoint(self) -> None: \n",
    "        # AR component\n",
    "        overlap = min(len(self.A)-1, len(self.y)) # Calculate the overlap between A(2), A(3), A(...) and the past inputs\n",
    "        ar_sum = np.matmul(self.A[1:overlap+1:][::-1], self.y[-overlap::]) # Reverse the order of the coefficients and multiply the matrices\n",
    "\n",
    "        # Exogenous input component\n",
    "        overlap = min(len(self.B), len(self.u))\n",
    "        exo_sum = np.matmul(self.B[:overlap:][::-1], self.u[-overlap::])\n",
    "\n",
    "        # MA component\n",
    "        overlap = min(len(self.C), len(self.e))\n",
    "        ma_sum = np.matmul(self.C[:overlap:][::-1], self.e[-overlap::])\n",
    "\n",
    "        # Compute output\n",
    "        self.y.append( -ar_sum + exo_sum + ma_sum + self.D / self.A[0])\n",
    "        self.u.append( self.input_controller(self.y, self.u) )"
   ]
  },
  {
   "cell_type": "code",
   "execution_count": 3,
   "metadata": {},
   "outputs": [],
   "source": [
    "class LqrController:\n",
    "    def __init__(self) -> None:\n",
    "        self.is_reuse_noise = True  # Set flag to true if the noise samples should be retained across multiple calculations of output\n",
    "                                    # This should help with the issue where random noise in the controller output could not be captured when calculating SPS\n",
    "        self.t = 0\n",
    "        self.Nt = [] # Vector of noise values\n",
    "\n",
    "        self.K = 0.5\n",
    "\n",
    "        self.sigma = 0.001 # Variance of noise generated\n",
    "\n",
    "    # Generates t length vector of noise values\n",
    "    def regenerate_noise(self):\n",
    "        self.Nt = [ np.random.normal(self.sigma) for x in range(self.t)]\n",
    "\n",
    "    # TODO: Define the logic for the online controller\n",
    "    def update_gain(self):\n",
    "        pass\n",
    "\n",
    "    # This function can be passed into the ARMAX Generator instance\n",
    "    def generate_output(self, prev_y: float, t: int) -> np.ndarray:\n",
    "        noise = 0.0\n",
    "\n",
    "        if self.is_reuse_noise:\n",
    "            if len(self.Nt) < t+1:\n",
    "                raise \"Error: noise samples not initialised\"\n",
    "            noise = self.Nt[t]\n",
    "        else:\n",
    "            noise = np.random.normal(self.sigma)\n",
    "            if len(self.Nt) < t+1:\n",
    "                self.Nt = np.concatenate([self.Nt, np.zeros(t - len(self.Nt) + 1)])\n",
    "            self.Nt[t] = noise\n",
    "        \n",
    "        return self.K * prev_y + noise\n"
   ]
  },
  {
   "cell_type": "code",
   "execution_count": 4,
   "metadata": {},
   "outputs": [
    {
     "name": "stdout",
     "output_type": "stream",
     "text": [
      "-1.4398420570790695\n",
      "-0.22187444950621804\n",
      "-0.22187444950621804\n"
     ]
    }
   ],
   "source": [
    "# LQR Testing\n",
    "controller = LqrController()\n",
    "\n",
    "y = [0 for x in range(50)]\n",
    "controller.t = len(y)\n",
    "controller.is_reuse_noise = False\n",
    "# controller.regenerate_noise()\n",
    "\n",
    "print(controller.generate_output(y[0], 50))\n",
    "print(controller.generate_output(y[0], 50))\n",
    "controller.is_reuse_noise = True\n",
    "print(controller.generate_output(y[0], 50))\n"
   ]
  },
  {
   "cell_type": "markdown",
   "metadata": {},
   "source": [
    "# SPS Algorithm"
   ]
  },
  {
   "cell_type": "code",
   "execution_count": 50,
   "metadata": {},
   "outputs": [],
   "source": [
    "class SPS:\n",
    "    def __init__(self, p:float=(1-5/40), m:int=40, q:int=5, n:int=0, T:int=1) -> None:\n",
    "        self.p = p # Confidence probability\n",
    "        self.m = m # Integer m such that p = 1 − q/m\n",
    "        self.q = q # Integer q such that p = 1 − q/m\n",
    "        self.n = n # Number of data points\n",
    "\n",
    "        self.T = T # block SPS window size\n",
    "        self.T_repetitions_left: int = 0\n",
    "        \n",
    "        self.alpha = None # Random signs\n",
    "        self.pi = None    # Random permutation\n",
    "\n",
    "    # Process one time step\n",
    "    # This is the main function for the real-time SPS implementation\n",
    "    def update(self) -> None:\n",
    "        self.n += 1\n",
    "        self.append_alpha_column()\n",
    "        self.generate_random_perm()\n",
    "\n",
    "    # Generate a column of alpha values\n",
    "    # This should be called whenever we add another data sample (n -> n+1)\n",
    "    def append_alpha_column(self) -> None:\n",
    "        new_col = None\n",
    "\n",
    "        if self.T > 1 and self.T_repetitions_left > 0:\n",
    "            self.T_repetitions_left -= 1 # Decrement repetitions\n",
    "\n",
    "            # Repeat the last column in the array\n",
    "            new_col = self.alpha[:, [-1]]\n",
    "\n",
    "        else:\n",
    "            # Check if we need to reset T\n",
    "            if self.T > 1:\n",
    "                self.T_repetitions_left = self.T - 1\n",
    "\n",
    "            # Generate new column of random values\n",
    "            options = [-1, 1]\n",
    "            new_col = np.transpose(np.array([[np.random.choice(options) for x in range(self.m)]]))\n",
    "\n",
    "        # Update the state of the class instance\n",
    "        if self.alpha is None:\n",
    "            self.alpha = new_col\n",
    "        else:\n",
    "            self.alpha = np.concatenate([self.alpha, new_col], axis=1)\n",
    "\n",
    "    # Generates m-by-n matrix of integers for ordering SPS indicators\n",
    "    # TODO Determine if there's anyway to avoid regenerating old values in the pi matrix. \n",
    "    def generate_random_perm(self) -> None:\n",
    "        self.pi = np.array([np.random.permutation(range(self.n)) for x in range(self.m)]) \n",
    "\n",
    "    # TODO Test this code\n",
    "    def least_square_estimator(self, X: np.ndarray, y: np.ndarray) -> np.ndarray:\n",
    "        theta_hat = np.linalg.lstsq(np.matmul(np.transpose(X), X), np.matmul(np.transpose(X), y))\n",
    "        \n",
    "        return theta_hat\n",
    "    \n",
    "    def create_feature_matrix(self, A: np.ndarray, B: np.ndarray, C: np.ndarray, y: np.ndarray, u: np.ndarray) -> np.ndarray:\n",
    "        N = len(y)\n",
    "        matrix_length = len(A) - 1 + len(B)\n",
    "        \n",
    "        X = np.zeros((N, matrix_length))\n",
    "\n",
    "        # TODO Check which index we should start on \n",
    "        # Should it be the first X with no zero values or t=0\n",
    "        for t in range(N):\n",
    "            phi = self.get_phi(A, B, C, y, u, t)\n",
    "            X[t,:] = phi\n",
    "\n",
    "        return X\n",
    "\n",
    "    def get_phi(self, A: np.ndarray, B: np.ndarray, C: np.ndarray, y: np.ndarray, u: np.ndarray, t: int) -> np.ndarray:\n",
    "        # This vector will consist of negative A parameters (except A0) and all B parameters\n",
    "        # The noise parameter matrix C will be ignored\n",
    "\n",
    "        num_y_samples = len(A) - 1 # Ignore first A parameter\n",
    "        num_u_samples = len(B)\n",
    "\n",
    "        # Calculate how many zeros need to be padded to output\n",
    "        num_y_zeros = max(num_y_samples - t, 0)\n",
    "        num_u_zeros = max(num_u_samples - t-1, 0)\n",
    "\n",
    "        y_temp = y\n",
    "        u_temp = u\n",
    "\n",
    "        if num_y_zeros > 0:\n",
    "            # Pad zeros to the left of the input if necessary\n",
    "            zeros = num_y_zeros * [0]\n",
    "            y_temp = np.concatenate([zeros, y])\n",
    "    \n",
    "        if num_u_zeros > 0:\n",
    "            zeros = num_u_zeros * [0]\n",
    "            u_temp = np.concatenate([zeros, u])        \n",
    "\n",
    "        phi_y = y_temp[t+num_y_zeros-num_y_samples:t+num_y_zeros][::-1]\n",
    "        \n",
    "        # phi_u = u_temp[t:t-num_u_samples:-1]\n",
    "        phi_u = u_temp[t+num_u_zeros-num_u_samples+1:t+num_u_zeros+1][::-1]\n",
    "\n",
    "        return np.concatenate([phi_y, phi_u])\n",
    "    \n",
    "    def sps_indicator(self, y: np.ndarray, u: np.ndarray, A_star: np.ndarray, B_star: np.ndarray, C_star: np.ndarray, D_star: np.ndarray, controller, createFeatureMatrix) -> bool:\n",
    "        # Since we are using the ARMAX format, we are assuming that the system is closed-loop\n",
    "        # We must first convert this system into an open loop system so that the SPS method can be used\n",
    "        # We will be using the 'indirect PEM' method from the 'Closed-Loop Applicability of the Sign-Perturbed Sums Method' paper\n",
    "        # We are initially identifying the term Kappa which is then converted into the system parameters of interest theta\n",
    "        \n",
    "        A_yt = self.basic_filter(A_star, y) # Compute A(q)y_t\n",
    "        B_ut = self.basic_filter(B_star, u) # Compute B(q)u_t\n",
    "\n",
    "        diff_AB = A_yt - B_ut\n",
    "\n",
    "        # Reconstruct the noise C^-1(A(q)y_t - B(q)u_t)\n",
    "        nt_theta = self.filter([1], C_star, diff_AB)\n",
    "\n",
    "    def sps_direct(self, y, u, A_star, B_star, C_star, D_star, controller, createFeatureMatrix) -> bool:\n",
    "        # Reconstruct the noise\n",
    "        A_yt = self.basic_filter(A_star, y) # Compute A(q)y_t\n",
    "        B_ut = self.basic_filter(B_star, u) # Compute B(q)u_t\n",
    "\n",
    "        diff_AB = A_yt - B_ut\n",
    "\n",
    "        nt_pred = self.filter([1], C_star, diff_AB)\n",
    "\n",
    "        sp_errors = np.multiply(self.alpha * nt_pred) # Regenerate sign perturbed noise\n",
    "\n",
    "        # Generate new y_bar(t) = B(q)U_t + alpha_i,t * C(q) * nt_pred(t)\n",
    "\n",
    "        # TODO: Work out what W and Q vectors are in psi_t(theta) definition\n",
    "        # Is it just the phi matrix from the other paper? V confusing :) \n",
    "        # If so, then phi(t) would be [a1, a2, ... b1, b2, ..., c1, c2, ... ]'\n",
    "        # This is what we are using the createFeatureMatrix function in matlab for \n",
    "\n",
    "    # FIR Filter where the A matrix is [1]\n",
    "    def basic_filter(self, B: np.ndarray, X: np.ndarray) -> np.ndarray:\n",
    "        # return np.convolve(B, X)[:len(X)]\n",
    "        return scipy.signal.lfilter(B, [1.0], X)\n",
    "    \n",
    "    def filter(self, B: np.ndarray, A: np.ndarray, X) -> np.ndarray:\n",
    "        return scipy.signal.lfilter(B, A, X)\n"
   ]
  },
  {
   "cell_type": "markdown",
   "metadata": {},
   "source": [
    "# Auxilliary Functions"
   ]
  },
  {
   "cell_type": "code",
   "execution_count": 47,
   "metadata": {},
   "outputs": [],
   "source": [
    "def create_feature_matrix(y: np.ndarray, u: np.ndarray, nt: np.ndarray):\n",
    "    if len(y) != len(u):\n",
    "        raise \"Vectors y and u must have the same length\"\n",
    "    \n",
    " "
   ]
  },
  {
   "cell_type": "markdown",
   "metadata": {},
   "source": [
    "# Testing"
   ]
  },
  {
   "cell_type": "code",
   "execution_count": 51,
   "metadata": {},
   "outputs": [
    {
     "name": "stdout",
     "output_type": "stream",
     "text": [
      "[1, 2, 3, 4, 5]\n",
      "[6, 7, 8, 9, 10]\n",
      "[[ 0.  0.  6.  0.]\n",
      " [ 1.  0.  7.  6.]\n",
      " [ 2.  1.  8.  7.]\n",
      " [ 3.  2.  9.  8.]\n",
      " [ 4.  3. 10.  9.]]\n"
     ]
    }
   ],
   "source": [
    "# SPS Testing\n",
    "sps = SPS(p=1-1/8, T=1)\n",
    "\n",
    "for i in range(10):\n",
    "    sps.update()\n",
    "    \n",
    "# print(sps.alpha)\n",
    "# print(sps.pi)\n",
    "\n",
    "A = [1, 0.5, 0.25]\n",
    "B = [1,2]\n",
    "C = [1]\n",
    "\n",
    "y = [1,2,3,4,5]\n",
    "u = [6,7,8,9,10]\n",
    "\n",
    "print(y)\n",
    "print(u)\n",
    "# sps.get_phi(A, B, C, y, u, 2)\n",
    "\n",
    "# print(sps.get_phi(A,B,C,y,u, 3))\n",
    "\n",
    "X = sps.create_feature_matrix(A, B, C, y, u)\n",
    "print(X)"
   ]
  },
  {
   "cell_type": "code",
   "execution_count": 7,
   "metadata": {},
   "outputs": [
    {
     "data": {
      "image/png": "[encoded data removed]",
      "text/plain": [
       "<Figure size 640x480 with 1 Axes>"
      ]
     },
     "metadata": {},
     "output_type": "display_data"
    }
   ],
   "source": [
    "# Test the ARMAX Generator\n",
    "theta_real = [0.44, 0.33, 0]\n",
    "A = [1, -theta_real[0]];    # AR coefficients\n",
    "B = [0, theta_real[1]];     # MA coefficients\n",
    "C = [1, theta_real[2]];     # input coefficients\n",
    "D = 0;                      # Constant term\n",
    "generator = ARMAX_Generator(A, B, C, D, None)\n",
    "\n",
    "for i in range(100):\n",
    "    generator.generate_noise()\n",
    "    generator.generate_datapoint()\n",
    "\n",
    "\n",
    "\n",
    "fig = plt.figure()\n",
    "plt.plot(generator.y)\n",
    "plt.plot(generator.e)\n",
    "plt.plot(generator.u)\n",
    "plt.legend(['Output', 'Noise', 'Input'])\n",
    "plt.show()"
   ]
  },
  {
   "cell_type": "code",
   "execution_count": 127,
   "metadata": {},
   "outputs": [],
   "source": [
    "# TODO: PEM Estimate\n",
    "\n",
    "# Model Orders\n",
    "na = 1  # Order of A(q)\n",
    "nb = 1  # Order of B(q)\n",
    "nc = 0  # Order of C(q)\n",
    "nk = 1  # Input delay\n",
    "\n"
   ]
  }
 ],
 "metadata": {
  "kernelspec": {
   "display_name": "Python 3",
   "language": "python",
   "name": "python3"
  },
  "language_info": {
   "codemirror_mode": {
    "name": "ipython",
    "version": 3
   },
   "file_extension": ".py",
   "mimetype": "text/x-python",
   "name": "python",
   "nbconvert_exporter": "python",
   "pygments_lexer": "ipython3",
   "version": "3.11.9"
  }
 },
 "nbformat": 4,
 "nbformat_minor": 2
}
